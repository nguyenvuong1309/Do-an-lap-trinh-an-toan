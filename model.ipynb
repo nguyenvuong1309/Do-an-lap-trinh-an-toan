{
  "nbformat": 4,
  "nbformat_minor": 0,
  "metadata": {
    "colab": {
      "provenance": [],
      "mount_file_id": "1SZ5HaWkP9TqA34CvjQV5RdnYzoYWmjxp",
      "authorship_tag": "ABX9TyOanQq3YRy4GyW38cOFWlz5",
      "include_colab_link": true
    },
    "kernelspec": {
      "name": "python3",
      "display_name": "Python 3"
    },
    "language_info": {
      "name": "python"
    }
  },
  "cells": [
    {
      "cell_type": "markdown",
      "metadata": {
        "id": "view-in-github",
        "colab_type": "text"
      },
      "source": [
        "<a href=\"https://colab.research.google.com/github/nguyenvuong1309/Do-an-lap-trinh-an-toan/blob/main/model.ipynb\" target=\"_parent\"><img src=\"https://colab.research.google.com/assets/colab-badge.svg\" alt=\"Open In Colab\"/></a>"
      ]
    },
    {
      "cell_type": "code",
      "source": [
        "from google.colab import drive\n",
        "drive.mount('/content/drive')"
      ],
      "metadata": {
        "colab": {
          "base_uri": "https://localhost:8080/"
        },
        "id": "oY10aIXeTX0x",
        "outputId": "f23ad875-23e3-46d1-e292-2ef9e80ed381"
      },
      "execution_count": 2,
      "outputs": [
        {
          "output_type": "stream",
          "name": "stdout",
          "text": [
            "Drive already mounted at /content/drive; to attempt to forcibly remount, call drive.mount(\"/content/drive\", force_remount=True).\n"
          ]
        }
      ]
    },
    {
      "cell_type": "code",
      "execution_count": 3,
      "metadata": {
        "id": "JfaeXIlAKieH"
      },
      "outputs": [],
      "source": [
        "import tensorflow as tf\n",
        "from tensorflow import keras\n",
        "from tensorflow.keras import layers, models\n",
        "from tensorflow.keras.utils import to_categorical\n",
        "import pandas as pd\n",
        "from numpy import zeros, newaxis\n",
        "import numpy as np\n",
        "from keras.layers import Dense, Embedding, LSTM, SpatialDropout1D\n",
        "\n"
      ]
    },
    {
      "cell_type": "code",
      "source": [
        "csv_file_path = '/content/drive/MyDrive/Colab/dataset/sample.csv'\n",
        "df = pd.read_csv(csv_file_path)\n"
      ],
      "metadata": {
        "id": "3cYq2afuKp6C"
      },
      "execution_count": 4,
      "outputs": []
    },
    {
      "cell_type": "code",
      "source": [
        "print(df.shape)"
      ],
      "metadata": {
        "colab": {
          "base_uri": "https://localhost:8080/"
        },
        "id": "vHmW6ZnOLVmI",
        "outputId": "2e2b1ab1-895f-49d7-87ba-4eac9663cc3a"
      },
      "execution_count": 5,
      "outputs": [
        {
          "output_type": "stream",
          "name": "stdout",
          "text": [
            "(181641, 52)\n"
          ]
        }
      ]
    },
    {
      "cell_type": "code",
      "source": [
        "print(df[:1])"
      ],
      "metadata": {
        "colab": {
          "base_uri": "https://localhost:8080/"
        },
        "id": "4WPrwCjGLXAr",
        "outputId": "2248ae1d-1025-4b58-e368-73bf42d76f79"
      },
      "execution_count": 6,
      "outputs": [
        {
          "output_type": "stream",
          "name": "stdout",
          "text": [
            "   Index         1         2         3         4         5         6  \\\n",
            "0      0  0.252445 -0.119424 -0.035009 -0.059346 -0.057337  0.145114   \n",
            "\n",
            "          7         8         9  ...        42        43        44        45  \\\n",
            "0 -0.249521  0.231396 -0.202908  ...  0.188895  0.113198 -0.120779  0.115096   \n",
            "\n",
            "         46        47        48        49        50  label  \n",
            "0 -0.233971 -0.074264 -0.472756 -0.001527 -0.665612    0.0  \n",
            "\n",
            "[1 rows x 52 columns]\n"
          ]
        }
      ]
    },
    {
      "cell_type": "code",
      "source": [
        "dataset = df"
      ],
      "metadata": {
        "id": "gQxhaKhVWYtE"
      },
      "execution_count": 7,
      "outputs": []
    },
    {
      "cell_type": "code",
      "source": [
        "dataset = tf.constant(dataset)\n",
        "dataset = dataset[1:,1:]"
      ],
      "metadata": {
        "id": "MF2EltRSLauR"
      },
      "execution_count": 8,
      "outputs": []
    },
    {
      "cell_type": "code",
      "source": [
        "def splits(dataset,TRAIN_RATIO,VAL_RATIO,TEST_RATIO):\n",
        "  DATASET_SIZE = len(dataset)\n",
        "\n",
        "  train_dataset = dataset.take(int(DATASET_SIZE * TRAIN_RATIO))\n",
        "\n",
        "  val_test_dataset = dataset.skip(int(DATASET_SIZE * TRAIN_RATIO))\n",
        "\n",
        "  val_dataset = val_test_dataset.take(int(DATASET_SIZE * VAL_RATIO))\n",
        "\n",
        "  test_dataset = val_test_dataset.skip(int(DATASET_SIZE * VAL_RATIO))\n",
        "\n",
        "  return train_dataset, val_dataset, test_dataset"
      ],
      "metadata": {
        "id": "fTKodQWyKvpr"
      },
      "execution_count": 9,
      "outputs": []
    },
    {
      "cell_type": "code",
      "source": [
        "len(dataset)"
      ],
      "metadata": {
        "colab": {
          "base_uri": "https://localhost:8080/"
        },
        "id": "rHtpqo8zMDms",
        "outputId": "10d0e611-c02e-4434-8840-d0aeca4558be"
      },
      "execution_count": 10,
      "outputs": [
        {
          "output_type": "execute_result",
          "data": {
            "text/plain": [
              "181640"
            ]
          },
          "metadata": {},
          "execution_count": 10
        }
      ]
    },
    {
      "cell_type": "code",
      "source": [
        "TRAIN_RATIO=0.6\n",
        "VAL_RATIO=0.2\n",
        "TEST_RATIO=0.2\n",
        "\n",
        "#dataset = tf.data.Dataset.range(10)\n",
        "#train_dataset, val_dataset, test_dataset = splits(dataset,TRAIN_RATIO,VAL_RATIO,TEST_RATIO)\n",
        "train_dataset = dataset[:int(TRAIN_RATIO * len(dataset))]\n",
        "val_dataset = dataset[int(TRAIN_RATIO * len(dataset)) : int(TRAIN_RATIO * len(dataset) + VAL_RATIO * len(dataset))]\n",
        "test_dataset = dataset[(int(TRAIN_RATIO * len(dataset)) + int(VAL_RATIO * len(dataset))) :]"
      ],
      "metadata": {
        "id": "ggJOHkDdKzGj"
      },
      "execution_count": 11,
      "outputs": []
    },
    {
      "cell_type": "code",
      "source": [
        "print(train_dataset.shape)\n",
        "print(val_dataset.shape)\n",
        "print(test_dataset.shape)"
      ],
      "metadata": {
        "colab": {
          "base_uri": "https://localhost:8080/"
        },
        "id": "UG4VKQoBMt0l",
        "outputId": "e83ae026-00a1-4c53-fe47-a10d1cf4a1b2"
      },
      "execution_count": 12,
      "outputs": [
        {
          "output_type": "stream",
          "name": "stdout",
          "text": [
            "(108984, 51)\n",
            "(36328, 51)\n",
            "(36328, 51)\n"
          ]
        }
      ]
    },
    {
      "cell_type": "code",
      "source": [
        "108981 + 36327 * 2"
      ],
      "metadata": {
        "colab": {
          "base_uri": "https://localhost:8080/"
        },
        "id": "zXwoGKtbNalu",
        "outputId": "3a901fb7-3cd0-4fcf-fb52-49f98c28b8d9"
      },
      "execution_count": 13,
      "outputs": [
        {
          "output_type": "execute_result",
          "data": {
            "text/plain": [
              "181635"
            ]
          },
          "metadata": {},
          "execution_count": 13
        }
      ]
    },
    {
      "cell_type": "code",
      "source": [
        "X_train = train_dataset[:,:-1]\n",
        "y_train = train_dataset[:,-1]\n",
        "print(X_train.shape)\n",
        "print(y_train.shape)"
      ],
      "metadata": {
        "colab": {
          "base_uri": "https://localhost:8080/"
        },
        "id": "nGDeaUnPNfYs",
        "outputId": "265f074d-134a-4d5b-cdf7-2806bf606441"
      },
      "execution_count": 14,
      "outputs": [
        {
          "output_type": "stream",
          "name": "stdout",
          "text": [
            "(108984, 50)\n",
            "(108984,)\n"
          ]
        }
      ]
    },
    {
      "cell_type": "code",
      "source": [
        "X_train = tf.expand_dims(X_train, axis=1)"
      ],
      "metadata": {
        "id": "r6in5NoVPJv_"
      },
      "execution_count": 15,
      "outputs": []
    },
    {
      "cell_type": "code",
      "source": [
        "print(X_train.shape)"
      ],
      "metadata": {
        "colab": {
          "base_uri": "https://localhost:8080/"
        },
        "id": "9REwCJb_QmvM",
        "outputId": "db7a4410-9018-4ed9-f75a-4fa2c0d96d00"
      },
      "execution_count": 16,
      "outputs": [
        {
          "output_type": "stream",
          "name": "stdout",
          "text": [
            "(108984, 1, 50)\n"
          ]
        }
      ]
    },
    {
      "cell_type": "code",
      "source": [
        "y_train = tf.keras.utils.to_categorical(y_train, num_classes=41)\n",
        "y_train.shape"
      ],
      "metadata": {
        "colab": {
          "base_uri": "https://localhost:8080/"
        },
        "id": "djAjdQumZ3qz",
        "outputId": "713d475c-3299-43e1-e608-907efab07720"
      },
      "execution_count": 17,
      "outputs": [
        {
          "output_type": "execute_result",
          "data": {
            "text/plain": [
              "(108984, 41)"
            ]
          },
          "metadata": {},
          "execution_count": 17
        }
      ]
    },
    {
      "cell_type": "code",
      "source": [
        "X_test = test_dataset[:,:-1]\n",
        "y_test = test_dataset[:,-1]\n",
        "print(X_test.shape)\n",
        "print(y_test.shape)\n",
        "X_test = tf.expand_dims(X_test, axis=1)\n",
        "print(X_test.shape)"
      ],
      "metadata": {
        "colab": {
          "base_uri": "https://localhost:8080/"
        },
        "id": "PTQH4zTQZNp1",
        "outputId": "44630062-eefd-41a8-adfe-500c78c64b4a"
      },
      "execution_count": 18,
      "outputs": [
        {
          "output_type": "stream",
          "name": "stdout",
          "text": [
            "(36328, 50)\n",
            "(36328,)\n",
            "(36328, 1, 50)\n"
          ]
        }
      ]
    },
    {
      "cell_type": "code",
      "source": [
        "y_test = tf.keras.utils.to_categorical(y_test, num_classes=41)\n",
        "y_test.shape"
      ],
      "metadata": {
        "colab": {
          "base_uri": "https://localhost:8080/"
        },
        "id": "7t73D54oZ4jD",
        "outputId": "73c2e200-deab-4753-d959-afa641776414"
      },
      "execution_count": 19,
      "outputs": [
        {
          "output_type": "execute_result",
          "data": {
            "text/plain": [
              "(36328, 41)"
            ]
          },
          "metadata": {},
          "execution_count": 19
        }
      ]
    },
    {
      "cell_type": "markdown",
      "source": [
        "# Sequential Model"
      ],
      "metadata": {
        "id": "zIJ9UmjY_j2L"
      }
    },
    {
      "cell_type": "code",
      "source": [
        "model = tf.keras.models.Sequential([\n",
        "     tf.keras.layers.InputLayer(input_shape=(1,50)),\n",
        "\n",
        "    # tf.keras.layers.Conv2D(32, (3, 3), padding='same'),\n",
        "    # tf.keras.layers.Activation('relu'),\n",
        "    # tf.keras.layers.MaxPooling2D(pool_size=(2, 2)),\n",
        "    tf.keras.layers.Flatten(),\n",
        "    tf.keras.layers.Dense(1000),\n",
        "    tf.keras.layers.Activation('relu'),\n",
        "    tf.keras.layers.Dense(512),\n",
        "    tf.keras.layers.Activation('relu'),\n",
        "    tf.keras.layers.Dense(41),\n",
        "    tf.keras.layers.Activation('softmax')\n",
        "])\n",
        "model.summary()"
      ],
      "metadata": {
        "colab": {
          "base_uri": "https://localhost:8080/"
        },
        "id": "lcNkdwieOAiA",
        "outputId": "9e51cf9f-94f8-4f3a-8188-b835887537ff"
      },
      "execution_count": 20,
      "outputs": [
        {
          "output_type": "stream",
          "name": "stdout",
          "text": [
            "Model: \"sequential\"\n",
            "_________________________________________________________________\n",
            " Layer (type)                Output Shape              Param #   \n",
            "=================================================================\n",
            " flatten (Flatten)           (None, 50)                0         \n",
            "                                                                 \n",
            " dense (Dense)               (None, 1000)              51000     \n",
            "                                                                 \n",
            " activation (Activation)     (None, 1000)              0         \n",
            "                                                                 \n",
            " dense_1 (Dense)             (None, 512)               512512    \n",
            "                                                                 \n",
            " activation_1 (Activation)   (None, 512)               0         \n",
            "                                                                 \n",
            " dense_2 (Dense)             (None, 41)                21033     \n",
            "                                                                 \n",
            " activation_2 (Activation)   (None, 41)                0         \n",
            "                                                                 \n",
            "=================================================================\n",
            "Total params: 584545 (2.23 MB)\n",
            "Trainable params: 584545 (2.23 MB)\n",
            "Non-trainable params: 0 (0.00 Byte)\n",
            "_________________________________________________________________\n"
          ]
        }
      ]
    },
    {
      "cell_type": "code",
      "source": [
        " opt = tf.keras.optimizers.RMSprop(learning_rate=0.0001)\n",
        " model.compile(loss='categorical_crossentropy',\n",
        "                optimizer=opt,\n",
        "                metrics=['accuracy'],\n",
        "                #run_eagerly=True\n",
        "               )"
      ],
      "metadata": {
        "id": "ampgayUXO0AF"
      },
      "execution_count": 21,
      "outputs": []
    },
    {
      "cell_type": "code",
      "source": [
        "model.fit(X_train,y_train,epochs=1)"
      ],
      "metadata": {
        "colab": {
          "base_uri": "https://localhost:8080/"
        },
        "id": "YjB0b1xJO5eW",
        "outputId": "0ff18ecc-2a22-48f1-da28-e6ba0f4aa5f7"
      },
      "execution_count": 22,
      "outputs": [
        {
          "output_type": "stream",
          "name": "stdout",
          "text": [
            "3406/3406 [==============================] - 57s 16ms/step - loss: 1.0227 - accuracy: 0.7624\n"
          ]
        },
        {
          "output_type": "execute_result",
          "data": {
            "text/plain": [
              "<keras.src.callbacks.History at 0x787c76dd0eb0>"
            ]
          },
          "metadata": {},
          "execution_count": 22
        }
      ]
    },
    {
      "cell_type": "code",
      "source": [
        "test_loss, test_acc = model.evaluate(X_test,  y_test, verbose=2)\n",
        "\n",
        "print('\\nTest accuracy:', test_acc)"
      ],
      "metadata": {
        "colab": {
          "base_uri": "https://localhost:8080/"
        },
        "id": "P7whruztZGJN",
        "outputId": "fe07db46-c4f7-40d4-986a-ece8c3c6bc53"
      },
      "execution_count": 23,
      "outputs": [
        {
          "output_type": "stream",
          "name": "stdout",
          "text": [
            "1136/1136 - 4s - loss: 0.9038 - accuracy: 0.7742 - 4s/epoch - 4ms/step\n",
            "\n",
            "Test accuracy: 0.7741686701774597\n"
          ]
        }
      ]
    },
    {
      "cell_type": "markdown",
      "source": [
        "# **LSTM Model**"
      ],
      "metadata": {
        "id": "CgFlObox-9LQ"
      }
    },
    {
      "cell_type": "code",
      "source": [
        "n_most_common_words = 8000\n",
        "emb_dim = 128"
      ],
      "metadata": {
        "id": "Q4Ds_aEj71Zi"
      },
      "execution_count": 24,
      "outputs": []
    },
    {
      "cell_type": "code",
      "source": [
        "model_lstm = tf.keras.models.Sequential()\n",
        "model_lstm.add(Embedding(n_most_common_words, emb_dim, input_length=50))\n",
        "model_lstm.add(SpatialDropout1D(0.7))\n",
        "model_lstm.add(LSTM(64, dropout=0.7, recurrent_dropout=0.7))\n",
        "model_lstm.add(Dense(41, activation='softmax'))\n",
        "model_lstm.compile(optimizer='adam', loss='categorical_crossentropy', metrics=['acc'])\n",
        "model_lstm.summary()"
      ],
      "metadata": {
        "colab": {
          "base_uri": "https://localhost:8080/"
        },
        "id": "U24EfapS4Su2",
        "outputId": "64d184e2-c2cf-462e-c4ba-847d6aa9fc6d"
      },
      "execution_count": 25,
      "outputs": [
        {
          "output_type": "stream",
          "name": "stdout",
          "text": [
            "Model: \"sequential_1\"\n",
            "_________________________________________________________________\n",
            " Layer (type)                Output Shape              Param #   \n",
            "=================================================================\n",
            " embedding (Embedding)       (None, 50, 128)           1024000   \n",
            "                                                                 \n",
            " spatial_dropout1d (Spatial  (None, 50, 128)           0         \n",
            " Dropout1D)                                                      \n",
            "                                                                 \n",
            " lstm (LSTM)                 (None, 64)                49408     \n",
            "                                                                 \n",
            " dense_3 (Dense)             (None, 41)                2665      \n",
            "                                                                 \n",
            "=================================================================\n",
            "Total params: 1076073 (4.10 MB)\n",
            "Trainable params: 1076073 (4.10 MB)\n",
            "Non-trainable params: 0 (0.00 Byte)\n",
            "_________________________________________________________________\n"
          ]
        }
      ]
    },
    {
      "cell_type": "code",
      "source": [
        "model_lstm.compile(optimizer='adam', loss='categorical_crossentropy', metrics=['acc'],run_eagerly=True)"
      ],
      "metadata": {
        "id": "VzK86wy5Aww8"
      },
      "execution_count": 26,
      "outputs": []
    },
    {
      "cell_type": "code",
      "source": [
        "accr = model_lstm.evaluate(tf.squeeze(tf.abs(X_test)),y_test)\n",
        "print('Test set\\n  Loss: {:0.3f}\\n  Accuracy: {:0.3f}'.format(accr[0],accr[1]))"
      ],
      "metadata": {
        "colab": {
          "base_uri": "https://localhost:8080/"
        },
        "id": "OgJHPSO98r2m",
        "outputId": "11b7524b-ee13-42e7-9948-2b30e90d1661"
      },
      "execution_count": 27,
      "outputs": [
        {
          "output_type": "stream",
          "name": "stdout",
          "text": [
            "1136/1136 [==============================] - 408s 359ms/step - loss: 3.7197 - acc: 0.0010\n",
            "Test set\n",
            "  Loss: 3.720\n",
            "  Accuracy: 0.001\n"
          ]
        }
      ]
    },
    {
      "cell_type": "code",
      "source": [
        "model_lstm.fit(tf.squeeze(tf.abs(X_train)), y_train, epochs=1)"
      ],
      "metadata": {
        "id": "SRlOiDJW4vcd",
        "colab": {
          "base_uri": "https://localhost:8080/"
        },
        "outputId": "1dff1a7d-1508-41b9-a63c-fffd9a6f22e1"
      },
      "execution_count": 28,
      "outputs": [
        {
          "output_type": "stream",
          "name": "stdout",
          "text": [
            "3406/3406 [==============================] - 2701s 793ms/step - loss: 1.0974 - acc: 0.7600\n"
          ]
        },
        {
          "output_type": "execute_result",
          "data": {
            "text/plain": [
              "<keras.src.callbacks.History at 0x787c76c41d20>"
            ]
          },
          "metadata": {},
          "execution_count": 28
        }
      ]
    }
  ]
}