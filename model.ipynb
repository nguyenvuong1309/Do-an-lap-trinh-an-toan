{
  "nbformat": 4,
  "nbformat_minor": 0,
  "metadata": {
    "colab": {
      "provenance": [],
      "mount_file_id": "1SZ5HaWkP9TqA34CvjQV5RdnYzoYWmjxp",
      "authorship_tag": "ABX9TyN4wuwRfdUli7n56oZix8xk",
      "include_colab_link": true
    },
    "kernelspec": {
      "name": "python3",
      "display_name": "Python 3"
    },
    "language_info": {
      "name": "python"
    }
  },
  "cells": [
    {
      "cell_type": "markdown",
      "metadata": {
        "id": "view-in-github",
        "colab_type": "text"
      },
      "source": [
        "<a href=\"https://colab.research.google.com/github/nguyenvuong1309/Do-an-lap-trinh-an-toan/blob/main/model.ipynb\" target=\"_parent\"><img src=\"https://colab.research.google.com/assets/colab-badge.svg\" alt=\"Open In Colab\"/></a>"
      ]
    },
    {
      "cell_type": "code",
      "source": [
        "from google.colab import drive\n",
        "drive.mount('/content/drive')"
      ],
      "metadata": {
        "colab": {
          "base_uri": "https://localhost:8080/"
        },
        "id": "oY10aIXeTX0x",
        "outputId": "3ee8b1ee-63a9-4d90-fd47-7b38cd7f7ece"
      },
      "execution_count": null,
      "outputs": [
        {
          "output_type": "stream",
          "name": "stdout",
          "text": [
            "Drive already mounted at /content/drive; to attempt to forcibly remount, call drive.mount(\"/content/drive\", force_remount=True).\n"
          ]
        }
      ]
    },
    {
      "cell_type": "code",
      "execution_count": null,
      "metadata": {
        "id": "JfaeXIlAKieH"
      },
      "outputs": [],
      "source": [
        "import tensorflow as tf\n",
        "from tensorflow.keras import layers, models\n",
        "from tensorflow.keras.utils import to_categorical\n",
        "import pandas as pd\n",
        "from numpy import zeros, newaxis\n",
        "import numpy as np\n",
        "\n"
      ]
    },
    {
      "cell_type": "code",
      "source": [
        "csv_file_path = '/content/drive/MyDrive/Colab/dataset/sample.csv'\n",
        "df = pd.read_csv(csv_file_path)\n"
      ],
      "metadata": {
        "id": "3cYq2afuKp6C"
      },
      "execution_count": null,
      "outputs": []
    },
    {
      "cell_type": "code",
      "source": [
        "print(df.shape)"
      ],
      "metadata": {
        "colab": {
          "base_uri": "https://localhost:8080/"
        },
        "id": "vHmW6ZnOLVmI",
        "outputId": "e9a99015-6e29-4a43-dfab-d138b3991be2"
      },
      "execution_count": null,
      "outputs": [
        {
          "output_type": "stream",
          "name": "stdout",
          "text": [
            "(181641, 52)\n"
          ]
        }
      ]
    },
    {
      "cell_type": "code",
      "source": [
        "print(df[:1])"
      ],
      "metadata": {
        "colab": {
          "base_uri": "https://localhost:8080/"
        },
        "id": "4WPrwCjGLXAr",
        "outputId": "b47f6ec0-65e3-4022-8aae-668f7eefd806"
      },
      "execution_count": null,
      "outputs": [
        {
          "output_type": "stream",
          "name": "stdout",
          "text": [
            "   Index         1         2         3         4         5         6  \\\n",
            "0      0  0.252445 -0.119424 -0.035009 -0.059346 -0.057337  0.145114   \n",
            "\n",
            "          7         8         9  ...        42        43        44        45  \\\n",
            "0 -0.249521  0.231396 -0.202908  ...  0.188895  0.113198 -0.120779  0.115096   \n",
            "\n",
            "         46        47        48        49        50  label  \n",
            "0 -0.233971 -0.074264 -0.472756 -0.001527 -0.665612    0.0  \n",
            "\n",
            "[1 rows x 52 columns]\n"
          ]
        }
      ]
    },
    {
      "cell_type": "code",
      "source": [
        "dataset = df"
      ],
      "metadata": {
        "id": "gQxhaKhVWYtE"
      },
      "execution_count": null,
      "outputs": []
    },
    {
      "cell_type": "code",
      "source": [
        "dataset = tf.constant(dataset)\n",
        "dataset = dataset[1:,1:]"
      ],
      "metadata": {
        "id": "MF2EltRSLauR"
      },
      "execution_count": null,
      "outputs": []
    },
    {
      "cell_type": "code",
      "source": [
        "def splits(dataset,TRAIN_RATIO,VAL_RATIO,TEST_RATIO):\n",
        "  DATASET_SIZE = len(dataset)\n",
        "\n",
        "  train_dataset = dataset.take(int(DATASET_SIZE * TRAIN_RATIO))\n",
        "\n",
        "  val_test_dataset = dataset.skip(int(DATASET_SIZE * TRAIN_RATIO))\n",
        "\n",
        "  val_dataset = val_test_dataset.take(int(DATASET_SIZE * VAL_RATIO))\n",
        "\n",
        "  test_dataset = val_test_dataset.skip(int(DATASET_SIZE * VAL_RATIO))\n",
        "\n",
        "  return train_dataset, val_dataset, test_dataset"
      ],
      "metadata": {
        "id": "fTKodQWyKvpr"
      },
      "execution_count": null,
      "outputs": []
    },
    {
      "cell_type": "code",
      "source": [
        "len(dataset)"
      ],
      "metadata": {
        "colab": {
          "base_uri": "https://localhost:8080/"
        },
        "id": "rHtpqo8zMDms",
        "outputId": "93fc3991-0370-4f30-d251-f6717a4a700c"
      },
      "execution_count": null,
      "outputs": [
        {
          "output_type": "execute_result",
          "data": {
            "text/plain": [
              "181640"
            ]
          },
          "metadata": {},
          "execution_count": 31
        }
      ]
    },
    {
      "cell_type": "code",
      "source": [
        "TRAIN_RATIO=0.6\n",
        "VAL_RATIO=0.2\n",
        "TEST_RATIO=0.2\n",
        "\n",
        "#dataset = tf.data.Dataset.range(10)\n",
        "#train_dataset, val_dataset, test_dataset = splits(dataset,TRAIN_RATIO,VAL_RATIO,TEST_RATIO)\n",
        "train_dataset = dataset[:int(TRAIN_RATIO * len(dataset))]\n",
        "val_dataset = dataset[int(TRAIN_RATIO * len(dataset)) : int(TRAIN_RATIO * len(dataset) + VAL_RATIO * len(dataset))]\n",
        "test_dataset = dataset[(int(TRAIN_RATIO * len(dataset)) + int(VAL_RATIO * len(dataset))) :]"
      ],
      "metadata": {
        "id": "ggJOHkDdKzGj"
      },
      "execution_count": null,
      "outputs": []
    },
    {
      "cell_type": "code",
      "source": [
        "print(train_dataset.shape)\n",
        "print(val_dataset.shape)\n",
        "print(test_dataset.shape)"
      ],
      "metadata": {
        "colab": {
          "base_uri": "https://localhost:8080/"
        },
        "id": "UG4VKQoBMt0l",
        "outputId": "788cd954-2962-438a-f28a-a798e66178e6"
      },
      "execution_count": null,
      "outputs": [
        {
          "output_type": "stream",
          "name": "stdout",
          "text": [
            "(108984, 51)\n",
            "(36328, 51)\n",
            "(36328, 51)\n"
          ]
        }
      ]
    },
    {
      "cell_type": "code",
      "source": [
        "108981 + 36327 * 2"
      ],
      "metadata": {
        "colab": {
          "base_uri": "https://localhost:8080/"
        },
        "id": "zXwoGKtbNalu",
        "outputId": "857f1b7d-3190-446f-fbbb-0c419137f926"
      },
      "execution_count": null,
      "outputs": [
        {
          "output_type": "execute_result",
          "data": {
            "text/plain": [
              "181635"
            ]
          },
          "metadata": {},
          "execution_count": 34
        }
      ]
    },
    {
      "cell_type": "code",
      "source": [
        "X_train = train_dataset[:,:-1]\n",
        "y_train = train_dataset[:,-1]\n",
        "print(X_train.shape)\n",
        "print(y_train.shape)"
      ],
      "metadata": {
        "colab": {
          "base_uri": "https://localhost:8080/"
        },
        "id": "nGDeaUnPNfYs",
        "outputId": "8d613377-1e8f-4b97-dc1c-2d65ea388a81"
      },
      "execution_count": null,
      "outputs": [
        {
          "output_type": "stream",
          "name": "stdout",
          "text": [
            "(108984, 50)\n",
            "(108984,)\n"
          ]
        }
      ]
    },
    {
      "cell_type": "code",
      "source": [
        "X_train = tf.expand_dims(X_train, axis=1)"
      ],
      "metadata": {
        "id": "r6in5NoVPJv_"
      },
      "execution_count": null,
      "outputs": []
    },
    {
      "cell_type": "code",
      "source": [
        "print(X_train.shape)"
      ],
      "metadata": {
        "colab": {
          "base_uri": "https://localhost:8080/"
        },
        "id": "9REwCJb_QmvM",
        "outputId": "8c428676-69c8-4a90-f5fd-e4cc5baad831"
      },
      "execution_count": null,
      "outputs": [
        {
          "output_type": "stream",
          "name": "stdout",
          "text": [
            "(108984, 1, 50)\n"
          ]
        }
      ]
    },
    {
      "cell_type": "code",
      "source": [
        "y_train = tf.keras.utils.to_categorical(y_train, num_classes=41)\n",
        "y_train.shape"
      ],
      "metadata": {
        "colab": {
          "base_uri": "https://localhost:8080/"
        },
        "id": "djAjdQumZ3qz",
        "outputId": "f839b90c-8bae-4d71-af5c-605fe9d9e7d4"
      },
      "execution_count": null,
      "outputs": [
        {
          "output_type": "execute_result",
          "data": {
            "text/plain": [
              "(108984, 41)"
            ]
          },
          "metadata": {},
          "execution_count": 38
        }
      ]
    },
    {
      "cell_type": "code",
      "source": [
        "X_test = test_dataset[:,:-1]\n",
        "y_test = test_dataset[:,-1]\n",
        "print(X_test.shape)\n",
        "print(y_test.shape)\n",
        "X_test = tf.expand_dims(X_test, axis=1)\n",
        "print(X_test.shape)"
      ],
      "metadata": {
        "colab": {
          "base_uri": "https://localhost:8080/"
        },
        "id": "PTQH4zTQZNp1",
        "outputId": "1e6dd844-0e7a-4e03-ff18-8eb97a1388e7"
      },
      "execution_count": null,
      "outputs": [
        {
          "output_type": "stream",
          "name": "stdout",
          "text": [
            "(36328, 50)\n",
            "(36328,)\n",
            "(36328, 1, 50)\n"
          ]
        }
      ]
    },
    {
      "cell_type": "code",
      "source": [
        "y_test = tf.keras.utils.to_categorical(y_test, num_classes=41)\n",
        "y_test.shape"
      ],
      "metadata": {
        "colab": {
          "base_uri": "https://localhost:8080/"
        },
        "id": "7t73D54oZ4jD",
        "outputId": "aa7bf221-e985-4999-ceac-c0bbe571a3f6"
      },
      "execution_count": null,
      "outputs": [
        {
          "output_type": "execute_result",
          "data": {
            "text/plain": [
              "(36328, 41)"
            ]
          },
          "metadata": {},
          "execution_count": 40
        }
      ]
    },
    {
      "cell_type": "code",
      "source": [
        "model = tf.keras.models.Sequential([\n",
        "     tf.keras.layers.InputLayer(input_shape=(1,50)),\n",
        "\n",
        "    # tf.keras.layers.Conv2D(32, (3, 3), padding='same'),\n",
        "    # tf.keras.layers.Activation('relu'),\n",
        "    # tf.keras.layers.MaxPooling2D(pool_size=(2, 2)),\n",
        "    tf.keras.layers.Flatten(),\n",
        "    tf.keras.layers.Dense(1000),\n",
        "    tf.keras.layers.Activation('relu'),\n",
        "    tf.keras.layers.Dense(512),\n",
        "    tf.keras.layers.Activation('relu'),\n",
        "    tf.keras.layers.Dense(41),\n",
        "    tf.keras.layers.Activation('softmax')\n",
        "])\n",
        "model.summary()"
      ],
      "metadata": {
        "colab": {
          "base_uri": "https://localhost:8080/"
        },
        "id": "lcNkdwieOAiA",
        "outputId": "3e4eb3c1-8afd-40d4-a605-2dc513edf101"
      },
      "execution_count": null,
      "outputs": [
        {
          "output_type": "stream",
          "name": "stdout",
          "text": [
            "Model: \"sequential_1\"\n",
            "_________________________________________________________________\n",
            " Layer (type)                Output Shape              Param #   \n",
            "=================================================================\n",
            " flatten_1 (Flatten)         (None, 50)                0         \n",
            "                                                                 \n",
            " dense_2 (Dense)             (None, 1000)              51000     \n",
            "                                                                 \n",
            " activation_2 (Activation)   (None, 1000)              0         \n",
            "                                                                 \n",
            " dense_3 (Dense)             (None, 512)               512512    \n",
            "                                                                 \n",
            " activation_3 (Activation)   (None, 512)               0         \n",
            "                                                                 \n",
            " dense_4 (Dense)             (None, 41)                21033     \n",
            "                                                                 \n",
            " activation_4 (Activation)   (None, 41)                0         \n",
            "                                                                 \n",
            "=================================================================\n",
            "Total params: 584545 (2.23 MB)\n",
            "Trainable params: 584545 (2.23 MB)\n",
            "Non-trainable params: 0 (0.00 Byte)\n",
            "_________________________________________________________________\n"
          ]
        }
      ]
    },
    {
      "cell_type": "code",
      "source": [
        " opt = tf.keras.optimizers.RMSprop(learning_rate=0.0001)\n",
        " model.compile(loss='categorical_crossentropy',\n",
        "                optimizer=opt,\n",
        "                metrics=['accuracy'],\n",
        "                #run_eagerly=True\n",
        "               )"
      ],
      "metadata": {
        "id": "ampgayUXO0AF"
      },
      "execution_count": null,
      "outputs": []
    },
    {
      "cell_type": "code",
      "source": [
        "model.fit(X_train,y_train,epochs=3)"
      ],
      "metadata": {
        "colab": {
          "base_uri": "https://localhost:8080/"
        },
        "id": "YjB0b1xJO5eW",
        "outputId": "cba62324-89ea-4307-cada-26c3c6a0b8b2"
      },
      "execution_count": null,
      "outputs": [
        {
          "output_type": "stream",
          "name": "stdout",
          "text": [
            "Epoch 1/3\n",
            "3406/3406 [==============================] - 46s 13ms/step - loss: 1.0246 - accuracy: 0.7622\n",
            "Epoch 2/3\n",
            "3406/3406 [==============================] - 43s 13ms/step - loss: 0.8819 - accuracy: 0.7797\n",
            "Epoch 3/3\n",
            "3406/3406 [==============================] - 44s 13ms/step - loss: 0.8053 - accuracy: 0.7925\n"
          ]
        },
        {
          "output_type": "execute_result",
          "data": {
            "text/plain": [
              "<keras.src.callbacks.History at 0x78deb0d1d8a0>"
            ]
          },
          "metadata": {},
          "execution_count": 43
        }
      ]
    },
    {
      "cell_type": "code",
      "source": [
        "test_loss, test_acc = model.evaluate(X_test,  y_test, verbose=2)\n",
        "\n",
        "print('\\nTest accuracy:', test_acc)"
      ],
      "metadata": {
        "colab": {
          "base_uri": "https://localhost:8080/"
        },
        "id": "P7whruztZGJN",
        "outputId": "f0f15e58-af51-46de-e1dc-75b21e69a55f"
      },
      "execution_count": null,
      "outputs": [
        {
          "output_type": "stream",
          "name": "stdout",
          "text": [
            "1136/1136 - 3s - loss: 0.7626 - accuracy: 0.7944 - 3s/epoch - 3ms/step\n",
            "\n",
            "Test accuracy: 0.7944009900093079\n"
          ]
        }
      ]
    },
    {
      "cell_type": "code",
      "source": [
        "#test"
      ],
      "metadata": {
        "id": "zHB17CXgfLsW"
      },
      "execution_count": null,
      "outputs": []
    }
  ]
}