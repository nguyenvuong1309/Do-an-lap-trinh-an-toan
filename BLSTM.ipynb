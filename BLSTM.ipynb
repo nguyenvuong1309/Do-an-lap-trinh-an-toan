{
  "nbformat": 4,
  "nbformat_minor": 0,
  "metadata": {
    "colab": {
      "provenance": [],
      "authorship_tag": "ABX9TyOQeFzhKy5Rb2aszcniMMHD",
      "include_colab_link": true
    },
    "kernelspec": {
      "name": "python3",
      "display_name": "Python 3"
    },
    "language_info": {
      "name": "python"
    }
  },
  "cells": [
    {
      "cell_type": "markdown",
      "metadata": {
        "id": "view-in-github",
        "colab_type": "text"
      },
      "source": [
        "<a href=\"https://colab.research.google.com/github/nguyenvuong1309/Do-an-lap-trinh-an-toan/blob/main/BLSTM.ipynb\" target=\"_parent\"><img src=\"https://colab.research.google.com/assets/colab-badge.svg\" alt=\"Open In Colab\"/></a>"
      ]
    },
    {
      "cell_type": "code",
      "execution_count": 1,
      "metadata": {
        "colab": {
          "base_uri": "https://localhost:8080/"
        },
        "id": "b9zgec2Bi3Mw",
        "outputId": "64f2abdc-3ca4-48c8-e783-1859c48377e5"
      },
      "outputs": [
        {
          "output_type": "stream",
          "name": "stdout",
          "text": [
            "Drive already mounted at /content/drive; to attempt to forcibly remount, call drive.mount(\"/content/drive\", force_remount=True).\n"
          ]
        }
      ],
      "source": [
        "from google.colab import drive\n",
        "drive.mount('/content/drive')"
      ]
    },
    {
      "cell_type": "code",
      "source": [
        "import tensorflow as tf\n",
        "from tensorflow import keras\n",
        "from tensorflow.keras import layers, models\n",
        "from tensorflow.keras.utils import to_categorical\n",
        "import pandas as pd\n",
        "from numpy import zeros, newaxis\n",
        "import numpy as np\n",
        "from keras.layers import Dense, Embedding, LSTM, SpatialDropout1D, Bidirectional,Activation\n",
        "import matplotlib.pyplot as plt\n",
        "import csv\n"
      ],
      "metadata": {
        "id": "F10H8T-5i62w"
      },
      "execution_count": 2,
      "outputs": []
    },
    {
      "cell_type": "code",
      "source": [
        "csv_file_path = '/content/drive/MyDrive/Colab/dataset/text_dataset.csv'\n",
        "df = pd.read_csv(csv_file_path,sep=\",\")"
      ],
      "metadata": {
        "id": "uJ07mKCSu0pz"
      },
      "execution_count": null,
      "outputs": []
    },
    {
      "cell_type": "code",
      "source": [
        "dataset = df"
      ],
      "metadata": {
        "id": "LiIbjU8ru_ls"
      },
      "execution_count": null,
      "outputs": []
    },
    {
      "cell_type": "code",
      "source": [
        "print(dataset.head())"
      ],
      "metadata": {
        "id": "xDfZly_H39WE"
      },
      "execution_count": null,
      "outputs": []
    },
    {
      "cell_type": "code",
      "source": [
        "dataset = dataset[['1','label']]\n",
        "dataset.head()"
      ],
      "metadata": {
        "id": "nG3ldGgjzGkc"
      },
      "execution_count": null,
      "outputs": []
    },
    {
      "cell_type": "code",
      "source": [
        "print(dataset['label'].unique())\n",
        "print(len(dataset['label'].unique()))"
      ],
      "metadata": {
        "id": "NO3dSGi4wwen"
      },
      "execution_count": null,
      "outputs": []
    },
    {
      "cell_type": "code",
      "source": [
        "# train_dataset = dataset[0:int(len(dataset) * 0.8)]\n",
        "# test_dataset =  dataset[int(len(dataset) * 0.8) :]\n",
        "train_dataset = pd.DataFrame()\n",
        "test_dataset = pd.DataFrame()\n",
        "for i in range(41):\n",
        "  temp_train = dataset[dataset['label'] == i][:int(0.8 * (dataset[dataset['label'] == i].shape[0]))]\n",
        "  train_dataset = pd.concat([temp_train, train_dataset], axis=0, ignore_index=True)\n",
        "  temp_test = dataset[dataset['label'] == i][int(0.8 * (dataset[dataset['label'] == i].shape[0])) : int((dataset[dataset['label'] == 0].shape[0]))]\n",
        "  test_dataset = pd.concat([temp_test, test_dataset], axis=0, ignore_index=True)\n",
        "\n",
        "print(train_dataset['label'].value_counts())\n",
        "print(test_dataset['label'].value_counts())"
      ],
      "metadata": {
        "id": "nsBZhvzVvDOx"
      },
      "execution_count": null,
      "outputs": []
    },
    {
      "cell_type": "code",
      "source": [
        "#<_MapDataset element_spec=TensorSpec(shape=(None,), dtype=tf.string, name=None)>\n",
        "text_data = train_dataset['1'].values\n",
        "tensor = tf.data.Dataset.from_tensor_slices(text_data)"
      ],
      "metadata": {
        "id": "4Xu4Yqw1Cw8M"
      },
      "execution_count": null,
      "outputs": []
    },
    {
      "cell_type": "code",
      "source": [
        "tensor"
      ],
      "metadata": {
        "id": "5QAPEP9-GDr8"
      },
      "execution_count": null,
      "outputs": []
    },
    {
      "cell_type": "code",
      "source": [
        "train_dataset_numpy = np.array(train_dataset)"
      ],
      "metadata": {
        "id": "oULeQCWR0njm"
      },
      "execution_count": null,
      "outputs": []
    },
    {
      "cell_type": "code",
      "source": [
        "print(train_dataset_numpy[:3])"
      ],
      "metadata": {
        "id": "BgMuwWRq0hgK"
      },
      "execution_count": null,
      "outputs": []
    },
    {
      "cell_type": "code",
      "source": [
        "BUFFER_SIZE = 10000\n",
        "BATCH_SIZE = 64"
      ],
      "metadata": {
        "id": "HbdDz4v8p9FV"
      },
      "execution_count": null,
      "outputs": []
    },
    {
      "cell_type": "code",
      "source": [
        "train_dataset = train_dataset.sample(frac=1, replace=True, random_state=1)\n",
        "test_dataset = test_dataset.sample(frac=1, replace=True, random_state=1)"
      ],
      "metadata": {
        "id": "znXKsSejuwrt"
      },
      "execution_count": null,
      "outputs": []
    },
    {
      "cell_type": "code",
      "source": [
        "print(train_dataset.shape)"
      ],
      "metadata": {
        "id": "CYTxE7Fp-l7t"
      },
      "execution_count": null,
      "outputs": []
    },
    {
      "cell_type": "code",
      "source": [
        "len_dataset = int(train_dataset.shape[0])\n",
        "x = np.array([i for i in range(41)])\n",
        "y = np.array([])\n",
        "for i in range(41):\n",
        "  number = int(train_dataset[train_dataset['label'] == i].shape[0])\n",
        "  y = np.insert(y,len(y),number)\n"
      ],
      "metadata": {
        "id": "0Y51ssjMaWzS"
      },
      "execution_count": null,
      "outputs": []
    },
    {
      "cell_type": "code",
      "source": [
        "x_cwe = [\"non-vulnerable\",\"CWE-404\",\"CWE-476\",\"CWE-119\",\"CWE-706\",\"CWE-670\",\"CWE-673\",\"CWE-119, CWE-666, CWE-573\",\"CWE-573\",\"CWE-668\",\" CWE-400, CWE-665, CWE-020\",\n",
        "         \" CWE-662\",\" CWE-400\",\" CWE-665\",\" CWE-020\", \" CWE-074\",\" CWE-362\",\" CWE-191\",\" CWE-190\",\" CWE-610\",\" CWE-704\",\" CWE-170\",\" CWE-676\",\" CWE-187\",\" CWE-138\",\n",
        "         \" CWE-369\",\" CWE-662, CWE-573\",\" CWE-834\",\" CWE-400, CWE-665\",\" CWE-400, CWE-404\",\" CWE-221\", \" CWE-754\",\" CWE-311\",\" CWE-404, CWE-668\",\" CWE-506\",\" CWE-758\",\n",
        "         \" CWE-666\",\" CWE-467\",\" CWE-327\",\" CWE-666, CWE-573\",\" CWE-469\"]\n",
        "\n",
        "fig, ax = plt.subplots(figsize=(50, 6))\n",
        "\n",
        "# Plot the bar chart\n",
        "bars = ax.bar(x_cwe, y, label='Some label')\n",
        "\n",
        "# Add annotations for each bar\n",
        "for bar in bars:\n",
        "    height = bar.get_height()\n",
        "    ax.text(bar.get_x() + bar.get_width() / 2, height,\n",
        "            f'{height}', ha='center', va='bottom')\n",
        "\n",
        "# Show the plot\n",
        "plt.show()"
      ],
      "metadata": {
        "id": "QqYWvwMq-e5C"
      },
      "execution_count": null,
      "outputs": []
    },
    {
      "cell_type": "code",
      "source": [
        "import matplotlib.pyplot as plt\n",
        "from collections import Counter\n",
        "\n",
        "# Sample data\n",
        "x_cwe = [\"non-vulnerable\", \"CWE-404\", \"CWE-476\", \"CWE-119\", \"CWE-706\", \"CWE-670\", \"CWE-673\", \"CWE-119, CWE-666, CWE-573\",\n",
        "         \"CWE-573\", \"CWE-668\", \"CWE-400, CWE-665, CWE-020\", \"CWE-662\", \"CWE-400\", \"CWE-665\", \"CWE-020\", \"CWE-074\", \"CWE-362\",\n",
        "         \"CWE-191\", \"CWE-190\", \"CWE-610\", \"CWE-704\", \"CWE-170\", \"CWE-676\", \"CWE-187\", \"CWE-138\", \"CWE-369\", \"CWE-662, CWE-573\",\n",
        "         \"CWE-834\", \"CWE-400, CWE-665\", \"CWE-400, CWE-404\", \"CWE-221\", \"CWE-754\", \"CWE-311\", \"CWE-404, CWE-668\", \"CWE-506\",\n",
        "         \"CWE-758\", \"CWE-666\", \"CWE-467\", \"CWE-327\", \"CWE-666, CWE-573\", \"CWE-469\"]\n",
        "# Count occurrences of each CWE\n",
        "cwe_counter = Counter(x_cwe)\n",
        "cwe_values = list(cwe_counter.values())\n",
        "\n",
        "# Create a figure and axis\n",
        "fig, ax = plt.subplots(figsize=(12, 12))\n",
        "\n",
        "# Plot the pie chart\n",
        "wedges, texts, autotexts = ax.pie(y, labels=cwe_counter.keys(), autopct='%1.1f%%', textprops=dict(color=\"w\"))\n",
        "\n",
        "# Add percentage annotations\n",
        "for autotext in autotexts:\n",
        "    autotext.set_color('black')\n",
        "\n",
        "# Set the aspect ratio to be equal, ensuring the pie is drawn as a circle\n",
        "ax.axis('equal')\n",
        "plt.legend()\n",
        "\n",
        "# Show the plot\n",
        "plt.show()\n"
      ],
      "metadata": {
        "id": "CpMeA0whD0hq"
      },
      "execution_count": null,
      "outputs": []
    },
    {
      "cell_type": "code",
      "source": [
        "len_test_dataset = int(test_dataset.shape[0])\n",
        "y_test_dataset = np.array([])\n",
        "for i in range(41):\n",
        "  number = int(test_dataset[test_dataset['label'] == i].shape[0])\n",
        "  y_test_dataset = np.insert(y_test_dataset,len(y_test_dataset),number)\n",
        "\n",
        "x_cwe = [\"non-vulnerable\",\"CWE-404\",\"CWE-476\",\"CWE-119\",\"CWE-706\",\"CWE-670\",\"CWE-673\",\"CWE-119, CWE-666, CWE-573\",\"CWE-573\",\"CWE-668\",\" CWE-400, CWE-665, CWE-020\",\n",
        "         \" CWE-662\",\" CWE-400\",\" CWE-665\",\" CWE-020\", \" CWE-074\",\" CWE-362\",\" CWE-191\",\" CWE-190\",\" CWE-610\",\" CWE-704\",\" CWE-170\",\" CWE-676\",\" CWE-187\",\" CWE-138\",\n",
        "         \" CWE-369\",\" CWE-662, CWE-573\",\" CWE-834\",\" CWE-400, CWE-665\",\" CWE-400, CWE-404\",\" CWE-221\", \" CWE-754\",\" CWE-311\",\" CWE-404, CWE-668\",\" CWE-506\",\" CWE-758\",\n",
        "         \" CWE-666\",\" CWE-467\",\" CWE-327\",\" CWE-666, CWE-573\",\" CWE-469\"]\n",
        "\n",
        "fig, ax = plt.subplots(figsize=(50, 6))\n",
        "# Plot the bar chart\n",
        "bars = ax.bar(x_cwe, y_test_dataset, label='Some label')\n",
        "\n",
        "# Add annotations for each bar\n",
        "for bar in bars:\n",
        "    height = bar.get_height()\n",
        "    ax.text(bar.get_x() + bar.get_width() / 2, height,\n",
        "            f'{height}', ha='center', va='bottom')\n",
        "\n",
        "# Show the plot\n",
        "plt.show()"
      ],
      "metadata": {
        "id": "XhDp-h9aFcpp"
      },
      "execution_count": null,
      "outputs": []
    },
    {
      "cell_type": "code",
      "source": [
        "VOCAB_SIZE = 10000\n",
        "encoder = tf.keras.layers.TextVectorization(\n",
        "    max_tokens=VOCAB_SIZE)\n",
        "encoder.adapt(tensor)"
      ],
      "metadata": {
        "id": "eGmVnaPNuz78"
      },
      "execution_count": null,
      "outputs": []
    },
    {
      "cell_type": "code",
      "source": [
        "train_dataset['1']"
      ],
      "metadata": {
        "id": "2xu4c0thFDLc"
      },
      "execution_count": null,
      "outputs": []
    },
    {
      "cell_type": "code",
      "source": [
        "train_dataset"
      ],
      "metadata": {
        "id": "NGm4K6w1CYia"
      },
      "execution_count": null,
      "outputs": []
    },
    {
      "cell_type": "code",
      "source": [
        "vocab = np.array(encoder.get_vocabulary())\n",
        "vocab[:20]"
      ],
      "metadata": {
        "id": "O1B9Kw7_vLiD"
      },
      "execution_count": null,
      "outputs": []
    },
    {
      "cell_type": "code",
      "source": [
        "# example = [[' /CWE_Heap_Based_Buffer_Overflow__cpp_CWE_char_snprintf_.cpp memset \\nvoid bad() \\nchar * data ; \\ndata = new char [  ]; \\nif ( GLOBAL_CONST_TRUE )  \\nmemset ( data , \\'A\\' ,  -  ); \\ndata [  -  ] = \\'\\\\\\'; \\nSNPRINTF ( dest , strlen ( data ) , \"%s\" , data ); \\nprintLine ( data ); \\nvoid printLine (const char * line) \\nif ( line != NULL )  \\nprintf ( \"%s\\\\n\" , line ); \\ndelete [ ] data \\n\\n'],\n",
        "#  [' /CWE_Trapdoor__ip_based_logic_.c send \\nvoid CWE_Trapdoor__ip_based_logic__bad() \\nWSADATA wsaData ; \\nstruct sockaddr_in service , acceptService ; \\nif ( WSAStartup ( MAKEWORD (  ,  ) , & wsaData ) != NO_ERROR )  \\nlistenSocket = socket ( AF_INET , SOCK_STREAM , IPPROTO_TCP ); \\nif ( listenSocket == INVALID_SOCKET )  \\nmemset ( & service ,  , sizeof ( service ) ); \\nservice . sin_family = AF_INET; \\nservice . sin_addr . s_addr = INADDR_ANY; \\nservice . sin_port = htons (  ); \\nif ( bind ( listenSocket , ( struct sockaddr * ) & service , sizeof ( service ) ) == SOCKET_ERROR )  \\nif ( listen ( listenSocket ,  ) == SOCKET_ERROR )  \\nacceptSocket = accept ( listenSocket , NULL , NULL ); \\nif ( acceptSocket == SOCKET_ERROR )  \\nif ( getsockname ( acceptSocket , ( struct sockaddr * ) & acceptService , & acceptServiceLen ) == -  )  \\nif ( strcmp ( \"...\" , inet_ntoa ( acceptService . sin_addr ) ) ==  )  \\nif ( send ( acceptSocket , ADMIN_MESSAGE , strlen ( ADMIN_MESSAGE ) ,  ) == SOCKET_ERROR )  \\nif ( send ( acceptSocket , DEFAULT_MESSAGE , strlen ( DEFAULT_MESSAGE ) ,  ) == SOCKET_ERROR )  \\nwhile (  )  \\n\\n'],\n",
        "#  [' /CWE_OS_Command_Injection__char_console_wspawnl_.c strlen \\nvoid CWE_OS_Command_Injection__char_console_wspawnl__bad() \\nchar * data ; \\nchar dataBuffer [  ] = \"\" ; \\ndata = dataBuffer; \\nif ( staticFive ==  )  \\nsize_t dataLen = strlen ( data ) ; \\nif (  - dataLen >  )  \\nif ( fgets ( data + dataLen , ( int ) (  - dataLen ) , stdin ) != NULL )  \\ndataLen = strlen ( data ); \\nif ( dataLen >  && data [ dataLen -  ] == \\'\\\\n\\' )  \\ndata [ dataLen -  ] = \\'\\\\\\'; \\n\\n']\n",
        "#            ]"
      ],
      "metadata": {
        "id": "ZL7Cs8yU2EtL"
      },
      "execution_count": null,
      "outputs": []
    },
    {
      "cell_type": "code",
      "source": [
        "# encoded_example = encoder(example)[:3].numpy()\n",
        "# encoded_example"
      ],
      "metadata": {
        "id": "KIUKUsj01sv8"
      },
      "execution_count": null,
      "outputs": []
    },
    {
      "cell_type": "code",
      "source": [
        "model = tf.keras.Sequential([\n",
        "    encoder,\n",
        "    tf.keras.layers.Embedding(\n",
        "        input_dim=len(encoder.get_vocabulary()),\n",
        "        output_dim=64,\n",
        "        # Use masking to handle the variable sequence lengths\n",
        "        mask_zero=True),\n",
        "    tf.keras.layers.Bidirectional(tf.keras.layers.LSTM(64)),\n",
        "    tf.keras.layers.Dense(64, activation='relu'),\n",
        "    tf.keras.layers.Dense(41, activation='softmax')\n",
        "])"
      ],
      "metadata": {
        "id": "37F5BLCzvUaR"
      },
      "execution_count": null,
      "outputs": []
    },
    {
      "cell_type": "code",
      "source": [
        "model.compile(loss='categorical_crossentropy',\n",
        "              optimizer=tf.keras.optimizers.Adam(1e-4),\n",
        "              metrics=['accuracy'])"
      ],
      "metadata": {
        "id": "dOO4Snm-GmMV"
      },
      "execution_count": null,
      "outputs": []
    },
    {
      "cell_type": "code",
      "source": [
        "X_train = train_dataset['1']\n",
        "y_train = train_dataset['label']\n",
        "y_train = tf.keras.utils.to_categorical(y_train, num_classes=41)"
      ],
      "metadata": {
        "id": "oMU2ork1IsoF"
      },
      "execution_count": null,
      "outputs": []
    },
    {
      "cell_type": "code",
      "source": [
        "print(X_train.shape)\n",
        "print(y_train.shape)"
      ],
      "metadata": {
        "id": "A_r_W-OwJCHu"
      },
      "execution_count": null,
      "outputs": []
    },
    {
      "cell_type": "code",
      "source": [
        "history = model.fit(X_train,y_train, epochs=1,\n",
        "                    # validation_data=test_dataset,\n",
        "                    # validation_steps=30\n",
        "                    )"
      ],
      "metadata": {
        "id": "cHvBqxI7GxNl"
      },
      "execution_count": null,
      "outputs": []
    },
    {
      "cell_type": "code",
      "source": [
        "X_test = test_dataset['1']\n",
        "y_test = test_dataset['label']\n",
        "y_test = tf.keras.utils.to_categorical(y_test, num_classes=41)"
      ],
      "metadata": {
        "id": "MUbEuLvrLc8U"
      },
      "execution_count": null,
      "outputs": []
    },
    {
      "cell_type": "code",
      "source": [
        "test_loss, test_acc = model.evaluate(X_test,y_test)\n",
        "\n",
        "print('Test Loss:', test_loss)\n",
        "print('Test Accuracy:', test_acc)"
      ],
      "metadata": {
        "id": "98lfrvSFLNst"
      },
      "execution_count": null,
      "outputs": []
    },
    {
      "cell_type": "code",
      "source": [
        "y_pred = model.predict(X_test)\n",
        "print(y_pred.shape)\n",
        "print(y_pred)\n",
        "print(y_test.shape)\n",
        "print(y_test)"
      ],
      "metadata": {
        "id": "UTFaTji5vt5J"
      },
      "execution_count": null,
      "outputs": []
    },
    {
      "cell_type": "code",
      "source": [
        "max_y_test_indices = np.argmax(y_test, axis=1)\n",
        "max_y_pred_indices = np.argmax(y_pred, axis=1)\n",
        "\n",
        "array_sum     = [0] * 41\n",
        "array_correct = [0] * 41\n",
        "\n",
        "array_sum = np.array(array_sum)\n",
        "array_correct = np.array(array_correct)\n",
        "\n",
        "\n",
        "\n",
        "for i in range(len(max_y_test_indices)):\n",
        "  if max_y_test_indices[i] == max_y_pred_indices[i]:\n",
        "    array_correct[max_y_test_indices[i]] += 1\n",
        "  array_sum[max_y_test_indices[i]] += 1\n",
        "\n",
        "print(array_sum)\n",
        "print(len(array_sum))\n",
        "print(array_correct)\n",
        "print(len(array_correct))\n"
      ],
      "metadata": {
        "id": "kag9uISzx8iA"
      },
      "execution_count": null,
      "outputs": []
    },
    {
      "cell_type": "code",
      "source": [
        "import numpy as np\n",
        "import matplotlib.pyplot as plt\n",
        "\n",
        "# Example data\n",
        "labels = array_sum\n",
        "predictions = array_correct\n",
        "\n",
        "# Calculate the percentage of correct predictions for each index\n",
        "percentages = []\n",
        "for i in range(len(labels)):\n",
        "    percentage = predictions[i] * 1.0 / labels[i]\n",
        "    percentages.append(percentage)\n",
        "\n",
        "print(percentages)\n",
        "\n",
        "# Create a bar chart for each index\n",
        "fig, ax = plt.subplots(figsize=(12, 12))\n",
        "# fig, ax = plt.subplots()\n",
        "ax.bar(range(len(labels)), percentages, color=['green' if p == 100 else 'red' for p in percentages])\n",
        "ax.set_xlabel('Index')\n",
        "ax.set_ylabel('Percentage')\n",
        "ax.set_title('Percentage of Predictions Correct at Each Index')\n",
        "\n",
        "# Display the percentage on top of the bars\n",
        "for i, v in enumerate(percentages):\n",
        "    ax.text(i, v + 2, f'{v:.2f}%', ha='center', va='bottom', color='black')\n",
        "plt.show()\n"
      ],
      "metadata": {
        "id": "yE3OMp8O0t6r"
      },
      "execution_count": null,
      "outputs": []
    }
  ]
}