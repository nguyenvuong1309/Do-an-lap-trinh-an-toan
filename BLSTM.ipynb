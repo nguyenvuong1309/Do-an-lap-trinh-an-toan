{
  "nbformat": 4,
  "nbformat_minor": 0,
  "metadata": {
    "colab": {
      "provenance": [],
      "authorship_tag": "ABX9TyNiV7KFeLdeIv8SN+5IKD0+",
      "include_colab_link": true
    },
    "kernelspec": {
      "name": "python3",
      "display_name": "Python 3"
    },
    "language_info": {
      "name": "python"
    }
  },
  "cells": [
    {
      "cell_type": "markdown",
      "metadata": {
        "id": "view-in-github",
        "colab_type": "text"
      },
      "source": [
        "<a href=\"https://colab.research.google.com/github/nguyenvuong1309/Do-an-lap-trinh-an-toan/blob/main/BLSTM.ipynb\" target=\"_parent\"><img src=\"https://colab.research.google.com/assets/colab-badge.svg\" alt=\"Open In Colab\"/></a>"
      ]
    },
    {
      "cell_type": "code",
      "execution_count": 1,
      "metadata": {
        "colab": {
          "base_uri": "https://localhost:8080/"
        },
        "id": "b9zgec2Bi3Mw",
        "outputId": "99eae1a8-f61e-40d4-d926-ff9ec7fe5e25"
      },
      "outputs": [
        {
          "output_type": "stream",
          "name": "stdout",
          "text": [
            "Drive already mounted at /content/drive; to attempt to forcibly remount, call drive.mount(\"/content/drive\", force_remount=True).\n"
          ]
        }
      ],
      "source": [
        "from google.colab import drive\n",
        "drive.mount('/content/drive')"
      ]
    },
    {
      "cell_type": "code",
      "source": [
        "import tensorflow as tf\n",
        "from tensorflow import keras\n",
        "from tensorflow.keras import layers, models\n",
        "from tensorflow.keras.utils import to_categorical\n",
        "import pandas as pd\n",
        "from numpy import zeros, newaxis\n",
        "import numpy as np\n",
        "from keras.layers import Dense, Embedding, LSTM, SpatialDropout1D, Bidirectional,Activation\n",
        "import csv\n"
      ],
      "metadata": {
        "id": "F10H8T-5i62w"
      },
      "execution_count": 2,
      "outputs": []
    },
    {
      "cell_type": "code",
      "source": [
        "csv_file_path = '/content/drive/MyDrive/Colab/dataset/text_dataset.csv'\n",
        "df = pd.read_csv(csv_file_path,sep=\",\")"
      ],
      "metadata": {
        "id": "uJ07mKCSu0pz"
      },
      "execution_count": 3,
      "outputs": []
    },
    {
      "cell_type": "code",
      "source": [
        "dataset = df"
      ],
      "metadata": {
        "id": "LiIbjU8ru_ls"
      },
      "execution_count": 4,
      "outputs": []
    },
    {
      "cell_type": "code",
      "source": [
        "print(dataset.head())"
      ],
      "metadata": {
        "id": "xDfZly_H39WE",
        "outputId": "717db2f0-c615-47b2-9257-e5ce2170b1fd",
        "colab": {
          "base_uri": "https://localhost:8080/"
        }
      },
      "execution_count": 5,
      "outputs": [
        {
          "output_type": "stream",
          "name": "stdout",
          "text": [
            "   Index                                                  1  label\n",
            "0      0  1 150200/dirent_uri.c memset 405\\nconst char *...      0\n",
            "1      1  2 79848/CWE134_Uncontrolled_Format_String__cha...      0\n",
            "2      2  3 94203/CWE319_Cleartext_Tx_Sensitive_Info__w3...      0\n",
            "3      3  4 151133/utils.c strcmp 737\\nint avformat_open...      0\n",
            "4      4  5 94266/CWE319_Cleartext_Tx_Sensitive_Info__w3...     32\n"
          ]
        }
      ]
    },
    {
      "cell_type": "code",
      "source": [
        "dataset = dataset[['1','label']]\n",
        "dataset.head()"
      ],
      "metadata": {
        "colab": {
          "base_uri": "https://localhost:8080/",
          "height": 206
        },
        "id": "nG3ldGgjzGkc",
        "outputId": "834f8296-627c-4db8-c5bc-07c840304239"
      },
      "execution_count": 6,
      "outputs": [
        {
          "output_type": "execute_result",
          "data": {
            "text/plain": [
              "                                                   1  label\n",
              "0  1 150200/dirent_uri.c memset 405\\nconst char *...      0\n",
              "1  2 79848/CWE134_Uncontrolled_Format_String__cha...      0\n",
              "2  3 94203/CWE319_Cleartext_Tx_Sensitive_Info__w3...      0\n",
              "3  4 151133/utils.c strcmp 737\\nint avformat_open...      0\n",
              "4  5 94266/CWE319_Cleartext_Tx_Sensitive_Info__w3...     32"
            ],
            "text/html": [
              "\n",
              "  <div id=\"df-a5735360-b8a2-40c9-aecf-f20d33d267e7\" class=\"colab-df-container\">\n",
              "    <div>\n",
              "<style scoped>\n",
              "    .dataframe tbody tr th:only-of-type {\n",
              "        vertical-align: middle;\n",
              "    }\n",
              "\n",
              "    .dataframe tbody tr th {\n",
              "        vertical-align: top;\n",
              "    }\n",
              "\n",
              "    .dataframe thead th {\n",
              "        text-align: right;\n",
              "    }\n",
              "</style>\n",
              "<table border=\"1\" class=\"dataframe\">\n",
              "  <thead>\n",
              "    <tr style=\"text-align: right;\">\n",
              "      <th></th>\n",
              "      <th>1</th>\n",
              "      <th>label</th>\n",
              "    </tr>\n",
              "  </thead>\n",
              "  <tbody>\n",
              "    <tr>\n",
              "      <th>0</th>\n",
              "      <td>1 150200/dirent_uri.c memset 405\\nconst char *...</td>\n",
              "      <td>0</td>\n",
              "    </tr>\n",
              "    <tr>\n",
              "      <th>1</th>\n",
              "      <td>2 79848/CWE134_Uncontrolled_Format_String__cha...</td>\n",
              "      <td>0</td>\n",
              "    </tr>\n",
              "    <tr>\n",
              "      <th>2</th>\n",
              "      <td>3 94203/CWE319_Cleartext_Tx_Sensitive_Info__w3...</td>\n",
              "      <td>0</td>\n",
              "    </tr>\n",
              "    <tr>\n",
              "      <th>3</th>\n",
              "      <td>4 151133/utils.c strcmp 737\\nint avformat_open...</td>\n",
              "      <td>0</td>\n",
              "    </tr>\n",
              "    <tr>\n",
              "      <th>4</th>\n",
              "      <td>5 94266/CWE319_Cleartext_Tx_Sensitive_Info__w3...</td>\n",
              "      <td>32</td>\n",
              "    </tr>\n",
              "  </tbody>\n",
              "</table>\n",
              "</div>\n",
              "    <div class=\"colab-df-buttons\">\n",
              "\n",
              "  <div class=\"colab-df-container\">\n",
              "    <button class=\"colab-df-convert\" onclick=\"convertToInteractive('df-a5735360-b8a2-40c9-aecf-f20d33d267e7')\"\n",
              "            title=\"Convert this dataframe to an interactive table.\"\n",
              "            style=\"display:none;\">\n",
              "\n",
              "  <svg xmlns=\"http://www.w3.org/2000/svg\" height=\"24px\" viewBox=\"0 -960 960 960\">\n",
              "    <path d=\"M120-120v-720h720v720H120Zm60-500h600v-160H180v160Zm220 220h160v-160H400v160Zm0 220h160v-160H400v160ZM180-400h160v-160H180v160Zm440 0h160v-160H620v160ZM180-180h160v-160H180v160Zm440 0h160v-160H620v160Z\"/>\n",
              "  </svg>\n",
              "    </button>\n",
              "\n",
              "  <style>\n",
              "    .colab-df-container {\n",
              "      display:flex;\n",
              "      gap: 12px;\n",
              "    }\n",
              "\n",
              "    .colab-df-convert {\n",
              "      background-color: #E8F0FE;\n",
              "      border: none;\n",
              "      border-radius: 50%;\n",
              "      cursor: pointer;\n",
              "      display: none;\n",
              "      fill: #1967D2;\n",
              "      height: 32px;\n",
              "      padding: 0 0 0 0;\n",
              "      width: 32px;\n",
              "    }\n",
              "\n",
              "    .colab-df-convert:hover {\n",
              "      background-color: #E2EBFA;\n",
              "      box-shadow: 0px 1px 2px rgba(60, 64, 67, 0.3), 0px 1px 3px 1px rgba(60, 64, 67, 0.15);\n",
              "      fill: #174EA6;\n",
              "    }\n",
              "\n",
              "    .colab-df-buttons div {\n",
              "      margin-bottom: 4px;\n",
              "    }\n",
              "\n",
              "    [theme=dark] .colab-df-convert {\n",
              "      background-color: #3B4455;\n",
              "      fill: #D2E3FC;\n",
              "    }\n",
              "\n",
              "    [theme=dark] .colab-df-convert:hover {\n",
              "      background-color: #434B5C;\n",
              "      box-shadow: 0px 1px 3px 1px rgba(0, 0, 0, 0.15);\n",
              "      filter: drop-shadow(0px 1px 2px rgba(0, 0, 0, 0.3));\n",
              "      fill: #FFFFFF;\n",
              "    }\n",
              "  </style>\n",
              "\n",
              "    <script>\n",
              "      const buttonEl =\n",
              "        document.querySelector('#df-a5735360-b8a2-40c9-aecf-f20d33d267e7 button.colab-df-convert');\n",
              "      buttonEl.style.display =\n",
              "        google.colab.kernel.accessAllowed ? 'block' : 'none';\n",
              "\n",
              "      async function convertToInteractive(key) {\n",
              "        const element = document.querySelector('#df-a5735360-b8a2-40c9-aecf-f20d33d267e7');\n",
              "        const dataTable =\n",
              "          await google.colab.kernel.invokeFunction('convertToInteractive',\n",
              "                                                    [key], {});\n",
              "        if (!dataTable) return;\n",
              "\n",
              "        const docLinkHtml = 'Like what you see? Visit the ' +\n",
              "          '<a target=\"_blank\" href=https://colab.research.google.com/notebooks/data_table.ipynb>data table notebook</a>'\n",
              "          + ' to learn more about interactive tables.';\n",
              "        element.innerHTML = '';\n",
              "        dataTable['output_type'] = 'display_data';\n",
              "        await google.colab.output.renderOutput(dataTable, element);\n",
              "        const docLink = document.createElement('div');\n",
              "        docLink.innerHTML = docLinkHtml;\n",
              "        element.appendChild(docLink);\n",
              "      }\n",
              "    </script>\n",
              "  </div>\n",
              "\n",
              "\n",
              "<div id=\"df-9ccfc53c-4675-49ba-a4fb-18a0b690291f\">\n",
              "  <button class=\"colab-df-quickchart\" onclick=\"quickchart('df-9ccfc53c-4675-49ba-a4fb-18a0b690291f')\"\n",
              "            title=\"Suggest charts\"\n",
              "            style=\"display:none;\">\n",
              "\n",
              "<svg xmlns=\"http://www.w3.org/2000/svg\" height=\"24px\"viewBox=\"0 0 24 24\"\n",
              "     width=\"24px\">\n",
              "    <g>\n",
              "        <path d=\"M19 3H5c-1.1 0-2 .9-2 2v14c0 1.1.9 2 2 2h14c1.1 0 2-.9 2-2V5c0-1.1-.9-2-2-2zM9 17H7v-7h2v7zm4 0h-2V7h2v10zm4 0h-2v-4h2v4z\"/>\n",
              "    </g>\n",
              "</svg>\n",
              "  </button>\n",
              "\n",
              "<style>\n",
              "  .colab-df-quickchart {\n",
              "      --bg-color: #E8F0FE;\n",
              "      --fill-color: #1967D2;\n",
              "      --hover-bg-color: #E2EBFA;\n",
              "      --hover-fill-color: #174EA6;\n",
              "      --disabled-fill-color: #AAA;\n",
              "      --disabled-bg-color: #DDD;\n",
              "  }\n",
              "\n",
              "  [theme=dark] .colab-df-quickchart {\n",
              "      --bg-color: #3B4455;\n",
              "      --fill-color: #D2E3FC;\n",
              "      --hover-bg-color: #434B5C;\n",
              "      --hover-fill-color: #FFFFFF;\n",
              "      --disabled-bg-color: #3B4455;\n",
              "      --disabled-fill-color: #666;\n",
              "  }\n",
              "\n",
              "  .colab-df-quickchart {\n",
              "    background-color: var(--bg-color);\n",
              "    border: none;\n",
              "    border-radius: 50%;\n",
              "    cursor: pointer;\n",
              "    display: none;\n",
              "    fill: var(--fill-color);\n",
              "    height: 32px;\n",
              "    padding: 0;\n",
              "    width: 32px;\n",
              "  }\n",
              "\n",
              "  .colab-df-quickchart:hover {\n",
              "    background-color: var(--hover-bg-color);\n",
              "    box-shadow: 0 1px 2px rgba(60, 64, 67, 0.3), 0 1px 3px 1px rgba(60, 64, 67, 0.15);\n",
              "    fill: var(--button-hover-fill-color);\n",
              "  }\n",
              "\n",
              "  .colab-df-quickchart-complete:disabled,\n",
              "  .colab-df-quickchart-complete:disabled:hover {\n",
              "    background-color: var(--disabled-bg-color);\n",
              "    fill: var(--disabled-fill-color);\n",
              "    box-shadow: none;\n",
              "  }\n",
              "\n",
              "  .colab-df-spinner {\n",
              "    border: 2px solid var(--fill-color);\n",
              "    border-color: transparent;\n",
              "    border-bottom-color: var(--fill-color);\n",
              "    animation:\n",
              "      spin 1s steps(1) infinite;\n",
              "  }\n",
              "\n",
              "  @keyframes spin {\n",
              "    0% {\n",
              "      border-color: transparent;\n",
              "      border-bottom-color: var(--fill-color);\n",
              "      border-left-color: var(--fill-color);\n",
              "    }\n",
              "    20% {\n",
              "      border-color: transparent;\n",
              "      border-left-color: var(--fill-color);\n",
              "      border-top-color: var(--fill-color);\n",
              "    }\n",
              "    30% {\n",
              "      border-color: transparent;\n",
              "      border-left-color: var(--fill-color);\n",
              "      border-top-color: var(--fill-color);\n",
              "      border-right-color: var(--fill-color);\n",
              "    }\n",
              "    40% {\n",
              "      border-color: transparent;\n",
              "      border-right-color: var(--fill-color);\n",
              "      border-top-color: var(--fill-color);\n",
              "    }\n",
              "    60% {\n",
              "      border-color: transparent;\n",
              "      border-right-color: var(--fill-color);\n",
              "    }\n",
              "    80% {\n",
              "      border-color: transparent;\n",
              "      border-right-color: var(--fill-color);\n",
              "      border-bottom-color: var(--fill-color);\n",
              "    }\n",
              "    90% {\n",
              "      border-color: transparent;\n",
              "      border-bottom-color: var(--fill-color);\n",
              "    }\n",
              "  }\n",
              "</style>\n",
              "\n",
              "  <script>\n",
              "    async function quickchart(key) {\n",
              "      const quickchartButtonEl =\n",
              "        document.querySelector('#' + key + ' button');\n",
              "      quickchartButtonEl.disabled = true;  // To prevent multiple clicks.\n",
              "      quickchartButtonEl.classList.add('colab-df-spinner');\n",
              "      try {\n",
              "        const charts = await google.colab.kernel.invokeFunction(\n",
              "            'suggestCharts', [key], {});\n",
              "      } catch (error) {\n",
              "        console.error('Error during call to suggestCharts:', error);\n",
              "      }\n",
              "      quickchartButtonEl.classList.remove('colab-df-spinner');\n",
              "      quickchartButtonEl.classList.add('colab-df-quickchart-complete');\n",
              "    }\n",
              "    (() => {\n",
              "      let quickchartButtonEl =\n",
              "        document.querySelector('#df-9ccfc53c-4675-49ba-a4fb-18a0b690291f button');\n",
              "      quickchartButtonEl.style.display =\n",
              "        google.colab.kernel.accessAllowed ? 'block' : 'none';\n",
              "    })();\n",
              "  </script>\n",
              "</div>\n",
              "    </div>\n",
              "  </div>\n"
            ]
          },
          "metadata": {},
          "execution_count": 6
        }
      ]
    },
    {
      "cell_type": "code",
      "source": [
        "print(dataset['label'].unique())\n",
        "print(len(dataset['label'].unique()))"
      ],
      "metadata": {
        "colab": {
          "base_uri": "https://localhost:8080/"
        },
        "id": "NO3dSGi4wwen",
        "outputId": "9a954ffd-c36e-42e3-f577-db98c7f31eb8"
      },
      "execution_count": 7,
      "outputs": [
        {
          "output_type": "stream",
          "name": "stdout",
          "text": [
            "[ 0 32  4 10 20 36  3  1 12 25 15 34 16 11  2 14 35 38  9 29  7 18 37 21\n",
            " 22 23  5  8 17 31 39 33 28 30 19 40 26 13 24 27  6]\n",
            "41\n"
          ]
        }
      ]
    },
    {
      "cell_type": "code",
      "source": [
        "train_dataset = dataset[0:int(len(dataset) * 0.8)]\n",
        "test_dataset =  dataset[int(len(dataset) * 0.8) :]"
      ],
      "metadata": {
        "id": "nsBZhvzVvDOx"
      },
      "execution_count": 8,
      "outputs": []
    },
    {
      "cell_type": "code",
      "source": [
        "#<_MapDataset element_spec=TensorSpec(shape=(None,), dtype=tf.string, name=None)>\n",
        "text_data = train_dataset['1'].values\n",
        "tensor = tf.data.Dataset.from_tensor_slices(text_data)"
      ],
      "metadata": {
        "id": "4Xu4Yqw1Cw8M"
      },
      "execution_count": 9,
      "outputs": []
    },
    {
      "cell_type": "code",
      "source": [
        "tensor"
      ],
      "metadata": {
        "colab": {
          "base_uri": "https://localhost:8080/"
        },
        "id": "5QAPEP9-GDr8",
        "outputId": "c6577103-e045-4c3a-c37f-8227d5e950f5"
      },
      "execution_count": 10,
      "outputs": [
        {
          "output_type": "execute_result",
          "data": {
            "text/plain": [
              "<_TensorSliceDataset element_spec=TensorSpec(shape=(), dtype=tf.string, name=None)>"
            ]
          },
          "metadata": {},
          "execution_count": 10
        }
      ]
    },
    {
      "cell_type": "code",
      "source": [
        "train_dataset_numpy = np.array(train_dataset)"
      ],
      "metadata": {
        "id": "oULeQCWR0njm"
      },
      "execution_count": 11,
      "outputs": []
    },
    {
      "cell_type": "code",
      "source": [
        "print(train_dataset_numpy[:3])"
      ],
      "metadata": {
        "colab": {
          "base_uri": "https://localhost:8080/"
        },
        "id": "BgMuwWRq0hgK",
        "outputId": "404668f9-1865-42ce-c6d3-ca2339357d7b"
      },
      "execution_count": 12,
      "outputs": [
        {
          "output_type": "stream",
          "name": "stdout",
          "text": [
            "[['1 150200/dirent_uri.c memset 405\\nconst char *svn_relpath__internal_style(const char *relpath,apr_pool_t *pool) 861\\nreturn svn_relpath_canonicalize ( internal_style ( relpath , pool ) , pool ) ; 863\\nconst char *svn_relpath_canonicalize(const char *relpath,apr_pool_t *pool) 1411\\nreturn canonicalize ( type_relpath , relpath , pool ) ; 1413\\nstatic const char *canonicalize(path_type_t type,const char *path,apr_pool_t *pool) 389\\nchar * canon ; 391\\nchar * dst ; 392\\nif ( path [ 0 ] == \\'\\\\0\\' )  401\\ndst = canon = ( memset ( apr_palloc ( pool , strlen ( path ) + 1 ) , 0 , strlen ( path ) + 1 ) ); 405\\nwhile ( ( * src ) != \\':\\' )  419\\n* ( dst ++ ) = canonicalize_to_lower ( * ( src ++ ) ); 420\\n* ( dst ++ ) = \\':\\'; 423\\n* ( dst ++ ) = 47; 424\\n* ( dst ++ ) = 47; 425\\nsrc += 3; 426\\nseg = src; 429\\nwhile ( * src && ( * src ) != 47 && ( * src ) != 64 )  430\\nsrc ++; 431\\nif ( ( * src ) == 64 )  432\\nseglen = ( src - seg + 1 ); 434\\nmemcpy ( dst , seg , seglen ); 435\\ndst += seglen; 436\\nsrc ++; 437\\nsrc = seg; 440\\nif ( ( * src ) == \\'[\\' )  443\\n* ( dst ++ ) = * ( src ++ ); 445\\nwhile ( ( * src ) == \\':\\' || ( * src ) >= 48 && ( * src ) <= \\'9\\' || ( * src ) >= \\'a\\' && ( * src ) <= \\'f\\' || ( * src ) >= 65 && ( * src ) <= \\'F\\' )  446\\n* ( dst ++ ) = canonicalize_to_lower ( * ( src ++ ) ); 447\\nif ( ( * src ) == \\']\\' )  449\\n* ( dst ++ ) = * ( src ++ ); 451\\nwhile ( * src && ( * src ) != 47 && ( * src ) != \\':\\' )  455\\n* ( dst ++ ) = canonicalize_to_lower ( * ( src ++ ) ); 456\\nif ( ( * src ) == \\':\\' )  458\\nif ( src [ 1 ] == 56 && src [ 2 ] == 48 && ( src [ 3 ] == 47 || ! src [ 3 ] ) && ! strncmp ( canon , \"http:\" , 5 ) )  461\\nsrc += 3; 462\\nif ( src [ 1 ] == 52 && src [ 2 ] == 52 && src [ 3 ] == 51 && ( src [ 4 ] == 47 || ! src [ 4 ] ) && ! strncmp ( canon , \"https:\" , 6 ) )  465\\nsrc += 4; 466\\nif ( src [ 1 ] == 51 && src [ 2 ] == \\'6\\' && src [ 3 ] == \\'9\\' && src [ 4 ] == 48 && ( src [ 5 ] == 47 || ! src [ 5 ] ) && ! strncmp ( canon , \"svn:\" , 4 ) )  469\\nsrc += 5; 470\\nif ( src [ 1 ] == 47 || ! src [ 1 ] )  473\\nsrc += 1; 474\\nwhile ( * src && ( * src ) != 47 )  479\\n* ( dst ++ ) = canonicalize_to_lower ( * ( src ++ ) ); 480\\n* dst = * src; 483\\nif ( * src )  486\\nsrc ++; 487\\ndst ++; 488\\nschema_data = dst; 489\\nif ( ( * src ) == 47 )  500\\n* ( dst ++ ) = * ( src ++ ); 501\\nwhile ( * src )  515\\nconst char * next = src ; 518\\nwhile ( * next && next [ 0 ] != 47 && ! ( type == type_uri && next [ 0 ] == 37 && next [ 1 ] == 50 && ( canonicalize_to_upper ( next [ 2 ] ) ) == \\'F\\' ) )  520\\nif ( next [ 0 ] == 47 )  524\\nif ( type == type_uri && next [ 0 ] == 37 )  528\\nseglen = ( next - src ); 532\\nif ( seglen == 0 || seglen == 1 && src [ 0 ] == 46 || type == type_uri && seglen == 3 && src [ 0 ] == 37 && src [ 1 ] == 50 && ( canonicalize_to_upper ( src [ 2 ] ) ) == \\'E\\' )  533\\nmemcpy ( dst , src , seglen ); 544\\ndst += seglen; 545\\n* ( dst ++ ) = 47; 547\\nsrc = next + slash_len; 552\\nif ( canon_segments > 0 && ( * ( dst - 1 ) ) == 47 && ! ( url && path [ schemelen ] == \\'\\\\0\\' ) )  560\\ndst --; 561\\n* dst = \\'\\\\0\\'; 563\\nif ( schema_data )  575\\nsrc = schema_data; 577\\nwhile ( * src )  578\\nswitch ( * src )  579\\nif ( ! ( 0 != ( svn_ctype_table [ ( unsigned char ) ( * ( src + 1 ) ) ] & ( 0x0004 | 0x0040 ) ) ) || ! ( 0 != ( svn_ctype_table [ ( unsigned char ) ( * ( src + 2 ) ) ] & ( 0x0004 | 0x0040 ) ) ) )  584\\nsrc += 2; 588\\nif ( ! svn_uri__char_validity [ ( unsigned char ) ( * src ) ] )  594\\nsrc ++; 600\\napr_size_t pre_schema_size = ( apr_size_t ) ( schema_data - canon ) ; 603\\ndst = ( apr_palloc ( pool , ( ( apr_size_t ) ( src - canon ) ) + need_extra + 1 ) ); 604\\nmemcpy ( dst , canon , pre_schema_size ); 605\\ncanon = dst; 606\\ndst += pre_schema_size; 607\\ndst = schema_data; 610\\nsrc = schema_data; 612\\nwhile ( * src )  613\\nswitch ( * src )  614\\n* ( dst ++ ) = 47; 617\\nif ( ! ( 0 != ( svn_ctype_table [ ( unsigned char ) ( * ( src + 1 ) ) ] & ( 0x0004 | 0x0040 ) ) ) || ! ( 0 != ( svn_ctype_table [ ( unsigned char ) ( * ( src + 2 ) ) ] & ( 0x0004 | 0x0040 ) ) ) )  622\\n* ( dst ++ ) = 37; 623\\n* ( dst ++ ) = 50; 624\\n* ( dst ++ ) = \\'5\\'; 625\\ndigitz [ 0 ] = * ( ++ src ); 630\\ndigitz [ 1 ] = * ( ++ src ); 631\\ndigitz [ 2 ] = 0; 632\\nval = ( ( int ) ( strtol ( digitz , ( ( void * ) 0 ) , 16 ) ) ); 633\\nif ( svn_uri__char_validity [ ( unsigned char ) val ] )  634\\n* ( dst ++ ) = ( ( char ) val ); 635\\n* ( dst ++ ) = 37; 638\\n* ( dst ++ ) = canonicalize_to_upper ( digitz [ 0 ] ); 639\\n* ( dst ++ ) = canonicalize_to_upper ( digitz [ 1 ] ); 640\\nif ( ! svn_uri__char_validity [ ( unsigned char ) ( * src ) ] )  647\\napr_snprintf ( dst , 4 , \"%%%02X\" , ( ( unsigned char ) ( * src ) ) ); 648\\ndst += 3; 649\\n* ( dst ++ ) = * src; 652\\nsrc ++; 657\\n* dst = \\'\\\\0\\'; 659\\nreturn canon ; 661\\n0\\n'\n",
            "  0]\n",
            " ['2 79848/CWE134_Uncontrolled_Format_String__char_environment_vfprintf_52a.c strcpy 70\\nstatic void goodG2B() 64\\nchar * data ; 66\\nchar dataBuffer [ 100 ] = \"\" ; 67\\ndata = dataBuffer; 68\\nstrcpy ( data , \"fixedstringtest\" ); 70\\nCWE134_Uncontrolled_Format_String__char_environment_vfprintf_52b_goodG2BSink ( data ); 71\\nvoid CWE134_Uncontrolled_Format_String__char_environment_vfprintf_52b_goodG2BSink(char * data) 50\\nCWE134_Uncontrolled_Format_String__char_environment_vfprintf_52c_goodG2BSink ( data ); 52\\nvoid CWE134_Uncontrolled_Format_String__char_environment_vfprintf_52c_goodG2BSink(char * data) 67\\ngoodG2BVaSink ( data , data ); 69\\nstatic void goodG2BVaSink(char * data, ...) 56\\nva_start ( args , data ); 60\\nvfprintf ( stdout , data , args ); 62\\n0\\n'\n",
            "  0]\n",
            " ['3 94203/CWE319_Cleartext_Tx_Sensitive_Info__w32_wchar_t_connect_socket_10.c memcpy 402\\nstatic void goodB2G2() 289\\nwchar_t * password ; 291\\nwchar_t passwordBuffer [ 100 ] = L \"\" 292\\npassword = passwordBuffer; 293\\nif ( globalTrue )  294\\nWSADATA wsaData ; 297\\nint recvResult ; 299\\nstruct sockaddr_in service ; 300\\nsize_t passwordLen = wcslen ( password ) ; 303\\nif ( WSAStartup ( MAKEWORD ( 2 , 2 ) , & wsaData ) != NO_ERROR )  306\\nconnectSocket = socket ( AF_INET , SOCK_STREAM , IPPROTO_TCP ); 311\\nif ( connectSocket == INVALID_SOCKET )  312\\nmemset ( & service , 0 , sizeof ( service ) ); 316\\nservice . sin_family = AF_INET; 317\\nservice . sin_addr . s_addr = inet_addr ( IP_ADDRESS ); 318\\nservice . sin_port = htons ( TCP_PORT ); 319\\nif ( connect ( connectSocket , ( struct sockaddr * ) & service , sizeof ( service ) ) == SOCKET_ERROR )  320\\nrecvResult = recv ( connectSocket , ( char * ) ( password + passwordLen ) , ( 100 - passwordLen - 1 ) * sizeof ( wchar_t ) , 0 ); 327\\nif ( recvResult == SOCKET_ERROR || recvResult == 0 )  328\\npassword [ passwordLen + recvResult / sizeof ( wchar_t ) ] = L \\'\\\\0\\' 333\\nwhile ( 0 )  346\\nif ( globalTrue )  357\\nHCRYPTPROV hCryptProv = 0 ; 360\\nHCRYPTHASH hHash = 0 ; 361\\nHCRYPTKEY hKey = 0 ; 362\\nchar hashData [ 100 ] = HASH_INPUT ; 363\\nBYTE payload [ ( 100 - 1 ) * sizeof ( wchar_t ) ] ; 369\\nDWORD payloadBytes ; 370\\npayloadBytes = decodeHexWChars ( payload , sizeof ( payload ) , password ); 372\\nsize_t decodeHexWChars(unsigned char * bytes, size_t numBytes, const wchar_t * hex) 126\\nsize_t numWritten = 0 ; 128\\nwhile ( numWritten < numBytes && iswxdigit ( hex [ 2 * numWritten ] ) && iswxdigit ( hex [ 2 * numWritten + 1 ] ) )  134\\nint byte ; 136\\nbytes [ numWritten ] = ( unsigned char ) byte; 138\\nreturn numWritten ; 142\\nif ( ! CryptAcquireContext ( & hCryptProv , NULL , MS_ENH_RSA_AES_PROV , PROV_RSA_AES , 0 ) )  377\\nif ( ! CryptCreateHash ( hCryptProv , CALG_SHA_256 , 0 , 0 , & hHash ) )  382\\nif ( ! CryptHashData ( hHash , ( BYTE * ) hashData , strlen ( hashData ) , 0 ) )  387\\nif ( ! CryptDeriveKey ( hCryptProv , CALG_AES_256 , hHash , 0 , & hKey ) )  392\\nif ( ! CryptDecrypt ( hKey , 0 , 1 , 0 , payload , & payloadBytes ) )  397\\nmemcpy ( password , payload , payloadBytes ); 402\\nwhile ( 0 )  405\\nif ( LogonUserW ( username , domain , password , LOGON32_LOGON_NETWORK , LOGON32_PROVIDER_DEFAULT , & pHandle ) != 0 )  419\\n0\\n'\n",
            "  0]]\n"
          ]
        }
      ]
    },
    {
      "cell_type": "code",
      "source": [
        "BUFFER_SIZE = 10000\n",
        "BATCH_SIZE = 64"
      ],
      "metadata": {
        "id": "HbdDz4v8p9FV"
      },
      "execution_count": 13,
      "outputs": []
    },
    {
      "cell_type": "code",
      "source": [
        "train_dataset = train_dataset.sample(frac=0.5, replace=True, random_state=1)\n",
        "test_dataset = test_dataset.sample(frac=0.5, replace=True, random_state=1)"
      ],
      "metadata": {
        "id": "znXKsSejuwrt"
      },
      "execution_count": 14,
      "outputs": []
    },
    {
      "cell_type": "code",
      "source": [
        "VOCAB_SIZE = 10000\n",
        "encoder = tf.keras.layers.TextVectorization(\n",
        "    max_tokens=VOCAB_SIZE)\n",
        "encoder.adapt(tensor)"
      ],
      "metadata": {
        "id": "eGmVnaPNuz78"
      },
      "execution_count": 15,
      "outputs": []
    },
    {
      "cell_type": "code",
      "source": [
        "train_dataset['1']"
      ],
      "metadata": {
        "colab": {
          "base_uri": "https://localhost:8080/"
        },
        "id": "2xu4c0thFDLc",
        "outputId": "8a252e8d-30b2-4bc7-ef59-49edab5dd824"
      },
      "execution_count": 16,
      "outputs": [
        {
          "output_type": "execute_result",
          "data": {
            "text/plain": [
              "128037    128038 65080/CWE121_Stack_Based_Buffer_Overflo...\n",
              "5192      5193 80996/CWE134_Uncontrolled_Format_String__...\n",
              "50057     50058 63206/CWE121_Stack_Based_Buffer_Overflow...\n",
              "109259    109260 152935/config_file.c strlen 925\\ninline...\n",
              "73349     73350 117223/CWE789_Uncontrolled_Mem_Alloc__ma...\n",
              "                                ...                        \n",
              "85221     85222 93409/CWE256_Plaintext_Storage_of_Passwo...\n",
              "17921     17922 99720/CWE401_Memory_Leak__malloc_realloc...\n",
              "113980    113981 149951/color.c strlen 402\\nvoid parse_d...\n",
              "117534    117535 117207/CWE789_Uncontrolled_Mem_Alloc__m...\n",
              "40580     40581 72811/CWE122_Heap_Based_Buffer_Overflow_...\n",
              "Name: 1, Length: 72000, dtype: object"
            ]
          },
          "metadata": {},
          "execution_count": 16
        }
      ]
    },
    {
      "cell_type": "code",
      "source": [
        "train_dataset"
      ],
      "metadata": {
        "colab": {
          "base_uri": "https://localhost:8080/",
          "height": 423
        },
        "id": "NGm4K6w1CYia",
        "outputId": "2ce83f56-efd4-406e-cbbb-8dd346b983fb"
      },
      "execution_count": 17,
      "outputs": [
        {
          "output_type": "execute_result",
          "data": {
            "text/plain": [
              "                                                        1  label\n",
              "128037  128038 65080/CWE121_Stack_Based_Buffer_Overflo...      0\n",
              "5192    5193 80996/CWE134_Uncontrolled_Format_String__...      0\n",
              "50057   50058 63206/CWE121_Stack_Based_Buffer_Overflow...      0\n",
              "109259  109260 152935/config_file.c strlen 925\\ninline...     22\n",
              "73349   73350 117223/CWE789_Uncontrolled_Mem_Alloc__ma...      0\n",
              "...                                                   ...    ...\n",
              "85221   85222 93409/CWE256_Plaintext_Storage_of_Passwo...      0\n",
              "17921   17922 99720/CWE401_Memory_Leak__malloc_realloc...      0\n",
              "113980  113981 149951/color.c strlen 402\\nvoid parse_d...      0\n",
              "117534  117535 117207/CWE789_Uncontrolled_Mem_Alloc__m...      0\n",
              "40580   40581 72811/CWE122_Heap_Based_Buffer_Overflow_...      3\n",
              "\n",
              "[72000 rows x 2 columns]"
            ],
            "text/html": [
              "\n",
              "  <div id=\"df-c7f68e76-a9da-41b2-a8d9-268fdd57f1a1\" class=\"colab-df-container\">\n",
              "    <div>\n",
              "<style scoped>\n",
              "    .dataframe tbody tr th:only-of-type {\n",
              "        vertical-align: middle;\n",
              "    }\n",
              "\n",
              "    .dataframe tbody tr th {\n",
              "        vertical-align: top;\n",
              "    }\n",
              "\n",
              "    .dataframe thead th {\n",
              "        text-align: right;\n",
              "    }\n",
              "</style>\n",
              "<table border=\"1\" class=\"dataframe\">\n",
              "  <thead>\n",
              "    <tr style=\"text-align: right;\">\n",
              "      <th></th>\n",
              "      <th>1</th>\n",
              "      <th>label</th>\n",
              "    </tr>\n",
              "  </thead>\n",
              "  <tbody>\n",
              "    <tr>\n",
              "      <th>128037</th>\n",
              "      <td>128038 65080/CWE121_Stack_Based_Buffer_Overflo...</td>\n",
              "      <td>0</td>\n",
              "    </tr>\n",
              "    <tr>\n",
              "      <th>5192</th>\n",
              "      <td>5193 80996/CWE134_Uncontrolled_Format_String__...</td>\n",
              "      <td>0</td>\n",
              "    </tr>\n",
              "    <tr>\n",
              "      <th>50057</th>\n",
              "      <td>50058 63206/CWE121_Stack_Based_Buffer_Overflow...</td>\n",
              "      <td>0</td>\n",
              "    </tr>\n",
              "    <tr>\n",
              "      <th>109259</th>\n",
              "      <td>109260 152935/config_file.c strlen 925\\ninline...</td>\n",
              "      <td>22</td>\n",
              "    </tr>\n",
              "    <tr>\n",
              "      <th>73349</th>\n",
              "      <td>73350 117223/CWE789_Uncontrolled_Mem_Alloc__ma...</td>\n",
              "      <td>0</td>\n",
              "    </tr>\n",
              "    <tr>\n",
              "      <th>...</th>\n",
              "      <td>...</td>\n",
              "      <td>...</td>\n",
              "    </tr>\n",
              "    <tr>\n",
              "      <th>85221</th>\n",
              "      <td>85222 93409/CWE256_Plaintext_Storage_of_Passwo...</td>\n",
              "      <td>0</td>\n",
              "    </tr>\n",
              "    <tr>\n",
              "      <th>17921</th>\n",
              "      <td>17922 99720/CWE401_Memory_Leak__malloc_realloc...</td>\n",
              "      <td>0</td>\n",
              "    </tr>\n",
              "    <tr>\n",
              "      <th>113980</th>\n",
              "      <td>113981 149951/color.c strlen 402\\nvoid parse_d...</td>\n",
              "      <td>0</td>\n",
              "    </tr>\n",
              "    <tr>\n",
              "      <th>117534</th>\n",
              "      <td>117535 117207/CWE789_Uncontrolled_Mem_Alloc__m...</td>\n",
              "      <td>0</td>\n",
              "    </tr>\n",
              "    <tr>\n",
              "      <th>40580</th>\n",
              "      <td>40581 72811/CWE122_Heap_Based_Buffer_Overflow_...</td>\n",
              "      <td>3</td>\n",
              "    </tr>\n",
              "  </tbody>\n",
              "</table>\n",
              "<p>72000 rows × 2 columns</p>\n",
              "</div>\n",
              "    <div class=\"colab-df-buttons\">\n",
              "\n",
              "  <div class=\"colab-df-container\">\n",
              "    <button class=\"colab-df-convert\" onclick=\"convertToInteractive('df-c7f68e76-a9da-41b2-a8d9-268fdd57f1a1')\"\n",
              "            title=\"Convert this dataframe to an interactive table.\"\n",
              "            style=\"display:none;\">\n",
              "\n",
              "  <svg xmlns=\"http://www.w3.org/2000/svg\" height=\"24px\" viewBox=\"0 -960 960 960\">\n",
              "    <path d=\"M120-120v-720h720v720H120Zm60-500h600v-160H180v160Zm220 220h160v-160H400v160Zm0 220h160v-160H400v160ZM180-400h160v-160H180v160Zm440 0h160v-160H620v160ZM180-180h160v-160H180v160Zm440 0h160v-160H620v160Z\"/>\n",
              "  </svg>\n",
              "    </button>\n",
              "\n",
              "  <style>\n",
              "    .colab-df-container {\n",
              "      display:flex;\n",
              "      gap: 12px;\n",
              "    }\n",
              "\n",
              "    .colab-df-convert {\n",
              "      background-color: #E8F0FE;\n",
              "      border: none;\n",
              "      border-radius: 50%;\n",
              "      cursor: pointer;\n",
              "      display: none;\n",
              "      fill: #1967D2;\n",
              "      height: 32px;\n",
              "      padding: 0 0 0 0;\n",
              "      width: 32px;\n",
              "    }\n",
              "\n",
              "    .colab-df-convert:hover {\n",
              "      background-color: #E2EBFA;\n",
              "      box-shadow: 0px 1px 2px rgba(60, 64, 67, 0.3), 0px 1px 3px 1px rgba(60, 64, 67, 0.15);\n",
              "      fill: #174EA6;\n",
              "    }\n",
              "\n",
              "    .colab-df-buttons div {\n",
              "      margin-bottom: 4px;\n",
              "    }\n",
              "\n",
              "    [theme=dark] .colab-df-convert {\n",
              "      background-color: #3B4455;\n",
              "      fill: #D2E3FC;\n",
              "    }\n",
              "\n",
              "    [theme=dark] .colab-df-convert:hover {\n",
              "      background-color: #434B5C;\n",
              "      box-shadow: 0px 1px 3px 1px rgba(0, 0, 0, 0.15);\n",
              "      filter: drop-shadow(0px 1px 2px rgba(0, 0, 0, 0.3));\n",
              "      fill: #FFFFFF;\n",
              "    }\n",
              "  </style>\n",
              "\n",
              "    <script>\n",
              "      const buttonEl =\n",
              "        document.querySelector('#df-c7f68e76-a9da-41b2-a8d9-268fdd57f1a1 button.colab-df-convert');\n",
              "      buttonEl.style.display =\n",
              "        google.colab.kernel.accessAllowed ? 'block' : 'none';\n",
              "\n",
              "      async function convertToInteractive(key) {\n",
              "        const element = document.querySelector('#df-c7f68e76-a9da-41b2-a8d9-268fdd57f1a1');\n",
              "        const dataTable =\n",
              "          await google.colab.kernel.invokeFunction('convertToInteractive',\n",
              "                                                    [key], {});\n",
              "        if (!dataTable) return;\n",
              "\n",
              "        const docLinkHtml = 'Like what you see? Visit the ' +\n",
              "          '<a target=\"_blank\" href=https://colab.research.google.com/notebooks/data_table.ipynb>data table notebook</a>'\n",
              "          + ' to learn more about interactive tables.';\n",
              "        element.innerHTML = '';\n",
              "        dataTable['output_type'] = 'display_data';\n",
              "        await google.colab.output.renderOutput(dataTable, element);\n",
              "        const docLink = document.createElement('div');\n",
              "        docLink.innerHTML = docLinkHtml;\n",
              "        element.appendChild(docLink);\n",
              "      }\n",
              "    </script>\n",
              "  </div>\n",
              "\n",
              "\n",
              "<div id=\"df-b1a60282-fae5-4971-b1b0-367dd944fb01\">\n",
              "  <button class=\"colab-df-quickchart\" onclick=\"quickchart('df-b1a60282-fae5-4971-b1b0-367dd944fb01')\"\n",
              "            title=\"Suggest charts\"\n",
              "            style=\"display:none;\">\n",
              "\n",
              "<svg xmlns=\"http://www.w3.org/2000/svg\" height=\"24px\"viewBox=\"0 0 24 24\"\n",
              "     width=\"24px\">\n",
              "    <g>\n",
              "        <path d=\"M19 3H5c-1.1 0-2 .9-2 2v14c0 1.1.9 2 2 2h14c1.1 0 2-.9 2-2V5c0-1.1-.9-2-2-2zM9 17H7v-7h2v7zm4 0h-2V7h2v10zm4 0h-2v-4h2v4z\"/>\n",
              "    </g>\n",
              "</svg>\n",
              "  </button>\n",
              "\n",
              "<style>\n",
              "  .colab-df-quickchart {\n",
              "      --bg-color: #E8F0FE;\n",
              "      --fill-color: #1967D2;\n",
              "      --hover-bg-color: #E2EBFA;\n",
              "      --hover-fill-color: #174EA6;\n",
              "      --disabled-fill-color: #AAA;\n",
              "      --disabled-bg-color: #DDD;\n",
              "  }\n",
              "\n",
              "  [theme=dark] .colab-df-quickchart {\n",
              "      --bg-color: #3B4455;\n",
              "      --fill-color: #D2E3FC;\n",
              "      --hover-bg-color: #434B5C;\n",
              "      --hover-fill-color: #FFFFFF;\n",
              "      --disabled-bg-color: #3B4455;\n",
              "      --disabled-fill-color: #666;\n",
              "  }\n",
              "\n",
              "  .colab-df-quickchart {\n",
              "    background-color: var(--bg-color);\n",
              "    border: none;\n",
              "    border-radius: 50%;\n",
              "    cursor: pointer;\n",
              "    display: none;\n",
              "    fill: var(--fill-color);\n",
              "    height: 32px;\n",
              "    padding: 0;\n",
              "    width: 32px;\n",
              "  }\n",
              "\n",
              "  .colab-df-quickchart:hover {\n",
              "    background-color: var(--hover-bg-color);\n",
              "    box-shadow: 0 1px 2px rgba(60, 64, 67, 0.3), 0 1px 3px 1px rgba(60, 64, 67, 0.15);\n",
              "    fill: var(--button-hover-fill-color);\n",
              "  }\n",
              "\n",
              "  .colab-df-quickchart-complete:disabled,\n",
              "  .colab-df-quickchart-complete:disabled:hover {\n",
              "    background-color: var(--disabled-bg-color);\n",
              "    fill: var(--disabled-fill-color);\n",
              "    box-shadow: none;\n",
              "  }\n",
              "\n",
              "  .colab-df-spinner {\n",
              "    border: 2px solid var(--fill-color);\n",
              "    border-color: transparent;\n",
              "    border-bottom-color: var(--fill-color);\n",
              "    animation:\n",
              "      spin 1s steps(1) infinite;\n",
              "  }\n",
              "\n",
              "  @keyframes spin {\n",
              "    0% {\n",
              "      border-color: transparent;\n",
              "      border-bottom-color: var(--fill-color);\n",
              "      border-left-color: var(--fill-color);\n",
              "    }\n",
              "    20% {\n",
              "      border-color: transparent;\n",
              "      border-left-color: var(--fill-color);\n",
              "      border-top-color: var(--fill-color);\n",
              "    }\n",
              "    30% {\n",
              "      border-color: transparent;\n",
              "      border-left-color: var(--fill-color);\n",
              "      border-top-color: var(--fill-color);\n",
              "      border-right-color: var(--fill-color);\n",
              "    }\n",
              "    40% {\n",
              "      border-color: transparent;\n",
              "      border-right-color: var(--fill-color);\n",
              "      border-top-color: var(--fill-color);\n",
              "    }\n",
              "    60% {\n",
              "      border-color: transparent;\n",
              "      border-right-color: var(--fill-color);\n",
              "    }\n",
              "    80% {\n",
              "      border-color: transparent;\n",
              "      border-right-color: var(--fill-color);\n",
              "      border-bottom-color: var(--fill-color);\n",
              "    }\n",
              "    90% {\n",
              "      border-color: transparent;\n",
              "      border-bottom-color: var(--fill-color);\n",
              "    }\n",
              "  }\n",
              "</style>\n",
              "\n",
              "  <script>\n",
              "    async function quickchart(key) {\n",
              "      const quickchartButtonEl =\n",
              "        document.querySelector('#' + key + ' button');\n",
              "      quickchartButtonEl.disabled = true;  // To prevent multiple clicks.\n",
              "      quickchartButtonEl.classList.add('colab-df-spinner');\n",
              "      try {\n",
              "        const charts = await google.colab.kernel.invokeFunction(\n",
              "            'suggestCharts', [key], {});\n",
              "      } catch (error) {\n",
              "        console.error('Error during call to suggestCharts:', error);\n",
              "      }\n",
              "      quickchartButtonEl.classList.remove('colab-df-spinner');\n",
              "      quickchartButtonEl.classList.add('colab-df-quickchart-complete');\n",
              "    }\n",
              "    (() => {\n",
              "      let quickchartButtonEl =\n",
              "        document.querySelector('#df-b1a60282-fae5-4971-b1b0-367dd944fb01 button');\n",
              "      quickchartButtonEl.style.display =\n",
              "        google.colab.kernel.accessAllowed ? 'block' : 'none';\n",
              "    })();\n",
              "  </script>\n",
              "</div>\n",
              "    </div>\n",
              "  </div>\n"
            ]
          },
          "metadata": {},
          "execution_count": 17
        }
      ]
    },
    {
      "cell_type": "code",
      "source": [
        "vocab = np.array(encoder.get_vocabulary())\n",
        "vocab[:20]"
      ],
      "metadata": {
        "colab": {
          "base_uri": "https://localhost:8080/"
        },
        "id": "O1B9Kw7_vLiD",
        "outputId": "a537394f-7c70-48fe-a9f7-647df34570d8"
      },
      "execution_count": 18,
      "outputs": [
        {
          "output_type": "execute_result",
          "data": {
            "text/plain": [
              "array(['', '[UNK]', '0', 'if', 'data', '1', 'char', 'void', 'i', 'd', 's',\n",
              "       'service', 'sizeof', 'int', '100', 'recvresult', '2', 'static',\n",
              "       'datalen', 'null'], dtype='<U559')"
            ]
          },
          "metadata": {},
          "execution_count": 18
        }
      ]
    },
    {
      "cell_type": "code",
      "source": [
        "example = [[' /CWE_Heap_Based_Buffer_Overflow__cpp_CWE_char_snprintf_.cpp memset \\nvoid bad() \\nchar * data ; \\ndata = new char [  ]; \\nif ( GLOBAL_CONST_TRUE )  \\nmemset ( data , \\'A\\' ,  -  ); \\ndata [  -  ] = \\'\\\\\\'; \\nSNPRINTF ( dest , strlen ( data ) , \"%s\" , data ); \\nprintLine ( data ); \\nvoid printLine (const char * line) \\nif ( line != NULL )  \\nprintf ( \"%s\\\\n\" , line ); \\ndelete [ ] data \\n\\n'],\n",
        " [' /CWE_Trapdoor__ip_based_logic_.c send \\nvoid CWE_Trapdoor__ip_based_logic__bad() \\nWSADATA wsaData ; \\nstruct sockaddr_in service , acceptService ; \\nif ( WSAStartup ( MAKEWORD (  ,  ) , & wsaData ) != NO_ERROR )  \\nlistenSocket = socket ( AF_INET , SOCK_STREAM , IPPROTO_TCP ); \\nif ( listenSocket == INVALID_SOCKET )  \\nmemset ( & service ,  , sizeof ( service ) ); \\nservice . sin_family = AF_INET; \\nservice . sin_addr . s_addr = INADDR_ANY; \\nservice . sin_port = htons (  ); \\nif ( bind ( listenSocket , ( struct sockaddr * ) & service , sizeof ( service ) ) == SOCKET_ERROR )  \\nif ( listen ( listenSocket ,  ) == SOCKET_ERROR )  \\nacceptSocket = accept ( listenSocket , NULL , NULL ); \\nif ( acceptSocket == SOCKET_ERROR )  \\nif ( getsockname ( acceptSocket , ( struct sockaddr * ) & acceptService , & acceptServiceLen ) == -  )  \\nif ( strcmp ( \"...\" , inet_ntoa ( acceptService . sin_addr ) ) ==  )  \\nif ( send ( acceptSocket , ADMIN_MESSAGE , strlen ( ADMIN_MESSAGE ) ,  ) == SOCKET_ERROR )  \\nif ( send ( acceptSocket , DEFAULT_MESSAGE , strlen ( DEFAULT_MESSAGE ) ,  ) == SOCKET_ERROR )  \\nwhile (  )  \\n\\n'],\n",
        " [' /CWE_OS_Command_Injection__char_console_wspawnl_.c strlen \\nvoid CWE_OS_Command_Injection__char_console_wspawnl__bad() \\nchar * data ; \\nchar dataBuffer [  ] = \"\" ; \\ndata = dataBuffer; \\nif ( staticFive ==  )  \\nsize_t dataLen = strlen ( data ) ; \\nif (  - dataLen >  )  \\nif ( fgets ( data + dataLen , ( int ) (  - dataLen ) , stdin ) != NULL )  \\ndataLen = strlen ( data ); \\nif ( dataLen >  && data [ dataLen -  ] == \\'\\\\n\\' )  \\ndata [ dataLen -  ] = \\'\\\\\\'; \\n\\n']\n",
        "           ]"
      ],
      "metadata": {
        "id": "ZL7Cs8yU2EtL"
      },
      "execution_count": 19,
      "outputs": []
    },
    {
      "cell_type": "code",
      "source": [
        "encoded_example = encoder(example)[:3].numpy()\n",
        "encoded_example"
      ],
      "metadata": {
        "colab": {
          "base_uri": "https://localhost:8080/"
        },
        "id": "KIUKUsj01sv8",
        "outputId": "7ec17472-d332-4441-90e5-03bf06f9a4ae"
      },
      "execution_count": 20,
      "outputs": [
        {
          "output_type": "execute_result",
          "data": {
            "text/plain": [
              "array([[   1,   34,    7,  170,    6,    4,    4,  268,    6,    3,  820,\n",
              "          34,    4,  111,    4,  301,   43,   29,    4,   10,    4,   54,\n",
              "           4,    7,   54,   35,    6,   20,    3,   20,   19,   69,  104,\n",
              "          20,  385,    4,    0,    0,    0,    0,    0,    0,    0,    0,\n",
              "           0,    0,    0,    0,    0,    0,    0,    0,    0,    0,    0,\n",
              "           0,    0,    0,    0,    0,    0,    0,    0,    0,    0,    0,\n",
              "           0,    0,    0,    0,    0,    0,    0,    0,    0,    0,    0,\n",
              "           0,    0,    0,    0,    0,    0,    0,    0],\n",
              "       [   1, 1532,    7,    1,   28,   28,   24,   85,   11, 5859,    3,\n",
              "          88,   89,   28,   94,   32,   68,   45,   86,   95,    3,   32,\n",
              "          63,   34,   11,   12,   11,   11,   91,   45,   11,   84,   83,\n",
              "         184,   11,   87,   90,    3,  178,   32,   24,   80,   11,   12,\n",
              "          11,   26,    3,  182,   32,   26,   47,  181,   32,   19,   19,\n",
              "           3,   47,   26,    3, 7586,   47,   24,   80, 5859, 9832,    3,\n",
              "         239,    1, 5859,   84,    3, 1532,   47, 7369,   29, 7369,   26,\n",
              "           3, 1532,   47, 5017,   29, 5017,   26,   31],\n",
              "       [   1,   29,    7,    1,    6,    4,    6,   23,    4,   23,    3,\n",
              "         706,   33,   18,   29,    4,    3,   18,    3,  245,    4,   18,\n",
              "          13,   18,  355,   19,   18,   29,    4,    3,   18,    4,   18,\n",
              "          72,    4,   18,    0,    0,    0,    0,    0,    0,    0,    0,\n",
              "           0,    0,    0,    0,    0,    0,    0,    0,    0,    0,    0,\n",
              "           0,    0,    0,    0,    0,    0,    0,    0,    0,    0,    0,\n",
              "           0,    0,    0,    0,    0,    0,    0,    0,    0,    0,    0,\n",
              "           0,    0,    0,    0,    0,    0,    0,    0]])"
            ]
          },
          "metadata": {},
          "execution_count": 20
        }
      ]
    },
    {
      "cell_type": "code",
      "source": [
        "model = tf.keras.Sequential([\n",
        "    encoder,\n",
        "    tf.keras.layers.Embedding(\n",
        "        input_dim=len(encoder.get_vocabulary()),\n",
        "        output_dim=1,\n",
        "        # Use masking to handle the variable sequence lengths\n",
        "        mask_zero=True),\n",
        "    tf.keras.layers.Bidirectional(tf.keras.layers.LSTM(64)),\n",
        "    tf.keras.layers.Dense(64, activation='relu'),\n",
        "    tf.keras.layers.Dense(41, activation='softmax')\n",
        "])"
      ],
      "metadata": {
        "id": "37F5BLCzvUaR"
      },
      "execution_count": 21,
      "outputs": []
    },
    {
      "cell_type": "code",
      "source": [
        "model.compile(loss='categorical_crossentropy',\n",
        "              optimizer=tf.keras.optimizers.Adam(1e-4),\n",
        "              metrics=['accuracy'])"
      ],
      "metadata": {
        "id": "dOO4Snm-GmMV"
      },
      "execution_count": 22,
      "outputs": []
    },
    {
      "cell_type": "code",
      "source": [
        "X_train = train_dataset['1']\n",
        "y_train = train_dataset['label']\n",
        "y_train = tf.keras.utils.to_categorical(y_train, num_classes=41)"
      ],
      "metadata": {
        "id": "oMU2ork1IsoF"
      },
      "execution_count": 23,
      "outputs": []
    },
    {
      "cell_type": "code",
      "source": [
        "print(X_train.shape)\n",
        "print(y_train.shape)"
      ],
      "metadata": {
        "colab": {
          "base_uri": "https://localhost:8080/"
        },
        "id": "A_r_W-OwJCHu",
        "outputId": "1b259cc5-f805-47ee-e484-8fb978f8d808"
      },
      "execution_count": 24,
      "outputs": [
        {
          "output_type": "stream",
          "name": "stdout",
          "text": [
            "(72000,)\n",
            "(72000, 41)\n"
          ]
        }
      ]
    },
    {
      "cell_type": "code",
      "source": [
        "history = model.fit(X_train,y_train, epochs=1,\n",
        "                    # validation_data=test_dataset,\n",
        "                    # validation_steps=30\n",
        "                    )"
      ],
      "metadata": {
        "colab": {
          "base_uri": "https://localhost:8080/"
        },
        "id": "cHvBqxI7GxNl",
        "outputId": "4856ce61-7001-4717-8547-df438902c808"
      },
      "execution_count": 25,
      "outputs": [
        {
          "output_type": "stream",
          "name": "stdout",
          "text": [
            "2250/2250 [==============================] - 3500s 2s/step - loss: 1.0652 - accuracy: 0.7952\n"
          ]
        }
      ]
    },
    {
      "cell_type": "code",
      "source": [
        "X_test = test_dataset['1']\n",
        "y_test = test_dataset['label']\n",
        "y_test = tf.keras.utils.to_categorical(y_test, num_classes=41)"
      ],
      "metadata": {
        "id": "MUbEuLvrLc8U"
      },
      "execution_count": 26,
      "outputs": []
    },
    {
      "cell_type": "code",
      "source": [
        "test_loss, test_acc = model.evaluate(X_test,y_test)\n",
        "\n",
        "print('Test Loss:', test_loss)\n",
        "print('Test Accuracy:', test_acc)"
      ],
      "metadata": {
        "colab": {
          "base_uri": "https://localhost:8080/"
        },
        "id": "98lfrvSFLNst",
        "outputId": "171bb7a8-2a0b-4150-f369-bc9fa332388b"
      },
      "execution_count": 27,
      "outputs": [
        {
          "output_type": "stream",
          "name": "stdout",
          "text": [
            "563/563 [==============================] - 168s 285ms/step - loss: 0.6521 - accuracy: 0.8667\n",
            "Test Loss: 0.6521329879760742\n",
            "Test Accuracy: 0.8667222261428833\n"
          ]
        }
      ]
    }
  ]
}