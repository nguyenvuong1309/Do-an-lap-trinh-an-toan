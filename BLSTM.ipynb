{
  "nbformat": 4,
  "nbformat_minor": 0,
  "metadata": {
    "colab": {
      "provenance": [],
      "authorship_tag": "ABX9TyOJoX4EqMaCjRMVMDDh6rM2",
      "include_colab_link": true
    },
    "kernelspec": {
      "name": "python3",
      "display_name": "Python 3"
    },
    "language_info": {
      "name": "python"
    }
  },
  "cells": [
    {
      "cell_type": "markdown",
      "metadata": {
        "id": "view-in-github",
        "colab_type": "text"
      },
      "source": [
        "<a href=\"https://colab.research.google.com/github/nguyenvuong1309/Do-an-lap-trinh-an-toan/blob/main/BLSTM.ipynb\" target=\"_parent\"><img src=\"https://colab.research.google.com/assets/colab-badge.svg\" alt=\"Open In Colab\"/></a>"
      ]
    },
    {
      "cell_type": "code",
      "execution_count": 69,
      "metadata": {
        "colab": {
          "base_uri": "https://localhost:8080/"
        },
        "id": "b9zgec2Bi3Mw",
        "outputId": "6d336e73-a8db-40bf-e027-3d6c63b00054"
      },
      "outputs": [
        {
          "output_type": "stream",
          "name": "stdout",
          "text": [
            "Drive already mounted at /content/drive; to attempt to forcibly remount, call drive.mount(\"/content/drive\", force_remount=True).\n"
          ]
        }
      ],
      "source": [
        "from google.colab import drive\n",
        "drive.mount('/content/drive')"
      ]
    },
    {
      "cell_type": "code",
      "source": [
        "import tensorflow as tf\n",
        "from tensorflow import keras\n",
        "from tensorflow.keras import layers, models\n",
        "from tensorflow.keras.utils import to_categorical\n",
        "import pandas as pd\n",
        "from numpy import zeros, newaxis\n",
        "import numpy as np\n",
        "from keras.layers import Dense, Embedding, LSTM, SpatialDropout1D, Bidirectional,Activation\n",
        "import csv\n"
      ],
      "metadata": {
        "id": "F10H8T-5i62w"
      },
      "execution_count": 70,
      "outputs": []
    },
    {
      "cell_type": "code",
      "source": [
        "csv_file_path = '/content/drive/MyDrive/Colab/dataset/text_dataset.csv'\n",
        "df = pd.read_csv(csv_file_path,sep=\",\")"
      ],
      "metadata": {
        "id": "uJ07mKCSu0pz"
      },
      "execution_count": 71,
      "outputs": []
    },
    {
      "cell_type": "code",
      "source": [
        "dataset = df"
      ],
      "metadata": {
        "id": "LiIbjU8ru_ls"
      },
      "execution_count": 72,
      "outputs": []
    },
    {
      "cell_type": "code",
      "source": [
        "print(dataset.head())"
      ],
      "metadata": {
        "id": "xDfZly_H39WE",
        "outputId": "83b14e30-f75f-4483-d062-cea64a98707b",
        "colab": {
          "base_uri": "https://localhost:8080/"
        }
      },
      "execution_count": 73,
      "outputs": [
        {
          "output_type": "stream",
          "name": "stdout",
          "text": [
            "   Index                                                  1  label\n",
            "0      0  1 150200/dirent_uri.c memset 405\\nconst char *...      0\n",
            "1      1  2 79848/CWE134_Uncontrolled_Format_String__cha...      0\n",
            "2      2  3 94203/CWE319_Cleartext_Tx_Sensitive_Info__w3...      0\n",
            "3      3  4 151133/utils.c strcmp 737\\nint avformat_open...      0\n",
            "4      4  5 94266/CWE319_Cleartext_Tx_Sensitive_Info__w3...     32\n"
          ]
        }
      ]
    },
    {
      "cell_type": "code",
      "source": [
        "dataset = dataset[['1','label']]\n",
        "dataset.head()"
      ],
      "metadata": {
        "colab": {
          "base_uri": "https://localhost:8080/",
          "height": 206
        },
        "id": "nG3ldGgjzGkc",
        "outputId": "63abd321-461f-4855-823b-c82c0544efbe"
      },
      "execution_count": 74,
      "outputs": [
        {
          "output_type": "execute_result",
          "data": {
            "text/plain": [
              "                                                   1  label\n",
              "0  1 150200/dirent_uri.c memset 405\\nconst char *...      0\n",
              "1  2 79848/CWE134_Uncontrolled_Format_String__cha...      0\n",
              "2  3 94203/CWE319_Cleartext_Tx_Sensitive_Info__w3...      0\n",
              "3  4 151133/utils.c strcmp 737\\nint avformat_open...      0\n",
              "4  5 94266/CWE319_Cleartext_Tx_Sensitive_Info__w3...     32"
            ],
            "text/html": [
              "\n",
              "  <div id=\"df-d7b273d6-4b44-41d4-ae28-00057b44908b\" class=\"colab-df-container\">\n",
              "    <div>\n",
              "<style scoped>\n",
              "    .dataframe tbody tr th:only-of-type {\n",
              "        vertical-align: middle;\n",
              "    }\n",
              "\n",
              "    .dataframe tbody tr th {\n",
              "        vertical-align: top;\n",
              "    }\n",
              "\n",
              "    .dataframe thead th {\n",
              "        text-align: right;\n",
              "    }\n",
              "</style>\n",
              "<table border=\"1\" class=\"dataframe\">\n",
              "  <thead>\n",
              "    <tr style=\"text-align: right;\">\n",
              "      <th></th>\n",
              "      <th>1</th>\n",
              "      <th>label</th>\n",
              "    </tr>\n",
              "  </thead>\n",
              "  <tbody>\n",
              "    <tr>\n",
              "      <th>0</th>\n",
              "      <td>1 150200/dirent_uri.c memset 405\\nconst char *...</td>\n",
              "      <td>0</td>\n",
              "    </tr>\n",
              "    <tr>\n",
              "      <th>1</th>\n",
              "      <td>2 79848/CWE134_Uncontrolled_Format_String__cha...</td>\n",
              "      <td>0</td>\n",
              "    </tr>\n",
              "    <tr>\n",
              "      <th>2</th>\n",
              "      <td>3 94203/CWE319_Cleartext_Tx_Sensitive_Info__w3...</td>\n",
              "      <td>0</td>\n",
              "    </tr>\n",
              "    <tr>\n",
              "      <th>3</th>\n",
              "      <td>4 151133/utils.c strcmp 737\\nint avformat_open...</td>\n",
              "      <td>0</td>\n",
              "    </tr>\n",
              "    <tr>\n",
              "      <th>4</th>\n",
              "      <td>5 94266/CWE319_Cleartext_Tx_Sensitive_Info__w3...</td>\n",
              "      <td>32</td>\n",
              "    </tr>\n",
              "  </tbody>\n",
              "</table>\n",
              "</div>\n",
              "    <div class=\"colab-df-buttons\">\n",
              "\n",
              "  <div class=\"colab-df-container\">\n",
              "    <button class=\"colab-df-convert\" onclick=\"convertToInteractive('df-d7b273d6-4b44-41d4-ae28-00057b44908b')\"\n",
              "            title=\"Convert this dataframe to an interactive table.\"\n",
              "            style=\"display:none;\">\n",
              "\n",
              "  <svg xmlns=\"http://www.w3.org/2000/svg\" height=\"24px\" viewBox=\"0 -960 960 960\">\n",
              "    <path d=\"M120-120v-720h720v720H120Zm60-500h600v-160H180v160Zm220 220h160v-160H400v160Zm0 220h160v-160H400v160ZM180-400h160v-160H180v160Zm440 0h160v-160H620v160ZM180-180h160v-160H180v160Zm440 0h160v-160H620v160Z\"/>\n",
              "  </svg>\n",
              "    </button>\n",
              "\n",
              "  <style>\n",
              "    .colab-df-container {\n",
              "      display:flex;\n",
              "      gap: 12px;\n",
              "    }\n",
              "\n",
              "    .colab-df-convert {\n",
              "      background-color: #E8F0FE;\n",
              "      border: none;\n",
              "      border-radius: 50%;\n",
              "      cursor: pointer;\n",
              "      display: none;\n",
              "      fill: #1967D2;\n",
              "      height: 32px;\n",
              "      padding: 0 0 0 0;\n",
              "      width: 32px;\n",
              "    }\n",
              "\n",
              "    .colab-df-convert:hover {\n",
              "      background-color: #E2EBFA;\n",
              "      box-shadow: 0px 1px 2px rgba(60, 64, 67, 0.3), 0px 1px 3px 1px rgba(60, 64, 67, 0.15);\n",
              "      fill: #174EA6;\n",
              "    }\n",
              "\n",
              "    .colab-df-buttons div {\n",
              "      margin-bottom: 4px;\n",
              "    }\n",
              "\n",
              "    [theme=dark] .colab-df-convert {\n",
              "      background-color: #3B4455;\n",
              "      fill: #D2E3FC;\n",
              "    }\n",
              "\n",
              "    [theme=dark] .colab-df-convert:hover {\n",
              "      background-color: #434B5C;\n",
              "      box-shadow: 0px 1px 3px 1px rgba(0, 0, 0, 0.15);\n",
              "      filter: drop-shadow(0px 1px 2px rgba(0, 0, 0, 0.3));\n",
              "      fill: #FFFFFF;\n",
              "    }\n",
              "  </style>\n",
              "\n",
              "    <script>\n",
              "      const buttonEl =\n",
              "        document.querySelector('#df-d7b273d6-4b44-41d4-ae28-00057b44908b button.colab-df-convert');\n",
              "      buttonEl.style.display =\n",
              "        google.colab.kernel.accessAllowed ? 'block' : 'none';\n",
              "\n",
              "      async function convertToInteractive(key) {\n",
              "        const element = document.querySelector('#df-d7b273d6-4b44-41d4-ae28-00057b44908b');\n",
              "        const dataTable =\n",
              "          await google.colab.kernel.invokeFunction('convertToInteractive',\n",
              "                                                    [key], {});\n",
              "        if (!dataTable) return;\n",
              "\n",
              "        const docLinkHtml = 'Like what you see? Visit the ' +\n",
              "          '<a target=\"_blank\" href=https://colab.research.google.com/notebooks/data_table.ipynb>data table notebook</a>'\n",
              "          + ' to learn more about interactive tables.';\n",
              "        element.innerHTML = '';\n",
              "        dataTable['output_type'] = 'display_data';\n",
              "        await google.colab.output.renderOutput(dataTable, element);\n",
              "        const docLink = document.createElement('div');\n",
              "        docLink.innerHTML = docLinkHtml;\n",
              "        element.appendChild(docLink);\n",
              "      }\n",
              "    </script>\n",
              "  </div>\n",
              "\n",
              "\n",
              "<div id=\"df-5d38a8e6-3fe5-4657-983b-40b8cf3ae9aa\">\n",
              "  <button class=\"colab-df-quickchart\" onclick=\"quickchart('df-5d38a8e6-3fe5-4657-983b-40b8cf3ae9aa')\"\n",
              "            title=\"Suggest charts\"\n",
              "            style=\"display:none;\">\n",
              "\n",
              "<svg xmlns=\"http://www.w3.org/2000/svg\" height=\"24px\"viewBox=\"0 0 24 24\"\n",
              "     width=\"24px\">\n",
              "    <g>\n",
              "        <path d=\"M19 3H5c-1.1 0-2 .9-2 2v14c0 1.1.9 2 2 2h14c1.1 0 2-.9 2-2V5c0-1.1-.9-2-2-2zM9 17H7v-7h2v7zm4 0h-2V7h2v10zm4 0h-2v-4h2v4z\"/>\n",
              "    </g>\n",
              "</svg>\n",
              "  </button>\n",
              "\n",
              "<style>\n",
              "  .colab-df-quickchart {\n",
              "      --bg-color: #E8F0FE;\n",
              "      --fill-color: #1967D2;\n",
              "      --hover-bg-color: #E2EBFA;\n",
              "      --hover-fill-color: #174EA6;\n",
              "      --disabled-fill-color: #AAA;\n",
              "      --disabled-bg-color: #DDD;\n",
              "  }\n",
              "\n",
              "  [theme=dark] .colab-df-quickchart {\n",
              "      --bg-color: #3B4455;\n",
              "      --fill-color: #D2E3FC;\n",
              "      --hover-bg-color: #434B5C;\n",
              "      --hover-fill-color: #FFFFFF;\n",
              "      --disabled-bg-color: #3B4455;\n",
              "      --disabled-fill-color: #666;\n",
              "  }\n",
              "\n",
              "  .colab-df-quickchart {\n",
              "    background-color: var(--bg-color);\n",
              "    border: none;\n",
              "    border-radius: 50%;\n",
              "    cursor: pointer;\n",
              "    display: none;\n",
              "    fill: var(--fill-color);\n",
              "    height: 32px;\n",
              "    padding: 0;\n",
              "    width: 32px;\n",
              "  }\n",
              "\n",
              "  .colab-df-quickchart:hover {\n",
              "    background-color: var(--hover-bg-color);\n",
              "    box-shadow: 0 1px 2px rgba(60, 64, 67, 0.3), 0 1px 3px 1px rgba(60, 64, 67, 0.15);\n",
              "    fill: var(--button-hover-fill-color);\n",
              "  }\n",
              "\n",
              "  .colab-df-quickchart-complete:disabled,\n",
              "  .colab-df-quickchart-complete:disabled:hover {\n",
              "    background-color: var(--disabled-bg-color);\n",
              "    fill: var(--disabled-fill-color);\n",
              "    box-shadow: none;\n",
              "  }\n",
              "\n",
              "  .colab-df-spinner {\n",
              "    border: 2px solid var(--fill-color);\n",
              "    border-color: transparent;\n",
              "    border-bottom-color: var(--fill-color);\n",
              "    animation:\n",
              "      spin 1s steps(1) infinite;\n",
              "  }\n",
              "\n",
              "  @keyframes spin {\n",
              "    0% {\n",
              "      border-color: transparent;\n",
              "      border-bottom-color: var(--fill-color);\n",
              "      border-left-color: var(--fill-color);\n",
              "    }\n",
              "    20% {\n",
              "      border-color: transparent;\n",
              "      border-left-color: var(--fill-color);\n",
              "      border-top-color: var(--fill-color);\n",
              "    }\n",
              "    30% {\n",
              "      border-color: transparent;\n",
              "      border-left-color: var(--fill-color);\n",
              "      border-top-color: var(--fill-color);\n",
              "      border-right-color: var(--fill-color);\n",
              "    }\n",
              "    40% {\n",
              "      border-color: transparent;\n",
              "      border-right-color: var(--fill-color);\n",
              "      border-top-color: var(--fill-color);\n",
              "    }\n",
              "    60% {\n",
              "      border-color: transparent;\n",
              "      border-right-color: var(--fill-color);\n",
              "    }\n",
              "    80% {\n",
              "      border-color: transparent;\n",
              "      border-right-color: var(--fill-color);\n",
              "      border-bottom-color: var(--fill-color);\n",
              "    }\n",
              "    90% {\n",
              "      border-color: transparent;\n",
              "      border-bottom-color: var(--fill-color);\n",
              "    }\n",
              "  }\n",
              "</style>\n",
              "\n",
              "  <script>\n",
              "    async function quickchart(key) {\n",
              "      const quickchartButtonEl =\n",
              "        document.querySelector('#' + key + ' button');\n",
              "      quickchartButtonEl.disabled = true;  // To prevent multiple clicks.\n",
              "      quickchartButtonEl.classList.add('colab-df-spinner');\n",
              "      try {\n",
              "        const charts = await google.colab.kernel.invokeFunction(\n",
              "            'suggestCharts', [key], {});\n",
              "      } catch (error) {\n",
              "        console.error('Error during call to suggestCharts:', error);\n",
              "      }\n",
              "      quickchartButtonEl.classList.remove('colab-df-spinner');\n",
              "      quickchartButtonEl.classList.add('colab-df-quickchart-complete');\n",
              "    }\n",
              "    (() => {\n",
              "      let quickchartButtonEl =\n",
              "        document.querySelector('#df-5d38a8e6-3fe5-4657-983b-40b8cf3ae9aa button');\n",
              "      quickchartButtonEl.style.display =\n",
              "        google.colab.kernel.accessAllowed ? 'block' : 'none';\n",
              "    })();\n",
              "  </script>\n",
              "</div>\n",
              "    </div>\n",
              "  </div>\n"
            ]
          },
          "metadata": {},
          "execution_count": 74
        }
      ]
    },
    {
      "cell_type": "code",
      "source": [
        "print(dataset['label'].unique())\n",
        "print(len(dataset['label'].unique()))"
      ],
      "metadata": {
        "colab": {
          "base_uri": "https://localhost:8080/"
        },
        "id": "NO3dSGi4wwen",
        "outputId": "25e41c14-881e-44cb-97be-705244d9a1d2"
      },
      "execution_count": 75,
      "outputs": [
        {
          "output_type": "stream",
          "name": "stdout",
          "text": [
            "[ 0 32  4 10 20 36  3  1 12 25 15 34 16 11  2 14 35 38  9 29  7 18 37 21\n",
            " 22 23  5  8 17 31 39 33 28 30 19 40 26 13 24 27  6]\n",
            "41\n"
          ]
        }
      ]
    },
    {
      "cell_type": "code",
      "source": [
        "train_dataset = dataset[0:int(len(dataset) * 0.8)]\n",
        "test_dataset =  dataset[int(len(dataset) * 0.8) :]"
      ],
      "metadata": {
        "id": "nsBZhvzVvDOx"
      },
      "execution_count": 76,
      "outputs": []
    },
    {
      "cell_type": "code",
      "source": [
        "#<_MapDataset element_spec=TensorSpec(shape=(None,), dtype=tf.string, name=None)>\n",
        "text_data = train_dataset['1'].values\n",
        "tensor = tf.data.Dataset.from_tensor_slices(text_data)"
      ],
      "metadata": {
        "id": "4Xu4Yqw1Cw8M"
      },
      "execution_count": 77,
      "outputs": []
    },
    {
      "cell_type": "code",
      "source": [
        "tensor"
      ],
      "metadata": {
        "colab": {
          "base_uri": "https://localhost:8080/"
        },
        "id": "5QAPEP9-GDr8",
        "outputId": "57c94596-ea07-4c93-9a76-5a71d93d5f46"
      },
      "execution_count": 78,
      "outputs": [
        {
          "output_type": "execute_result",
          "data": {
            "text/plain": [
              "<_TensorSliceDataset element_spec=TensorSpec(shape=(), dtype=tf.string, name=None)>"
            ]
          },
          "metadata": {},
          "execution_count": 78
        }
      ]
    },
    {
      "cell_type": "code",
      "source": [
        "train_dataset_numpy = np.array(train_dataset)"
      ],
      "metadata": {
        "id": "oULeQCWR0njm"
      },
      "execution_count": 79,
      "outputs": []
    },
    {
      "cell_type": "code",
      "source": [
        "print(train_dataset_numpy[:3])"
      ],
      "metadata": {
        "colab": {
          "base_uri": "https://localhost:8080/"
        },
        "id": "BgMuwWRq0hgK",
        "outputId": "80fb3c39-d53a-45aa-830a-f57beef11e80"
      },
      "execution_count": 80,
      "outputs": [
        {
          "output_type": "stream",
          "name": "stdout",
          "text": [
            "[['1 150200/dirent_uri.c memset 405\\nconst char *svn_relpath__internal_style(const char *relpath,apr_pool_t *pool) 861\\nreturn svn_relpath_canonicalize ( internal_style ( relpath , pool ) , pool ) ; 863\\nconst char *svn_relpath_canonicalize(const char *relpath,apr_pool_t *pool) 1411\\nreturn canonicalize ( type_relpath , relpath , pool ) ; 1413\\nstatic const char *canonicalize(path_type_t type,const char *path,apr_pool_t *pool) 389\\nchar * canon ; 391\\nchar * dst ; 392\\nif ( path [ 0 ] == \\'\\\\0\\' )  401\\ndst = canon = ( memset ( apr_palloc ( pool , strlen ( path ) + 1 ) , 0 , strlen ( path ) + 1 ) ); 405\\nwhile ( ( * src ) != \\':\\' )  419\\n* ( dst ++ ) = canonicalize_to_lower ( * ( src ++ ) ); 420\\n* ( dst ++ ) = \\':\\'; 423\\n* ( dst ++ ) = 47; 424\\n* ( dst ++ ) = 47; 425\\nsrc += 3; 426\\nseg = src; 429\\nwhile ( * src && ( * src ) != 47 && ( * src ) != 64 )  430\\nsrc ++; 431\\nif ( ( * src ) == 64 )  432\\nseglen = ( src - seg + 1 ); 434\\nmemcpy ( dst , seg , seglen ); 435\\ndst += seglen; 436\\nsrc ++; 437\\nsrc = seg; 440\\nif ( ( * src ) == \\'[\\' )  443\\n* ( dst ++ ) = * ( src ++ ); 445\\nwhile ( ( * src ) == \\':\\' || ( * src ) >= 48 && ( * src ) <= \\'9\\' || ( * src ) >= \\'a\\' && ( * src ) <= \\'f\\' || ( * src ) >= 65 && ( * src ) <= \\'F\\' )  446\\n* ( dst ++ ) = canonicalize_to_lower ( * ( src ++ ) ); 447\\nif ( ( * src ) == \\']\\' )  449\\n* ( dst ++ ) = * ( src ++ ); 451\\nwhile ( * src && ( * src ) != 47 && ( * src ) != \\':\\' )  455\\n* ( dst ++ ) = canonicalize_to_lower ( * ( src ++ ) ); 456\\nif ( ( * src ) == \\':\\' )  458\\nif ( src [ 1 ] == 56 && src [ 2 ] == 48 && ( src [ 3 ] == 47 || ! src [ 3 ] ) && ! strncmp ( canon , \"http:\" , 5 ) )  461\\nsrc += 3; 462\\nif ( src [ 1 ] == 52 && src [ 2 ] == 52 && src [ 3 ] == 51 && ( src [ 4 ] == 47 || ! src [ 4 ] ) && ! strncmp ( canon , \"https:\" , 6 ) )  465\\nsrc += 4; 466\\nif ( src [ 1 ] == 51 && src [ 2 ] == \\'6\\' && src [ 3 ] == \\'9\\' && src [ 4 ] == 48 && ( src [ 5 ] == 47 || ! src [ 5 ] ) && ! strncmp ( canon , \"svn:\" , 4 ) )  469\\nsrc += 5; 470\\nif ( src [ 1 ] == 47 || ! src [ 1 ] )  473\\nsrc += 1; 474\\nwhile ( * src && ( * src ) != 47 )  479\\n* ( dst ++ ) = canonicalize_to_lower ( * ( src ++ ) ); 480\\n* dst = * src; 483\\nif ( * src )  486\\nsrc ++; 487\\ndst ++; 488\\nschema_data = dst; 489\\nif ( ( * src ) == 47 )  500\\n* ( dst ++ ) = * ( src ++ ); 501\\nwhile ( * src )  515\\nconst char * next = src ; 518\\nwhile ( * next && next [ 0 ] != 47 && ! ( type == type_uri && next [ 0 ] == 37 && next [ 1 ] == 50 && ( canonicalize_to_upper ( next [ 2 ] ) ) == \\'F\\' ) )  520\\nif ( next [ 0 ] == 47 )  524\\nif ( type == type_uri && next [ 0 ] == 37 )  528\\nseglen = ( next - src ); 532\\nif ( seglen == 0 || seglen == 1 && src [ 0 ] == 46 || type == type_uri && seglen == 3 && src [ 0 ] == 37 && src [ 1 ] == 50 && ( canonicalize_to_upper ( src [ 2 ] ) ) == \\'E\\' )  533\\nmemcpy ( dst , src , seglen ); 544\\ndst += seglen; 545\\n* ( dst ++ ) = 47; 547\\nsrc = next + slash_len; 552\\nif ( canon_segments > 0 && ( * ( dst - 1 ) ) == 47 && ! ( url && path [ schemelen ] == \\'\\\\0\\' ) )  560\\ndst --; 561\\n* dst = \\'\\\\0\\'; 563\\nif ( schema_data )  575\\nsrc = schema_data; 577\\nwhile ( * src )  578\\nswitch ( * src )  579\\nif ( ! ( 0 != ( svn_ctype_table [ ( unsigned char ) ( * ( src + 1 ) ) ] & ( 0x0004 | 0x0040 ) ) ) || ! ( 0 != ( svn_ctype_table [ ( unsigned char ) ( * ( src + 2 ) ) ] & ( 0x0004 | 0x0040 ) ) ) )  584\\nsrc += 2; 588\\nif ( ! svn_uri__char_validity [ ( unsigned char ) ( * src ) ] )  594\\nsrc ++; 600\\napr_size_t pre_schema_size = ( apr_size_t ) ( schema_data - canon ) ; 603\\ndst = ( apr_palloc ( pool , ( ( apr_size_t ) ( src - canon ) ) + need_extra + 1 ) ); 604\\nmemcpy ( dst , canon , pre_schema_size ); 605\\ncanon = dst; 606\\ndst += pre_schema_size; 607\\ndst = schema_data; 610\\nsrc = schema_data; 612\\nwhile ( * src )  613\\nswitch ( * src )  614\\n* ( dst ++ ) = 47; 617\\nif ( ! ( 0 != ( svn_ctype_table [ ( unsigned char ) ( * ( src + 1 ) ) ] & ( 0x0004 | 0x0040 ) ) ) || ! ( 0 != ( svn_ctype_table [ ( unsigned char ) ( * ( src + 2 ) ) ] & ( 0x0004 | 0x0040 ) ) ) )  622\\n* ( dst ++ ) = 37; 623\\n* ( dst ++ ) = 50; 624\\n* ( dst ++ ) = \\'5\\'; 625\\ndigitz [ 0 ] = * ( ++ src ); 630\\ndigitz [ 1 ] = * ( ++ src ); 631\\ndigitz [ 2 ] = 0; 632\\nval = ( ( int ) ( strtol ( digitz , ( ( void * ) 0 ) , 16 ) ) ); 633\\nif ( svn_uri__char_validity [ ( unsigned char ) val ] )  634\\n* ( dst ++ ) = ( ( char ) val ); 635\\n* ( dst ++ ) = 37; 638\\n* ( dst ++ ) = canonicalize_to_upper ( digitz [ 0 ] ); 639\\n* ( dst ++ ) = canonicalize_to_upper ( digitz [ 1 ] ); 640\\nif ( ! svn_uri__char_validity [ ( unsigned char ) ( * src ) ] )  647\\napr_snprintf ( dst , 4 , \"%%%02X\" , ( ( unsigned char ) ( * src ) ) ); 648\\ndst += 3; 649\\n* ( dst ++ ) = * src; 652\\nsrc ++; 657\\n* dst = \\'\\\\0\\'; 659\\nreturn canon ; 661\\n0\\n'\n",
            "  0]\n",
            " ['2 79848/CWE134_Uncontrolled_Format_String__char_environment_vfprintf_52a.c strcpy 70\\nstatic void goodG2B() 64\\nchar * data ; 66\\nchar dataBuffer [ 100 ] = \"\" ; 67\\ndata = dataBuffer; 68\\nstrcpy ( data , \"fixedstringtest\" ); 70\\nCWE134_Uncontrolled_Format_String__char_environment_vfprintf_52b_goodG2BSink ( data ); 71\\nvoid CWE134_Uncontrolled_Format_String__char_environment_vfprintf_52b_goodG2BSink(char * data) 50\\nCWE134_Uncontrolled_Format_String__char_environment_vfprintf_52c_goodG2BSink ( data ); 52\\nvoid CWE134_Uncontrolled_Format_String__char_environment_vfprintf_52c_goodG2BSink(char * data) 67\\ngoodG2BVaSink ( data , data ); 69\\nstatic void goodG2BVaSink(char * data, ...) 56\\nva_start ( args , data ); 60\\nvfprintf ( stdout , data , args ); 62\\n0\\n'\n",
            "  0]\n",
            " ['3 94203/CWE319_Cleartext_Tx_Sensitive_Info__w32_wchar_t_connect_socket_10.c memcpy 402\\nstatic void goodB2G2() 289\\nwchar_t * password ; 291\\nwchar_t passwordBuffer [ 100 ] = L \"\" 292\\npassword = passwordBuffer; 293\\nif ( globalTrue )  294\\nWSADATA wsaData ; 297\\nint recvResult ; 299\\nstruct sockaddr_in service ; 300\\nsize_t passwordLen = wcslen ( password ) ; 303\\nif ( WSAStartup ( MAKEWORD ( 2 , 2 ) , & wsaData ) != NO_ERROR )  306\\nconnectSocket = socket ( AF_INET , SOCK_STREAM , IPPROTO_TCP ); 311\\nif ( connectSocket == INVALID_SOCKET )  312\\nmemset ( & service , 0 , sizeof ( service ) ); 316\\nservice . sin_family = AF_INET; 317\\nservice . sin_addr . s_addr = inet_addr ( IP_ADDRESS ); 318\\nservice . sin_port = htons ( TCP_PORT ); 319\\nif ( connect ( connectSocket , ( struct sockaddr * ) & service , sizeof ( service ) ) == SOCKET_ERROR )  320\\nrecvResult = recv ( connectSocket , ( char * ) ( password + passwordLen ) , ( 100 - passwordLen - 1 ) * sizeof ( wchar_t ) , 0 ); 327\\nif ( recvResult == SOCKET_ERROR || recvResult == 0 )  328\\npassword [ passwordLen + recvResult / sizeof ( wchar_t ) ] = L \\'\\\\0\\' 333\\nwhile ( 0 )  346\\nif ( globalTrue )  357\\nHCRYPTPROV hCryptProv = 0 ; 360\\nHCRYPTHASH hHash = 0 ; 361\\nHCRYPTKEY hKey = 0 ; 362\\nchar hashData [ 100 ] = HASH_INPUT ; 363\\nBYTE payload [ ( 100 - 1 ) * sizeof ( wchar_t ) ] ; 369\\nDWORD payloadBytes ; 370\\npayloadBytes = decodeHexWChars ( payload , sizeof ( payload ) , password ); 372\\nsize_t decodeHexWChars(unsigned char * bytes, size_t numBytes, const wchar_t * hex) 126\\nsize_t numWritten = 0 ; 128\\nwhile ( numWritten < numBytes && iswxdigit ( hex [ 2 * numWritten ] ) && iswxdigit ( hex [ 2 * numWritten + 1 ] ) )  134\\nint byte ; 136\\nbytes [ numWritten ] = ( unsigned char ) byte; 138\\nreturn numWritten ; 142\\nif ( ! CryptAcquireContext ( & hCryptProv , NULL , MS_ENH_RSA_AES_PROV , PROV_RSA_AES , 0 ) )  377\\nif ( ! CryptCreateHash ( hCryptProv , CALG_SHA_256 , 0 , 0 , & hHash ) )  382\\nif ( ! CryptHashData ( hHash , ( BYTE * ) hashData , strlen ( hashData ) , 0 ) )  387\\nif ( ! CryptDeriveKey ( hCryptProv , CALG_AES_256 , hHash , 0 , & hKey ) )  392\\nif ( ! CryptDecrypt ( hKey , 0 , 1 , 0 , payload , & payloadBytes ) )  397\\nmemcpy ( password , payload , payloadBytes ); 402\\nwhile ( 0 )  405\\nif ( LogonUserW ( username , domain , password , LOGON32_LOGON_NETWORK , LOGON32_PROVIDER_DEFAULT , & pHandle ) != 0 )  419\\n0\\n'\n",
            "  0]]\n"
          ]
        }
      ]
    },
    {
      "cell_type": "code",
      "source": [
        "BUFFER_SIZE = 10000\n",
        "BATCH_SIZE = 64"
      ],
      "metadata": {
        "id": "HbdDz4v8p9FV"
      },
      "execution_count": 81,
      "outputs": []
    },
    {
      "cell_type": "code",
      "source": [
        "train_dataset = train_dataset.sample(frac=0.5, replace=True, random_state=1)\n",
        "test_dataset = test_dataset.sample(frac=0.5, replace=True, random_state=1)"
      ],
      "metadata": {
        "id": "znXKsSejuwrt"
      },
      "execution_count": 82,
      "outputs": []
    },
    {
      "cell_type": "code",
      "source": [
        "VOCAB_SIZE = 10000\n",
        "encoder = tf.keras.layers.TextVectorization(\n",
        "    max_tokens=VOCAB_SIZE)\n",
        "encoder.adapt(tensor)"
      ],
      "metadata": {
        "id": "eGmVnaPNuz78"
      },
      "execution_count": 83,
      "outputs": []
    },
    {
      "cell_type": "code",
      "source": [
        "train_dataset['1']"
      ],
      "metadata": {
        "colab": {
          "base_uri": "https://localhost:8080/"
        },
        "id": "2xu4c0thFDLc",
        "outputId": "ef21049c-a166-4e53-d3b6-30120c5295e0"
      },
      "execution_count": 84,
      "outputs": [
        {
          "output_type": "execute_result",
          "data": {
            "text/plain": [
              "128037    128038 65080/CWE121_Stack_Based_Buffer_Overflo...\n",
              "5192      5193 80996/CWE134_Uncontrolled_Format_String__...\n",
              "50057     50058 63206/CWE121_Stack_Based_Buffer_Overflow...\n",
              "109259    109260 152935/config_file.c strlen 925\\ninline...\n",
              "73349     73350 117223/CWE789_Uncontrolled_Mem_Alloc__ma...\n",
              "                                ...                        \n",
              "85221     85222 93409/CWE256_Plaintext_Storage_of_Passwo...\n",
              "17921     17922 99720/CWE401_Memory_Leak__malloc_realloc...\n",
              "113980    113981 149951/color.c strlen 402\\nvoid parse_d...\n",
              "117534    117535 117207/CWE789_Uncontrolled_Mem_Alloc__m...\n",
              "40580     40581 72811/CWE122_Heap_Based_Buffer_Overflow_...\n",
              "Name: 1, Length: 72000, dtype: object"
            ]
          },
          "metadata": {},
          "execution_count": 84
        }
      ]
    },
    {
      "cell_type": "code",
      "source": [
        "train_dataset"
      ],
      "metadata": {
        "colab": {
          "base_uri": "https://localhost:8080/",
          "height": 423
        },
        "id": "NGm4K6w1CYia",
        "outputId": "8966db9c-5212-413d-d300-a4edd98cfc84"
      },
      "execution_count": 85,
      "outputs": [
        {
          "output_type": "execute_result",
          "data": {
            "text/plain": [
              "                                                        1  label\n",
              "128037  128038 65080/CWE121_Stack_Based_Buffer_Overflo...      0\n",
              "5192    5193 80996/CWE134_Uncontrolled_Format_String__...      0\n",
              "50057   50058 63206/CWE121_Stack_Based_Buffer_Overflow...      0\n",
              "109259  109260 152935/config_file.c strlen 925\\ninline...     22\n",
              "73349   73350 117223/CWE789_Uncontrolled_Mem_Alloc__ma...      0\n",
              "...                                                   ...    ...\n",
              "85221   85222 93409/CWE256_Plaintext_Storage_of_Passwo...      0\n",
              "17921   17922 99720/CWE401_Memory_Leak__malloc_realloc...      0\n",
              "113980  113981 149951/color.c strlen 402\\nvoid parse_d...      0\n",
              "117534  117535 117207/CWE789_Uncontrolled_Mem_Alloc__m...      0\n",
              "40580   40581 72811/CWE122_Heap_Based_Buffer_Overflow_...      3\n",
              "\n",
              "[72000 rows x 2 columns]"
            ],
            "text/html": [
              "\n",
              "  <div id=\"df-4f551ea2-0eff-404c-a8b1-9a57c12ed168\" class=\"colab-df-container\">\n",
              "    <div>\n",
              "<style scoped>\n",
              "    .dataframe tbody tr th:only-of-type {\n",
              "        vertical-align: middle;\n",
              "    }\n",
              "\n",
              "    .dataframe tbody tr th {\n",
              "        vertical-align: top;\n",
              "    }\n",
              "\n",
              "    .dataframe thead th {\n",
              "        text-align: right;\n",
              "    }\n",
              "</style>\n",
              "<table border=\"1\" class=\"dataframe\">\n",
              "  <thead>\n",
              "    <tr style=\"text-align: right;\">\n",
              "      <th></th>\n",
              "      <th>1</th>\n",
              "      <th>label</th>\n",
              "    </tr>\n",
              "  </thead>\n",
              "  <tbody>\n",
              "    <tr>\n",
              "      <th>128037</th>\n",
              "      <td>128038 65080/CWE121_Stack_Based_Buffer_Overflo...</td>\n",
              "      <td>0</td>\n",
              "    </tr>\n",
              "    <tr>\n",
              "      <th>5192</th>\n",
              "      <td>5193 80996/CWE134_Uncontrolled_Format_String__...</td>\n",
              "      <td>0</td>\n",
              "    </tr>\n",
              "    <tr>\n",
              "      <th>50057</th>\n",
              "      <td>50058 63206/CWE121_Stack_Based_Buffer_Overflow...</td>\n",
              "      <td>0</td>\n",
              "    </tr>\n",
              "    <tr>\n",
              "      <th>109259</th>\n",
              "      <td>109260 152935/config_file.c strlen 925\\ninline...</td>\n",
              "      <td>22</td>\n",
              "    </tr>\n",
              "    <tr>\n",
              "      <th>73349</th>\n",
              "      <td>73350 117223/CWE789_Uncontrolled_Mem_Alloc__ma...</td>\n",
              "      <td>0</td>\n",
              "    </tr>\n",
              "    <tr>\n",
              "      <th>...</th>\n",
              "      <td>...</td>\n",
              "      <td>...</td>\n",
              "    </tr>\n",
              "    <tr>\n",
              "      <th>85221</th>\n",
              "      <td>85222 93409/CWE256_Plaintext_Storage_of_Passwo...</td>\n",
              "      <td>0</td>\n",
              "    </tr>\n",
              "    <tr>\n",
              "      <th>17921</th>\n",
              "      <td>17922 99720/CWE401_Memory_Leak__malloc_realloc...</td>\n",
              "      <td>0</td>\n",
              "    </tr>\n",
              "    <tr>\n",
              "      <th>113980</th>\n",
              "      <td>113981 149951/color.c strlen 402\\nvoid parse_d...</td>\n",
              "      <td>0</td>\n",
              "    </tr>\n",
              "    <tr>\n",
              "      <th>117534</th>\n",
              "      <td>117535 117207/CWE789_Uncontrolled_Mem_Alloc__m...</td>\n",
              "      <td>0</td>\n",
              "    </tr>\n",
              "    <tr>\n",
              "      <th>40580</th>\n",
              "      <td>40581 72811/CWE122_Heap_Based_Buffer_Overflow_...</td>\n",
              "      <td>3</td>\n",
              "    </tr>\n",
              "  </tbody>\n",
              "</table>\n",
              "<p>72000 rows × 2 columns</p>\n",
              "</div>\n",
              "    <div class=\"colab-df-buttons\">\n",
              "\n",
              "  <div class=\"colab-df-container\">\n",
              "    <button class=\"colab-df-convert\" onclick=\"convertToInteractive('df-4f551ea2-0eff-404c-a8b1-9a57c12ed168')\"\n",
              "            title=\"Convert this dataframe to an interactive table.\"\n",
              "            style=\"display:none;\">\n",
              "\n",
              "  <svg xmlns=\"http://www.w3.org/2000/svg\" height=\"24px\" viewBox=\"0 -960 960 960\">\n",
              "    <path d=\"M120-120v-720h720v720H120Zm60-500h600v-160H180v160Zm220 220h160v-160H400v160Zm0 220h160v-160H400v160ZM180-400h160v-160H180v160Zm440 0h160v-160H620v160ZM180-180h160v-160H180v160Zm440 0h160v-160H620v160Z\"/>\n",
              "  </svg>\n",
              "    </button>\n",
              "\n",
              "  <style>\n",
              "    .colab-df-container {\n",
              "      display:flex;\n",
              "      gap: 12px;\n",
              "    }\n",
              "\n",
              "    .colab-df-convert {\n",
              "      background-color: #E8F0FE;\n",
              "      border: none;\n",
              "      border-radius: 50%;\n",
              "      cursor: pointer;\n",
              "      display: none;\n",
              "      fill: #1967D2;\n",
              "      height: 32px;\n",
              "      padding: 0 0 0 0;\n",
              "      width: 32px;\n",
              "    }\n",
              "\n",
              "    .colab-df-convert:hover {\n",
              "      background-color: #E2EBFA;\n",
              "      box-shadow: 0px 1px 2px rgba(60, 64, 67, 0.3), 0px 1px 3px 1px rgba(60, 64, 67, 0.15);\n",
              "      fill: #174EA6;\n",
              "    }\n",
              "\n",
              "    .colab-df-buttons div {\n",
              "      margin-bottom: 4px;\n",
              "    }\n",
              "\n",
              "    [theme=dark] .colab-df-convert {\n",
              "      background-color: #3B4455;\n",
              "      fill: #D2E3FC;\n",
              "    }\n",
              "\n",
              "    [theme=dark] .colab-df-convert:hover {\n",
              "      background-color: #434B5C;\n",
              "      box-shadow: 0px 1px 3px 1px rgba(0, 0, 0, 0.15);\n",
              "      filter: drop-shadow(0px 1px 2px rgba(0, 0, 0, 0.3));\n",
              "      fill: #FFFFFF;\n",
              "    }\n",
              "  </style>\n",
              "\n",
              "    <script>\n",
              "      const buttonEl =\n",
              "        document.querySelector('#df-4f551ea2-0eff-404c-a8b1-9a57c12ed168 button.colab-df-convert');\n",
              "      buttonEl.style.display =\n",
              "        google.colab.kernel.accessAllowed ? 'block' : 'none';\n",
              "\n",
              "      async function convertToInteractive(key) {\n",
              "        const element = document.querySelector('#df-4f551ea2-0eff-404c-a8b1-9a57c12ed168');\n",
              "        const dataTable =\n",
              "          await google.colab.kernel.invokeFunction('convertToInteractive',\n",
              "                                                    [key], {});\n",
              "        if (!dataTable) return;\n",
              "\n",
              "        const docLinkHtml = 'Like what you see? Visit the ' +\n",
              "          '<a target=\"_blank\" href=https://colab.research.google.com/notebooks/data_table.ipynb>data table notebook</a>'\n",
              "          + ' to learn more about interactive tables.';\n",
              "        element.innerHTML = '';\n",
              "        dataTable['output_type'] = 'display_data';\n",
              "        await google.colab.output.renderOutput(dataTable, element);\n",
              "        const docLink = document.createElement('div');\n",
              "        docLink.innerHTML = docLinkHtml;\n",
              "        element.appendChild(docLink);\n",
              "      }\n",
              "    </script>\n",
              "  </div>\n",
              "\n",
              "\n",
              "<div id=\"df-58b7fe70-1e5d-4cf2-9eea-e07f3b650ae0\">\n",
              "  <button class=\"colab-df-quickchart\" onclick=\"quickchart('df-58b7fe70-1e5d-4cf2-9eea-e07f3b650ae0')\"\n",
              "            title=\"Suggest charts\"\n",
              "            style=\"display:none;\">\n",
              "\n",
              "<svg xmlns=\"http://www.w3.org/2000/svg\" height=\"24px\"viewBox=\"0 0 24 24\"\n",
              "     width=\"24px\">\n",
              "    <g>\n",
              "        <path d=\"M19 3H5c-1.1 0-2 .9-2 2v14c0 1.1.9 2 2 2h14c1.1 0 2-.9 2-2V5c0-1.1-.9-2-2-2zM9 17H7v-7h2v7zm4 0h-2V7h2v10zm4 0h-2v-4h2v4z\"/>\n",
              "    </g>\n",
              "</svg>\n",
              "  </button>\n",
              "\n",
              "<style>\n",
              "  .colab-df-quickchart {\n",
              "      --bg-color: #E8F0FE;\n",
              "      --fill-color: #1967D2;\n",
              "      --hover-bg-color: #E2EBFA;\n",
              "      --hover-fill-color: #174EA6;\n",
              "      --disabled-fill-color: #AAA;\n",
              "      --disabled-bg-color: #DDD;\n",
              "  }\n",
              "\n",
              "  [theme=dark] .colab-df-quickchart {\n",
              "      --bg-color: #3B4455;\n",
              "      --fill-color: #D2E3FC;\n",
              "      --hover-bg-color: #434B5C;\n",
              "      --hover-fill-color: #FFFFFF;\n",
              "      --disabled-bg-color: #3B4455;\n",
              "      --disabled-fill-color: #666;\n",
              "  }\n",
              "\n",
              "  .colab-df-quickchart {\n",
              "    background-color: var(--bg-color);\n",
              "    border: none;\n",
              "    border-radius: 50%;\n",
              "    cursor: pointer;\n",
              "    display: none;\n",
              "    fill: var(--fill-color);\n",
              "    height: 32px;\n",
              "    padding: 0;\n",
              "    width: 32px;\n",
              "  }\n",
              "\n",
              "  .colab-df-quickchart:hover {\n",
              "    background-color: var(--hover-bg-color);\n",
              "    box-shadow: 0 1px 2px rgba(60, 64, 67, 0.3), 0 1px 3px 1px rgba(60, 64, 67, 0.15);\n",
              "    fill: var(--button-hover-fill-color);\n",
              "  }\n",
              "\n",
              "  .colab-df-quickchart-complete:disabled,\n",
              "  .colab-df-quickchart-complete:disabled:hover {\n",
              "    background-color: var(--disabled-bg-color);\n",
              "    fill: var(--disabled-fill-color);\n",
              "    box-shadow: none;\n",
              "  }\n",
              "\n",
              "  .colab-df-spinner {\n",
              "    border: 2px solid var(--fill-color);\n",
              "    border-color: transparent;\n",
              "    border-bottom-color: var(--fill-color);\n",
              "    animation:\n",
              "      spin 1s steps(1) infinite;\n",
              "  }\n",
              "\n",
              "  @keyframes spin {\n",
              "    0% {\n",
              "      border-color: transparent;\n",
              "      border-bottom-color: var(--fill-color);\n",
              "      border-left-color: var(--fill-color);\n",
              "    }\n",
              "    20% {\n",
              "      border-color: transparent;\n",
              "      border-left-color: var(--fill-color);\n",
              "      border-top-color: var(--fill-color);\n",
              "    }\n",
              "    30% {\n",
              "      border-color: transparent;\n",
              "      border-left-color: var(--fill-color);\n",
              "      border-top-color: var(--fill-color);\n",
              "      border-right-color: var(--fill-color);\n",
              "    }\n",
              "    40% {\n",
              "      border-color: transparent;\n",
              "      border-right-color: var(--fill-color);\n",
              "      border-top-color: var(--fill-color);\n",
              "    }\n",
              "    60% {\n",
              "      border-color: transparent;\n",
              "      border-right-color: var(--fill-color);\n",
              "    }\n",
              "    80% {\n",
              "      border-color: transparent;\n",
              "      border-right-color: var(--fill-color);\n",
              "      border-bottom-color: var(--fill-color);\n",
              "    }\n",
              "    90% {\n",
              "      border-color: transparent;\n",
              "      border-bottom-color: var(--fill-color);\n",
              "    }\n",
              "  }\n",
              "</style>\n",
              "\n",
              "  <script>\n",
              "    async function quickchart(key) {\n",
              "      const quickchartButtonEl =\n",
              "        document.querySelector('#' + key + ' button');\n",
              "      quickchartButtonEl.disabled = true;  // To prevent multiple clicks.\n",
              "      quickchartButtonEl.classList.add('colab-df-spinner');\n",
              "      try {\n",
              "        const charts = await google.colab.kernel.invokeFunction(\n",
              "            'suggestCharts', [key], {});\n",
              "      } catch (error) {\n",
              "        console.error('Error during call to suggestCharts:', error);\n",
              "      }\n",
              "      quickchartButtonEl.classList.remove('colab-df-spinner');\n",
              "      quickchartButtonEl.classList.add('colab-df-quickchart-complete');\n",
              "    }\n",
              "    (() => {\n",
              "      let quickchartButtonEl =\n",
              "        document.querySelector('#df-58b7fe70-1e5d-4cf2-9eea-e07f3b650ae0 button');\n",
              "      quickchartButtonEl.style.display =\n",
              "        google.colab.kernel.accessAllowed ? 'block' : 'none';\n",
              "    })();\n",
              "  </script>\n",
              "</div>\n",
              "    </div>\n",
              "  </div>\n"
            ]
          },
          "metadata": {},
          "execution_count": 85
        }
      ]
    },
    {
      "cell_type": "code",
      "source": [
        "vocab = np.array(encoder.get_vocabulary())\n",
        "vocab[:20]"
      ],
      "metadata": {
        "colab": {
          "base_uri": "https://localhost:8080/"
        },
        "id": "O1B9Kw7_vLiD",
        "outputId": "9c2de73f-3ac6-40b2-efe6-f9ff9490edd0"
      },
      "execution_count": 86,
      "outputs": [
        {
          "output_type": "execute_result",
          "data": {
            "text/plain": [
              "array(['', '[UNK]', '0', 'if', 'data', '1', 'char', 'void', 'i', 'd', 's',\n",
              "       'service', 'sizeof', 'int', '100', 'recvresult', '2', 'static',\n",
              "       'datalen', 'null'], dtype='<U559')"
            ]
          },
          "metadata": {},
          "execution_count": 86
        }
      ]
    },
    {
      "cell_type": "code",
      "source": [
        "example = [[' /CWE_Heap_Based_Buffer_Overflow__cpp_CWE_char_snprintf_.cpp memset \\nvoid bad() \\nchar * data ; \\ndata = new char [  ]; \\nif ( GLOBAL_CONST_TRUE )  \\nmemset ( data , \\'A\\' ,  -  ); \\ndata [  -  ] = \\'\\\\\\'; \\nSNPRINTF ( dest , strlen ( data ) , \"%s\" , data ); \\nprintLine ( data ); \\nvoid printLine (const char * line) \\nif ( line != NULL )  \\nprintf ( \"%s\\\\n\" , line ); \\ndelete [ ] data \\n\\n'],\n",
        " [' /CWE_Trapdoor__ip_based_logic_.c send \\nvoid CWE_Trapdoor__ip_based_logic__bad() \\nWSADATA wsaData ; \\nstruct sockaddr_in service , acceptService ; \\nif ( WSAStartup ( MAKEWORD (  ,  ) , & wsaData ) != NO_ERROR )  \\nlistenSocket = socket ( AF_INET , SOCK_STREAM , IPPROTO_TCP ); \\nif ( listenSocket == INVALID_SOCKET )  \\nmemset ( & service ,  , sizeof ( service ) ); \\nservice . sin_family = AF_INET; \\nservice . sin_addr . s_addr = INADDR_ANY; \\nservice . sin_port = htons (  ); \\nif ( bind ( listenSocket , ( struct sockaddr * ) & service , sizeof ( service ) ) == SOCKET_ERROR )  \\nif ( listen ( listenSocket ,  ) == SOCKET_ERROR )  \\nacceptSocket = accept ( listenSocket , NULL , NULL ); \\nif ( acceptSocket == SOCKET_ERROR )  \\nif ( getsockname ( acceptSocket , ( struct sockaddr * ) & acceptService , & acceptServiceLen ) == -  )  \\nif ( strcmp ( \"...\" , inet_ntoa ( acceptService . sin_addr ) ) ==  )  \\nif ( send ( acceptSocket , ADMIN_MESSAGE , strlen ( ADMIN_MESSAGE ) ,  ) == SOCKET_ERROR )  \\nif ( send ( acceptSocket , DEFAULT_MESSAGE , strlen ( DEFAULT_MESSAGE ) ,  ) == SOCKET_ERROR )  \\nwhile (  )  \\n\\n'],\n",
        " [' /CWE_OS_Command_Injection__char_console_wspawnl_.c strlen \\nvoid CWE_OS_Command_Injection__char_console_wspawnl__bad() \\nchar * data ; \\nchar dataBuffer [  ] = \"\" ; \\ndata = dataBuffer; \\nif ( staticFive ==  )  \\nsize_t dataLen = strlen ( data ) ; \\nif (  - dataLen >  )  \\nif ( fgets ( data + dataLen , ( int ) (  - dataLen ) , stdin ) != NULL )  \\ndataLen = strlen ( data ); \\nif ( dataLen >  && data [ dataLen -  ] == \\'\\\\n\\' )  \\ndata [ dataLen -  ] = \\'\\\\\\'; \\n\\n']\n",
        "           ]"
      ],
      "metadata": {
        "id": "ZL7Cs8yU2EtL"
      },
      "execution_count": 87,
      "outputs": []
    },
    {
      "cell_type": "code",
      "source": [
        "encoded_example = encoder(example)[:3].numpy()\n",
        "encoded_example"
      ],
      "metadata": {
        "colab": {
          "base_uri": "https://localhost:8080/"
        },
        "id": "KIUKUsj01sv8",
        "outputId": "9aff3a70-9584-45b5-eb22-beeb920f69dd"
      },
      "execution_count": 88,
      "outputs": [
        {
          "output_type": "execute_result",
          "data": {
            "text/plain": [
              "array([[   1,   34,    7,  170,    6,    4,    4,  268,    6,    3,  820,\n",
              "          34,    4,  111,    4,  301,   43,   29,    4,   10,    4,   54,\n",
              "           4,    7,   54,   35,    6,   20,    3,   20,   19,   69,  104,\n",
              "          20,  385,    4,    0,    0,    0,    0,    0,    0,    0,    0,\n",
              "           0,    0,    0,    0,    0,    0,    0,    0,    0,    0,    0,\n",
              "           0,    0,    0,    0,    0,    0,    0,    0,    0,    0,    0,\n",
              "           0,    0,    0,    0,    0,    0,    0,    0,    0,    0,    0,\n",
              "           0,    0,    0,    0,    0,    0,    0,    0],\n",
              "       [   1, 1532,    7,    1,   28,   28,   24,   85,   11, 5859,    3,\n",
              "          88,   89,   28,   94,   32,   68,   45,   86,   95,    3,   32,\n",
              "          63,   34,   11,   12,   11,   11,   91,   45,   11,   84,   83,\n",
              "         184,   11,   87,   90,    3,  178,   32,   24,   80,   11,   12,\n",
              "          11,   26,    3,  182,   32,   26,   47,  181,   32,   19,   19,\n",
              "           3,   47,   26,    3, 7586,   47,   24,   80, 5859, 9832,    3,\n",
              "         239,    1, 5859,   84,    3, 1532,   47, 7369,   29, 7369,   26,\n",
              "           3, 1532,   47, 5017,   29, 5017,   26,   31],\n",
              "       [   1,   29,    7,    1,    6,    4,    6,   23,    4,   23,    3,\n",
              "         706,   33,   18,   29,    4,    3,   18,    3,  245,    4,   18,\n",
              "          13,   18,  355,   19,   18,   29,    4,    3,   18,    4,   18,\n",
              "          72,    4,   18,    0,    0,    0,    0,    0,    0,    0,    0,\n",
              "           0,    0,    0,    0,    0,    0,    0,    0,    0,    0,    0,\n",
              "           0,    0,    0,    0,    0,    0,    0,    0,    0,    0,    0,\n",
              "           0,    0,    0,    0,    0,    0,    0,    0,    0,    0,    0,\n",
              "           0,    0,    0,    0,    0,    0,    0,    0]])"
            ]
          },
          "metadata": {},
          "execution_count": 88
        }
      ]
    },
    {
      "cell_type": "code",
      "source": [
        "model = tf.keras.Sequential([\n",
        "    encoder,\n",
        "    tf.keras.layers.Embedding(\n",
        "        input_dim=len(encoder.get_vocabulary()),\n",
        "        output_dim=64,\n",
        "        # Use masking to handle the variable sequence lengths\n",
        "        mask_zero=True),\n",
        "    tf.keras.layers.Bidirectional(tf.keras.layers.LSTM(64)),\n",
        "    tf.keras.layers.Dense(64, activation='relu'),\n",
        "    tf.keras.layers.Dense(41, activation='softmax')\n",
        "])"
      ],
      "metadata": {
        "id": "37F5BLCzvUaR"
      },
      "execution_count": 89,
      "outputs": []
    },
    {
      "cell_type": "code",
      "source": [
        "model.compile(loss='categorical_crossentropy',\n",
        "              optimizer=tf.keras.optimizers.Adam(1e-4),\n",
        "              metrics=['accuracy'])"
      ],
      "metadata": {
        "id": "dOO4Snm-GmMV"
      },
      "execution_count": 90,
      "outputs": []
    },
    {
      "cell_type": "code",
      "source": [
        "X_train = train_dataset['1']\n",
        "y_train = train_dataset['label']\n",
        "y_train = tf.keras.utils.to_categorical(y_train, num_classes=41)"
      ],
      "metadata": {
        "id": "oMU2ork1IsoF"
      },
      "execution_count": 91,
      "outputs": []
    },
    {
      "cell_type": "code",
      "source": [
        "print(X_train.shape)\n",
        "print(y_train.shape)"
      ],
      "metadata": {
        "colab": {
          "base_uri": "https://localhost:8080/"
        },
        "id": "A_r_W-OwJCHu",
        "outputId": "5136b0a1-a440-483f-beda-cd2e57f79a23"
      },
      "execution_count": 92,
      "outputs": [
        {
          "output_type": "stream",
          "name": "stdout",
          "text": [
            "(72000,)\n",
            "(72000, 41)\n"
          ]
        }
      ]
    },
    {
      "cell_type": "code",
      "source": [
        "history = model.fit(X_train,y_train, epochs=1,\n",
        "                    # validation_data=test_dataset,\n",
        "                    # validation_steps=30\n",
        "                    )"
      ],
      "metadata": {
        "colab": {
          "base_uri": "https://localhost:8080/"
        },
        "id": "cHvBqxI7GxNl",
        "outputId": "37e6e756-3b96-4efd-ce7c-964590dec9a3"
      },
      "execution_count": 93,
      "outputs": [
        {
          "output_type": "stream",
          "name": "stdout",
          "text": [
            "2250/2250 [==============================] - 4028s 2s/step - loss: 0.7060 - accuracy: 0.8523\n"
          ]
        }
      ]
    },
    {
      "cell_type": "code",
      "source": [
        "X_test = test_dataset['1']\n",
        "y_test = test_dataset['label']\n",
        "y_test = tf.keras.utils.to_categorical(y_test, num_classes=41)"
      ],
      "metadata": {
        "id": "MUbEuLvrLc8U"
      },
      "execution_count": 94,
      "outputs": []
    },
    {
      "cell_type": "code",
      "source": [
        "test_loss, test_acc = model.evaluate(X_test,y_test)\n",
        "\n",
        "print('Test Loss:', test_loss)\n",
        "print('Test Accuracy:', test_acc)"
      ],
      "metadata": {
        "colab": {
          "base_uri": "https://localhost:8080/"
        },
        "id": "98lfrvSFLNst",
        "outputId": "49890379-713c-4e3f-e721-4b502b8867e6"
      },
      "execution_count": 95,
      "outputs": [
        {
          "output_type": "stream",
          "name": "stdout",
          "text": [
            "563/563 [==============================] - 187s 320ms/step - loss: 0.2965 - accuracy: 0.9335\n",
            "Test Loss: 0.2965471148490906\n",
            "Test Accuracy: 0.9334999918937683\n"
          ]
        }
      ]
    },
    {
      "cell_type": "code",
      "source": [
        "y_pred = model.predict(X_test)\n",
        "print(y_pred.shape)\n",
        "print(y_pred)\n",
        "print(y_test.shape)\n",
        "print(y_test)"
      ],
      "metadata": {
        "colab": {
          "base_uri": "https://localhost:8080/"
        },
        "id": "UTFaTji5vt5J",
        "outputId": "508474de-3d79-4baa-d4ba-5e1bc1d7a4e3"
      },
      "execution_count": 96,
      "outputs": [
        {
          "output_type": "stream",
          "name": "stdout",
          "text": [
            "563/563 [==============================] - 217s 375ms/step\n",
            "(18000, 41)\n",
            "[[2.9172486e-04 2.2925645e-02 3.6997434e-02 ... 7.1283733e-04\n",
            "  1.0005693e-03 2.2535236e-05]\n",
            " [5.3717354e-06 6.5542565e-04 1.1865221e-03 ... 7.6776392e-05\n",
            "  1.0808203e-04 6.2576231e-07]\n",
            " [9.9645764e-01 3.9738571e-04 2.3945013e-05 ... 1.4798475e-06\n",
            "  9.9162935e-07 1.3590331e-05]\n",
            " ...\n",
            " [1.1258251e-05 1.1994471e-03 1.7034897e-03 ... 1.0491258e-04\n",
            "  1.4146966e-04 1.1158677e-06]\n",
            " [9.9641794e-01 3.6659715e-04 2.2008753e-05 ... 1.5833100e-06\n",
            "  9.3810240e-07 1.4318842e-05]\n",
            " [1.2700027e-02 5.4448452e-02 6.1259810e-02 ... 1.6113853e-03\n",
            "  1.5150794e-03 2.5492779e-04]]\n",
            "(18000, 41)\n",
            "[[0. 0. 0. ... 0. 0. 0.]\n",
            " [0. 0. 0. ... 0. 0. 0.]\n",
            " [1. 0. 0. ... 0. 0. 0.]\n",
            " ...\n",
            " [0. 0. 0. ... 0. 0. 0.]\n",
            " [1. 0. 0. ... 0. 0. 0.]\n",
            " [0. 0. 0. ... 0. 0. 0.]]\n"
          ]
        }
      ]
    },
    {
      "cell_type": "code",
      "source": [
        "max_y_test_indices = np.argmax(y_test, axis=1)\n",
        "max_y_pred_indices = np.argmax(y_pred, axis=1)\n",
        "\n",
        "array_sum     = [0] * 41\n",
        "array_correct = [0] * 41\n",
        "\n",
        "array_sum = np.array(array_sum)\n",
        "array_correct = np.array(array_correct)\n",
        "\n",
        "\n",
        "\n",
        "for i in range(len(max_y_test_indices)):\n",
        "  if max_y_test_indices[i] == max_y_pred_indices[i]:\n",
        "    array_correct[max_y_test_indices[i]] += 1\n",
        "  array_sum[max_y_test_indices[i]] += 1\n",
        "\n",
        "print(array_sum)\n",
        "print(len(array_sum))\n",
        "print(array_correct)\n",
        "print(len(array_correct))\n"
      ],
      "metadata": {
        "colab": {
          "base_uri": "https://localhost:8080/"
        },
        "id": "kag9uISzx8iA",
        "outputId": "c14075aa-d0e1-4552-f4b7-46b2ba1cd04a"
      },
      "execution_count": 97,
      "outputs": [
        {
          "output_type": "stream",
          "name": "stdout",
          "text": [
            "[13755   145   145  1885   341    17     1     2    14    30   206    17\n",
            "   100     0    58   407    13    17    37     1   500     6     6    12\n",
            "     2    23     4     3     5    41     1     8    63    17    42    25\n",
            "    36     3     1    11     0]\n",
            "41\n",
            "[13755     0     0  1884   336     0     0     0     0     0     0     0\n",
            "     0     0     0   363     0     0     0     0   465     0     0     0\n",
            "     0     0     0     0     0     0     0     0     0     0     0     0\n",
            "     0     0     0     0     0]\n",
            "41\n"
          ]
        }
      ]
    },
    {
      "cell_type": "code",
      "source": [
        "import numpy as np\n",
        "import matplotlib.pyplot as plt\n",
        "\n",
        "# Example data\n",
        "labels = array_sum\n",
        "predictions = array_correct\n",
        "\n",
        "# Calculate the percentage of correct predictions for each index\n",
        "percentages = []\n",
        "for i in range(len(labels)):\n",
        "    percentage = predictions[i] * 1.0 / labels[i]\n",
        "    percentages.append(percentage)\n",
        "\n",
        "print(percentages)\n",
        "\n",
        "# Create a bar chart for each index\n",
        "fig, ax = plt.subplots(figsize=(12, 12))\n",
        "# fig, ax = plt.subplots()\n",
        "ax.bar(range(len(labels)), percentages, color=['green' if p == 100 else 'red' for p in percentages])\n",
        "ax.set_xlabel('Index')\n",
        "ax.set_ylabel('Percentage')\n",
        "ax.set_title('Percentage of Predictions Correct at Each Index')\n",
        "\n",
        "# Display the percentage on top of the bars\n",
        "for i, v in enumerate(percentages):\n",
        "    ax.text(i, v + 2, f'{v:.2f}%', ha='center', va='bottom', color='black')\n",
        "plt.show()\n"
      ],
      "metadata": {
        "colab": {
          "base_uri": "https://localhost:8080/",
          "height": 1000
        },
        "id": "yE3OMp8O0t6r",
        "outputId": "258b8efa-7af2-48bc-b7fd-5b0e8cc68071"
      },
      "execution_count": 98,
      "outputs": [
        {
          "output_type": "stream",
          "name": "stdout",
          "text": [
            "[1.0, 0.0, 0.0, 0.9994694960212201, 0.9853372434017595, 0.0, 0.0, 0.0, 0.0, 0.0, 0.0, 0.0, 0.0, nan, 0.0, 0.8918918918918919, 0.0, 0.0, 0.0, 0.0, 0.93, 0.0, 0.0, 0.0, 0.0, 0.0, 0.0, 0.0, 0.0, 0.0, 0.0, 0.0, 0.0, 0.0, 0.0, 0.0, 0.0, 0.0, 0.0, 0.0, nan]\n"
          ]
        },
        {
          "output_type": "stream",
          "name": "stderr",
          "text": [
            "<ipython-input-98-0cab693c714a>:11: RuntimeWarning: invalid value encountered in double_scalars\n",
            "  percentage = predictions[i] * 1.0 / labels[i]\n",
            "WARNING:matplotlib.text:posx and posy should be finite values\n",
            "WARNING:matplotlib.text:posx and posy should be finite values\n",
            "WARNING:matplotlib.text:posx and posy should be finite values\n",
            "WARNING:matplotlib.text:posx and posy should be finite values\n"
          ]
        },
        {
          "output_type": "display_data",
          "data": {
            "text/plain": [
              "<Figure size 1200x1200 with 1 Axes>"
            ],
            "image/png": "[encoded data removed]"
          },
          "metadata": {}
        }
      ]
    }
  ]
}