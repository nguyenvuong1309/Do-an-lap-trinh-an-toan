{
  "nbformat": 4,
  "nbformat_minor": 0,
  "metadata": {
    "colab": {
      "provenance": [],
      "authorship_tag": "ABX9TyOfAdZ/H6p1jZiKy2U2It3d",
      "include_colab_link": true
    },
    "kernelspec": {
      "name": "python3",
      "display_name": "Python 3"
    },
    "language_info": {
      "name": "python"
    }
  },
  "cells": [
    {
      "cell_type": "markdown",
      "metadata": {
        "id": "view-in-github",
        "colab_type": "text"
      },
      "source": [
        "<a href=\"https://colab.research.google.com/github/nguyenvuong1309/Do-an-lap-trinh-an-toan/blob/main/BLSTM.ipynb\" target=\"_parent\"><img src=\"https://colab.research.google.com/assets/colab-badge.svg\" alt=\"Open In Colab\"/></a>"
      ]
    },
    {
      "cell_type": "code",
      "execution_count": 27,
      "metadata": {
        "colab": {
          "base_uri": "https://localhost:8080/"
        },
        "id": "b9zgec2Bi3Mw",
        "outputId": "7f4f9be5-644f-4b29-e374-2e32489846ee"
      },
      "outputs": [
        {
          "output_type": "stream",
          "name": "stdout",
          "text": [
            "Drive already mounted at /content/drive; to attempt to forcibly remount, call drive.mount(\"/content/drive\", force_remount=True).\n"
          ]
        }
      ],
      "source": [
        "from google.colab import drive\n",
        "drive.mount('/content/drive')"
      ]
    },
    {
      "cell_type": "code",
      "source": [
        "import tensorflow as tf\n",
        "from tensorflow import keras\n",
        "from tensorflow.keras import layers, models\n",
        "from tensorflow.keras.utils import to_categorical\n",
        "import pandas as pd\n",
        "from numpy import zeros, newaxis\n",
        "import numpy as np\n",
        "from keras.layers import Dense, Embedding, LSTM, SpatialDropout1D, Bidirectional,Activation\n",
        "\n"
      ],
      "metadata": {
        "id": "F10H8T-5i62w"
      },
      "execution_count": 28,
      "outputs": []
    },
    {
      "cell_type": "code",
      "source": [
        "csv_file_path = '/content/drive/MyDrive/Colab/dataset/text_dataset.csv'\n",
        "df = pd.read_csv(csv_file_path)"
      ],
      "metadata": {
        "id": "uJ07mKCSu0pz"
      },
      "execution_count": 29,
      "outputs": []
    },
    {
      "cell_type": "code",
      "source": [
        "dataset = df"
      ],
      "metadata": {
        "id": "LiIbjU8ru_ls"
      },
      "execution_count": 30,
      "outputs": []
    },
    {
      "cell_type": "code",
      "source": [
        "dataset = dataset[['1','label']]\n",
        "dataset.head()"
      ],
      "metadata": {
        "colab": {
          "base_uri": "https://localhost:8080/",
          "height": 206
        },
        "id": "nG3ldGgjzGkc",
        "outputId": "c72bc34d-7a9f-49b7-928f-229fe7ec736d"
      },
      "execution_count": 31,
      "outputs": [
        {
          "output_type": "execute_result",
          "data": {
            "text/plain": [
              "                                                   1  label\n",
              "0   /dirent_uri.c memset \\nconst char *svn_relpat...      0\n",
              "1   /CWE_Uncontrolled_Format_String__char_environ...      0\n",
              "2   /CWE_Cleartext_Tx_Sensitive_Info__w_wchar_t_c...      0\n",
              "3   /utils.c strcmp \\nint avformat_open_input(AVF...      0\n",
              "4   /CWE_Cleartext_Tx_Sensitive_Info__w_wchar_t_l...     32"
            ],
            "text/html": [
              "\n",
              "  <div id=\"df-ebd4480f-d6fa-4caa-b9ad-14e33aab8e2f\" class=\"colab-df-container\">\n",
              "    <div>\n",
              "<style scoped>\n",
              "    .dataframe tbody tr th:only-of-type {\n",
              "        vertical-align: middle;\n",
              "    }\n",
              "\n",
              "    .dataframe tbody tr th {\n",
              "        vertical-align: top;\n",
              "    }\n",
              "\n",
              "    .dataframe thead th {\n",
              "        text-align: right;\n",
              "    }\n",
              "</style>\n",
              "<table border=\"1\" class=\"dataframe\">\n",
              "  <thead>\n",
              "    <tr style=\"text-align: right;\">\n",
              "      <th></th>\n",
              "      <th>1</th>\n",
              "      <th>label</th>\n",
              "    </tr>\n",
              "  </thead>\n",
              "  <tbody>\n",
              "    <tr>\n",
              "      <th>0</th>\n",
              "      <td>/dirent_uri.c memset \\nconst char *svn_relpat...</td>\n",
              "      <td>0</td>\n",
              "    </tr>\n",
              "    <tr>\n",
              "      <th>1</th>\n",
              "      <td>/CWE_Uncontrolled_Format_String__char_environ...</td>\n",
              "      <td>0</td>\n",
              "    </tr>\n",
              "    <tr>\n",
              "      <th>2</th>\n",
              "      <td>/CWE_Cleartext_Tx_Sensitive_Info__w_wchar_t_c...</td>\n",
              "      <td>0</td>\n",
              "    </tr>\n",
              "    <tr>\n",
              "      <th>3</th>\n",
              "      <td>/utils.c strcmp \\nint avformat_open_input(AVF...</td>\n",
              "      <td>0</td>\n",
              "    </tr>\n",
              "    <tr>\n",
              "      <th>4</th>\n",
              "      <td>/CWE_Cleartext_Tx_Sensitive_Info__w_wchar_t_l...</td>\n",
              "      <td>32</td>\n",
              "    </tr>\n",
              "  </tbody>\n",
              "</table>\n",
              "</div>\n",
              "    <div class=\"colab-df-buttons\">\n",
              "\n",
              "  <div class=\"colab-df-container\">\n",
              "    <button class=\"colab-df-convert\" onclick=\"convertToInteractive('df-ebd4480f-d6fa-4caa-b9ad-14e33aab8e2f')\"\n",
              "            title=\"Convert this dataframe to an interactive table.\"\n",
              "            style=\"display:none;\">\n",
              "\n",
              "  <svg xmlns=\"http://www.w3.org/2000/svg\" height=\"24px\" viewBox=\"0 -960 960 960\">\n",
              "    <path d=\"M120-120v-720h720v720H120Zm60-500h600v-160H180v160Zm220 220h160v-160H400v160Zm0 220h160v-160H400v160ZM180-400h160v-160H180v160Zm440 0h160v-160H620v160ZM180-180h160v-160H180v160Zm440 0h160v-160H620v160Z\"/>\n",
              "  </svg>\n",
              "    </button>\n",
              "\n",
              "  <style>\n",
              "    .colab-df-container {\n",
              "      display:flex;\n",
              "      gap: 12px;\n",
              "    }\n",
              "\n",
              "    .colab-df-convert {\n",
              "      background-color: #E8F0FE;\n",
              "      border: none;\n",
              "      border-radius: 50%;\n",
              "      cursor: pointer;\n",
              "      display: none;\n",
              "      fill: #1967D2;\n",
              "      height: 32px;\n",
              "      padding: 0 0 0 0;\n",
              "      width: 32px;\n",
              "    }\n",
              "\n",
              "    .colab-df-convert:hover {\n",
              "      background-color: #E2EBFA;\n",
              "      box-shadow: 0px 1px 2px rgba(60, 64, 67, 0.3), 0px 1px 3px 1px rgba(60, 64, 67, 0.15);\n",
              "      fill: #174EA6;\n",
              "    }\n",
              "\n",
              "    .colab-df-buttons div {\n",
              "      margin-bottom: 4px;\n",
              "    }\n",
              "\n",
              "    [theme=dark] .colab-df-convert {\n",
              "      background-color: #3B4455;\n",
              "      fill: #D2E3FC;\n",
              "    }\n",
              "\n",
              "    [theme=dark] .colab-df-convert:hover {\n",
              "      background-color: #434B5C;\n",
              "      box-shadow: 0px 1px 3px 1px rgba(0, 0, 0, 0.15);\n",
              "      filter: drop-shadow(0px 1px 2px rgba(0, 0, 0, 0.3));\n",
              "      fill: #FFFFFF;\n",
              "    }\n",
              "  </style>\n",
              "\n",
              "    <script>\n",
              "      const buttonEl =\n",
              "        document.querySelector('#df-ebd4480f-d6fa-4caa-b9ad-14e33aab8e2f button.colab-df-convert');\n",
              "      buttonEl.style.display =\n",
              "        google.colab.kernel.accessAllowed ? 'block' : 'none';\n",
              "\n",
              "      async function convertToInteractive(key) {\n",
              "        const element = document.querySelector('#df-ebd4480f-d6fa-4caa-b9ad-14e33aab8e2f');\n",
              "        const dataTable =\n",
              "          await google.colab.kernel.invokeFunction('convertToInteractive',\n",
              "                                                    [key], {});\n",
              "        if (!dataTable) return;\n",
              "\n",
              "        const docLinkHtml = 'Like what you see? Visit the ' +\n",
              "          '<a target=\"_blank\" href=https://colab.research.google.com/notebooks/data_table.ipynb>data table notebook</a>'\n",
              "          + ' to learn more about interactive tables.';\n",
              "        element.innerHTML = '';\n",
              "        dataTable['output_type'] = 'display_data';\n",
              "        await google.colab.output.renderOutput(dataTable, element);\n",
              "        const docLink = document.createElement('div');\n",
              "        docLink.innerHTML = docLinkHtml;\n",
              "        element.appendChild(docLink);\n",
              "      }\n",
              "    </script>\n",
              "  </div>\n",
              "\n",
              "\n",
              "<div id=\"df-59b8a6ad-c0e6-4e83-ba6a-03c070e9147d\">\n",
              "  <button class=\"colab-df-quickchart\" onclick=\"quickchart('df-59b8a6ad-c0e6-4e83-ba6a-03c070e9147d')\"\n",
              "            title=\"Suggest charts\"\n",
              "            style=\"display:none;\">\n",
              "\n",
              "<svg xmlns=\"http://www.w3.org/2000/svg\" height=\"24px\"viewBox=\"0 0 24 24\"\n",
              "     width=\"24px\">\n",
              "    <g>\n",
              "        <path d=\"M19 3H5c-1.1 0-2 .9-2 2v14c0 1.1.9 2 2 2h14c1.1 0 2-.9 2-2V5c0-1.1-.9-2-2-2zM9 17H7v-7h2v7zm4 0h-2V7h2v10zm4 0h-2v-4h2v4z\"/>\n",
              "    </g>\n",
              "</svg>\n",
              "  </button>\n",
              "\n",
              "<style>\n",
              "  .colab-df-quickchart {\n",
              "      --bg-color: #E8F0FE;\n",
              "      --fill-color: #1967D2;\n",
              "      --hover-bg-color: #E2EBFA;\n",
              "      --hover-fill-color: #174EA6;\n",
              "      --disabled-fill-color: #AAA;\n",
              "      --disabled-bg-color: #DDD;\n",
              "  }\n",
              "\n",
              "  [theme=dark] .colab-df-quickchart {\n",
              "      --bg-color: #3B4455;\n",
              "      --fill-color: #D2E3FC;\n",
              "      --hover-bg-color: #434B5C;\n",
              "      --hover-fill-color: #FFFFFF;\n",
              "      --disabled-bg-color: #3B4455;\n",
              "      --disabled-fill-color: #666;\n",
              "  }\n",
              "\n",
              "  .colab-df-quickchart {\n",
              "    background-color: var(--bg-color);\n",
              "    border: none;\n",
              "    border-radius: 50%;\n",
              "    cursor: pointer;\n",
              "    display: none;\n",
              "    fill: var(--fill-color);\n",
              "    height: 32px;\n",
              "    padding: 0;\n",
              "    width: 32px;\n",
              "  }\n",
              "\n",
              "  .colab-df-quickchart:hover {\n",
              "    background-color: var(--hover-bg-color);\n",
              "    box-shadow: 0 1px 2px rgba(60, 64, 67, 0.3), 0 1px 3px 1px rgba(60, 64, 67, 0.15);\n",
              "    fill: var(--button-hover-fill-color);\n",
              "  }\n",
              "\n",
              "  .colab-df-quickchart-complete:disabled,\n",
              "  .colab-df-quickchart-complete:disabled:hover {\n",
              "    background-color: var(--disabled-bg-color);\n",
              "    fill: var(--disabled-fill-color);\n",
              "    box-shadow: none;\n",
              "  }\n",
              "\n",
              "  .colab-df-spinner {\n",
              "    border: 2px solid var(--fill-color);\n",
              "    border-color: transparent;\n",
              "    border-bottom-color: var(--fill-color);\n",
              "    animation:\n",
              "      spin 1s steps(1) infinite;\n",
              "  }\n",
              "\n",
              "  @keyframes spin {\n",
              "    0% {\n",
              "      border-color: transparent;\n",
              "      border-bottom-color: var(--fill-color);\n",
              "      border-left-color: var(--fill-color);\n",
              "    }\n",
              "    20% {\n",
              "      border-color: transparent;\n",
              "      border-left-color: var(--fill-color);\n",
              "      border-top-color: var(--fill-color);\n",
              "    }\n",
              "    30% {\n",
              "      border-color: transparent;\n",
              "      border-left-color: var(--fill-color);\n",
              "      border-top-color: var(--fill-color);\n",
              "      border-right-color: var(--fill-color);\n",
              "    }\n",
              "    40% {\n",
              "      border-color: transparent;\n",
              "      border-right-color: var(--fill-color);\n",
              "      border-top-color: var(--fill-color);\n",
              "    }\n",
              "    60% {\n",
              "      border-color: transparent;\n",
              "      border-right-color: var(--fill-color);\n",
              "    }\n",
              "    80% {\n",
              "      border-color: transparent;\n",
              "      border-right-color: var(--fill-color);\n",
              "      border-bottom-color: var(--fill-color);\n",
              "    }\n",
              "    90% {\n",
              "      border-color: transparent;\n",
              "      border-bottom-color: var(--fill-color);\n",
              "    }\n",
              "  }\n",
              "</style>\n",
              "\n",
              "  <script>\n",
              "    async function quickchart(key) {\n",
              "      const quickchartButtonEl =\n",
              "        document.querySelector('#' + key + ' button');\n",
              "      quickchartButtonEl.disabled = true;  // To prevent multiple clicks.\n",
              "      quickchartButtonEl.classList.add('colab-df-spinner');\n",
              "      try {\n",
              "        const charts = await google.colab.kernel.invokeFunction(\n",
              "            'suggestCharts', [key], {});\n",
              "      } catch (error) {\n",
              "        console.error('Error during call to suggestCharts:', error);\n",
              "      }\n",
              "      quickchartButtonEl.classList.remove('colab-df-spinner');\n",
              "      quickchartButtonEl.classList.add('colab-df-quickchart-complete');\n",
              "    }\n",
              "    (() => {\n",
              "      let quickchartButtonEl =\n",
              "        document.querySelector('#df-59b8a6ad-c0e6-4e83-ba6a-03c070e9147d button');\n",
              "      quickchartButtonEl.style.display =\n",
              "        google.colab.kernel.accessAllowed ? 'block' : 'none';\n",
              "    })();\n",
              "  </script>\n",
              "</div>\n",
              "    </div>\n",
              "  </div>\n"
            ]
          },
          "metadata": {},
          "execution_count": 31
        }
      ]
    },
    {
      "cell_type": "code",
      "source": [
        "print(dataset['label'].unique())\n",
        "print(len(dataset['label'].unique()))"
      ],
      "metadata": {
        "colab": {
          "base_uri": "https://localhost:8080/"
        },
        "id": "NO3dSGi4wwen",
        "outputId": "9d61e6e5-25f7-415c-e2f9-c7c4d6087d0f"
      },
      "execution_count": 32,
      "outputs": [
        {
          "output_type": "stream",
          "name": "stdout",
          "text": [
            "[ 0 32  4 10 20 36  3  1 12 25 15 34 16 11  2 14 35 38  9 29  7 18 37 21\n",
            " 22 23  5  8 17 31 39 33 28 30 19 40 26 13]\n",
            "38\n"
          ]
        }
      ]
    },
    {
      "cell_type": "code",
      "source": [
        "train_dataset = dataset[0:int(len(dataset) * 0.8)]\n",
        "test_dataset =  dataset[int(len(dataset) * 0.8) :]"
      ],
      "metadata": {
        "id": "nsBZhvzVvDOx"
      },
      "execution_count": 33,
      "outputs": []
    },
    {
      "cell_type": "code",
      "source": [
        "#<_MapDataset element_spec=TensorSpec(shape=(None,), dtype=tf.string, name=None)>\n",
        "text_data = train_dataset['1'].values\n",
        "tensor = tf.data.Dataset.from_tensor_slices(text_data)"
      ],
      "metadata": {
        "id": "4Xu4Yqw1Cw8M"
      },
      "execution_count": 34,
      "outputs": []
    },
    {
      "cell_type": "code",
      "source": [
        "tensor"
      ],
      "metadata": {
        "colab": {
          "base_uri": "https://localhost:8080/"
        },
        "id": "5QAPEP9-GDr8",
        "outputId": "beaba9a0-475a-40a4-cb22-f41521af7d83"
      },
      "execution_count": 35,
      "outputs": [
        {
          "output_type": "execute_result",
          "data": {
            "text/plain": [
              "<_TensorSliceDataset element_spec=TensorSpec(shape=(), dtype=tf.string, name=None)>"
            ]
          },
          "metadata": {},
          "execution_count": 35
        }
      ]
    },
    {
      "cell_type": "code",
      "source": [
        "train_dataset_numpy = np.array(train_dataset)"
      ],
      "metadata": {
        "id": "oULeQCWR0njm"
      },
      "execution_count": 36,
      "outputs": []
    },
    {
      "cell_type": "code",
      "source": [
        "print(train_dataset_numpy[:3])"
      ],
      "metadata": {
        "colab": {
          "base_uri": "https://localhost:8080/"
        },
        "id": "BgMuwWRq0hgK",
        "outputId": "2556f02c-2e39-4cda-adea-27c7ed4b0a3e"
      },
      "execution_count": 37,
      "outputs": [
        {
          "output_type": "stream",
          "name": "stdout",
          "text": [
            "[[' /dirent_uri.c memset \\nconst char *svn_relpath__internal_style(const char *relpath,apr_pool_t *pool) \\nreturn svn_relpath_canonicalize ( internal_style ( relpath , pool ) , pool ) ; \\nconst char *svn_relpath_canonicalize(const char *relpath,apr_pool_t *pool) \\nreturn canonicalize ( type_relpath , relpath , pool ) ; \\nstatic const char *canonicalize(path_type_t type,const char *path,apr_pool_t *pool) \\nchar * canon ; \\nchar * dst ; \\nif ( path [  ] == \\'\\\\\\' )  \\ndst = canon = ( memset ( apr_palloc ( pool , strlen ( path ) +  ) ,  , strlen ( path ) +  ) ); \\nwhile ( ( * src ) != \\':\\' )  \\n* ( dst ++ ) = canonicalize_to_lower ( * ( src ++ ) ); \\n* ( dst ++ ) = \\':\\'; \\n* ( dst ++ ) = ; \\n* ( dst ++ ) = ; \\nsrc += ; \\nseg = src; \\nwhile ( * src && ( * src ) !=  && ( * src ) !=  )  \\nsrc ++; \\nif ( ( * src ) ==  )  \\nseglen = ( src - seg +  ); \\nmemcpy ( dst , seg , seglen ); \\ndst += seglen; \\nsrc ++; \\nsrc = seg; \\nif ( ( * src ) == \\'[\\' )  \\n* ( dst ++ ) = * ( src ++ ); \\nwhile ( ( * src ) == \\':\\' || ( * src ) >=  && ( * src ) <= \\'\\' || ( * src ) >= \\'a\\' && ( * src ) <= \\'f\\' || ( * src ) >=  && ( * src ) <= \\'F\\' )  \\n* ( dst ++ ) = canonicalize_to_lower ( * ( src ++ ) ); \\nif ( ( * src ) == \\']\\' )  \\n* ( dst ++ ) = * ( src ++ ); \\nwhile ( * src && ( * src ) !=  && ( * src ) != \\':\\' )  \\n* ( dst ++ ) = canonicalize_to_lower ( * ( src ++ ) ); \\nif ( ( * src ) == \\':\\' )  \\nif ( src [  ] ==  && src [  ] ==  && ( src [  ] ==  || ! src [  ] ) && ! strncmp ( canon , \"http:\" ,  ) )  \\nsrc += ; \\nif ( src [  ] ==  && src [  ] ==  && src [  ] ==  && ( src [  ] ==  || ! src [  ] ) && ! strncmp ( canon , \"https:\" ,  ) )  \\nsrc += ; \\nif ( src [  ] ==  && src [  ] == \\'\\' && src [  ] == \\'\\' && src [  ] ==  && ( src [  ] ==  || ! src [  ] ) && ! strncmp ( canon , \"svn:\" ,  ) )  \\nsrc += ; \\nif ( src [  ] ==  || ! src [  ] )  \\nsrc += ; \\nwhile ( * src && ( * src ) !=  )  \\n* ( dst ++ ) = canonicalize_to_lower ( * ( src ++ ) ); \\n* dst = * src; \\nif ( * src )  \\nsrc ++; \\ndst ++; \\nschema_data = dst; \\nif ( ( * src ) ==  )  \\n* ( dst ++ ) = * ( src ++ ); \\nwhile ( * src )  \\nconst char * next = src ; \\nwhile ( * next && next [  ] !=  && ! ( type == type_uri && next [  ] ==  && next [  ] ==  && ( canonicalize_to_upper ( next [  ] ) ) == \\'F\\' ) )  \\nif ( next [  ] ==  )  \\nif ( type == type_uri && next [  ] ==  )  \\nseglen = ( next - src ); \\nif ( seglen ==  || seglen ==  && src [  ] ==  || type == type_uri && seglen ==  && src [  ] ==  && src [  ] ==  && ( canonicalize_to_upper ( src [  ] ) ) == \\'E\\' )  \\nmemcpy ( dst , src , seglen ); \\ndst += seglen; \\n* ( dst ++ ) = ; \\nsrc = next + slash_len; \\nif ( canon_segments >  && ( * ( dst -  ) ) ==  && ! ( url && path [ schemelen ] == \\'\\\\\\' ) )  \\ndst --; \\n* dst = \\'\\\\\\'; \\nif ( schema_data )  \\nsrc = schema_data; \\nwhile ( * src )  \\nswitch ( * src )  \\nif ( ! (  != ( svn_ctype_table [ ( unsigned char ) ( * ( src +  ) ) ] & ( x | x ) ) ) || ! (  != ( svn_ctype_table [ ( unsigned char ) ( * ( src +  ) ) ] & ( x | x ) ) ) )  \\nsrc += ; \\nif ( ! svn_uri__char_validity [ ( unsigned char ) ( * src ) ] )  \\nsrc ++; \\napr_size_t pre_schema_size = ( apr_size_t ) ( schema_data - canon ) ; \\ndst = ( apr_palloc ( pool , ( ( apr_size_t ) ( src - canon ) ) + need_extra +  ) ); \\nmemcpy ( dst , canon , pre_schema_size ); \\ncanon = dst; \\ndst += pre_schema_size; \\ndst = schema_data; \\nsrc = schema_data; \\nwhile ( * src )  \\nswitch ( * src )  \\n* ( dst ++ ) = ; \\nif ( ! (  != ( svn_ctype_table [ ( unsigned char ) ( * ( src +  ) ) ] & ( x | x ) ) ) || ! (  != ( svn_ctype_table [ ( unsigned char ) ( * ( src +  ) ) ] & ( x | x ) ) ) )  \\n* ( dst ++ ) = ; \\n* ( dst ++ ) = ; \\n* ( dst ++ ) = \\'\\'; \\ndigitz [  ] = * ( ++ src ); \\ndigitz [  ] = * ( ++ src ); \\ndigitz [  ] = ; \\nval = ( ( int ) ( strtol ( digitz , ( ( void * )  ) ,  ) ) ); \\nif ( svn_uri__char_validity [ ( unsigned char ) val ] )  \\n* ( dst ++ ) = ( ( char ) val ); \\n* ( dst ++ ) = ; \\n* ( dst ++ ) = canonicalize_to_upper ( digitz [  ] ); \\n* ( dst ++ ) = canonicalize_to_upper ( digitz [  ] ); \\nif ( ! svn_uri__char_validity [ ( unsigned char ) ( * src ) ] )  \\napr_snprintf ( dst ,  , \"%%%X\" , ( ( unsigned char ) ( * src ) ) ); \\ndst += ; \\n* ( dst ++ ) = * src; \\nsrc ++; \\n* dst = \\'\\\\\\'; \\nreturn canon ; \\n\\n'\n",
            "  0]\n",
            " [' /CWE_Uncontrolled_Format_String__char_environment_vfprintf_a.c strcpy \\nstatic void goodGB() \\nchar * data ; \\nchar dataBuffer [  ] = \"\" ; \\ndata = dataBuffer; \\nstrcpy ( data , \"fixedstringtest\" ); \\nCWE_Uncontrolled_Format_String__char_environment_vfprintf_b_goodGBSink ( data ); \\nvoid CWE_Uncontrolled_Format_String__char_environment_vfprintf_b_goodGBSink(char * data) \\nCWE_Uncontrolled_Format_String__char_environment_vfprintf_c_goodGBSink ( data ); \\nvoid CWE_Uncontrolled_Format_String__char_environment_vfprintf_c_goodGBSink(char * data) \\ngoodGBVaSink ( data , data ); \\nstatic void goodGBVaSink(char * data, ...) \\nva_start ( args , data ); \\nvfprintf ( stdout , data , args ); \\n\\n'\n",
            "  0]\n",
            " [' /CWE_Cleartext_Tx_Sensitive_Info__w_wchar_t_connect_socket_.c memcpy \\nstatic void goodBG() \\nwchar_t * password ; \\nwchar_t passwordBuffer [  ] = L \"\" \\npassword = passwordBuffer; \\nif ( globalTrue )  \\nWSADATA wsaData ; \\nint recvResult ; \\nstruct sockaddr_in service ; \\nsize_t passwordLen = wcslen ( password ) ; \\nif ( WSAStartup ( MAKEWORD (  ,  ) , & wsaData ) != NO_ERROR )  \\nconnectSocket = socket ( AF_INET , SOCK_STREAM , IPPROTO_TCP ); \\nif ( connectSocket == INVALID_SOCKET )  \\nmemset ( & service ,  , sizeof ( service ) ); \\nservice . sin_family = AF_INET; \\nservice . sin_addr . s_addr = inet_addr ( IP_ADDRESS ); \\nservice . sin_port = htons ( TCP_PORT ); \\nif ( connect ( connectSocket , ( struct sockaddr * ) & service , sizeof ( service ) ) == SOCKET_ERROR )  \\nrecvResult = recv ( connectSocket , ( char * ) ( password + passwordLen ) , (  - passwordLen -  ) * sizeof ( wchar_t ) ,  ); \\nif ( recvResult == SOCKET_ERROR || recvResult ==  )  \\npassword [ passwordLen + recvResult / sizeof ( wchar_t ) ] = L \\'\\\\\\' \\nwhile (  )  \\nif ( globalTrue )  \\nHCRYPTPROV hCryptProv =  ; \\nHCRYPTHASH hHash =  ; \\nHCRYPTKEY hKey =  ; \\nchar hashData [  ] = HASH_INPUT ; \\nBYTE payload [ (  -  ) * sizeof ( wchar_t ) ] ; \\nDWORD payloadBytes ; \\npayloadBytes = decodeHexWChars ( payload , sizeof ( payload ) , password ); \\nsize_t decodeHexWChars(unsigned char * bytes, size_t numBytes, const wchar_t * hex) \\nsize_t numWritten =  ; \\nwhile ( numWritten < numBytes && iswxdigit ( hex [  * numWritten ] ) && iswxdigit ( hex [  * numWritten +  ] ) )  \\nint byte ; \\nbytes [ numWritten ] = ( unsigned char ) byte; \\nreturn numWritten ; \\nif ( ! CryptAcquireContext ( & hCryptProv , NULL , MS_ENH_RSA_AES_PROV , PROV_RSA_AES ,  ) )  \\nif ( ! CryptCreateHash ( hCryptProv , CALG_SHA_ ,  ,  , & hHash ) )  \\nif ( ! CryptHashData ( hHash , ( BYTE * ) hashData , strlen ( hashData ) ,  ) )  \\nif ( ! CryptDeriveKey ( hCryptProv , CALG_AES_ , hHash ,  , & hKey ) )  \\nif ( ! CryptDecrypt ( hKey ,  ,  ,  , payload , & payloadBytes ) )  \\nmemcpy ( password , payload , payloadBytes ); \\nwhile (  )  \\nif ( LogonUserW ( username , domain , password , LOGON_LOGON_NETWORK , LOGON_PROVIDER_DEFAULT , & pHandle ) !=  )  \\n\\n'\n",
            "  0]]\n"
          ]
        }
      ]
    },
    {
      "cell_type": "code",
      "source": [
        "BUFFER_SIZE = 10000\n",
        "BATCH_SIZE = 64"
      ],
      "metadata": {
        "id": "HbdDz4v8p9FV"
      },
      "execution_count": 38,
      "outputs": []
    },
    {
      "cell_type": "code",
      "source": [
        "train_dataset = train_dataset.sample(frac=0.5, replace=True, random_state=1)\n",
        "test_dataset = test_dataset.sample(frac=0.5, replace=True, random_state=1)"
      ],
      "metadata": {
        "id": "znXKsSejuwrt"
      },
      "execution_count": 39,
      "outputs": []
    },
    {
      "cell_type": "code",
      "source": [
        "VOCAB_SIZE = 10000\n",
        "encoder = tf.keras.layers.TextVectorization(\n",
        "    max_tokens=VOCAB_SIZE)\n",
        "encoder.adapt(tensor)"
      ],
      "metadata": {
        "id": "eGmVnaPNuz78"
      },
      "execution_count": 40,
      "outputs": []
    },
    {
      "cell_type": "code",
      "source": [
        "train_dataset['1']"
      ],
      "metadata": {
        "colab": {
          "base_uri": "https://localhost:8080/"
        },
        "id": "2xu4c0thFDLc",
        "outputId": "bd28a9bc-f6fd-4ac3-a879-5f5ea9bfcf5a"
      },
      "execution_count": 41,
      "outputs": [
        {
          "output_type": "execute_result",
          "data": {
            "text/plain": [
              "5157     /CWE_Heap_Based_Buffer_Overflow__cpp_CWE_char...\n",
              "235      /CWE_Trapdoor__ip_based_logic_.c send \\nvoid ...\n",
              "3980     /CWE_OS_Command_Injection__char_console_wspaw...\n",
              "5192     /CWE_Uncontrolled_Format_String__wchar_t_cons...\n",
              "7935     /CWE_Uncontrolled_Mem_Alloc__new_wchar_t_list...\n",
              "                              ...                        \n",
              "5934     /CWE_Unexpected_Sign_Extension__listen_socket...\n",
              "5286     /config.c strlen \\nsvn_error_t *svn_config_ge...\n",
              "3947     /CWE_Integer_Overflow__int_connect_socket_squ...\n",
              "3673     /CWE_Heap_Based_Buffer_Overflow__cpp_CWE_wcha...\n",
              "4918     /CWE_Cleartext_Tx_Sensitive_Info__w_char_conn...\n",
              "Name: 1, Length: 4000, dtype: object"
            ]
          },
          "metadata": {},
          "execution_count": 41
        }
      ]
    },
    {
      "cell_type": "code",
      "source": [
        "train_dataset"
      ],
      "metadata": {
        "colab": {
          "base_uri": "https://localhost:8080/",
          "height": 423
        },
        "id": "NGm4K6w1CYia",
        "outputId": "53995b2a-0e82-4831-cfbe-b625fee0574f"
      },
      "execution_count": 42,
      "outputs": [
        {
          "output_type": "execute_result",
          "data": {
            "text/plain": [
              "                                                      1  label\n",
              "5157   /CWE_Heap_Based_Buffer_Overflow__cpp_CWE_char...      3\n",
              "235    /CWE_Trapdoor__ip_based_logic_.c send \\nvoid ...     34\n",
              "3980   /CWE_OS_Command_Injection__char_console_wspaw...      0\n",
              "5192   /CWE_Uncontrolled_Format_String__wchar_t_cons...      0\n",
              "7935   /CWE_Uncontrolled_Mem_Alloc__new_wchar_t_list...      0\n",
              "...                                                 ...    ...\n",
              "5934   /CWE_Unexpected_Sign_Extension__listen_socket...      0\n",
              "5286   /config.c strlen \\nsvn_error_t *svn_config_ge...      0\n",
              "3947   /CWE_Integer_Overflow__int_connect_socket_squ...      0\n",
              "3673   /CWE_Heap_Based_Buffer_Overflow__cpp_CWE_wcha...      0\n",
              "4918   /CWE_Cleartext_Tx_Sensitive_Info__w_char_conn...     32\n",
              "\n",
              "[4000 rows x 2 columns]"
            ],
            "text/html": [
              "\n",
              "  <div id=\"df-93243bd4-5de5-4fa4-89c4-22d8a4508262\" class=\"colab-df-container\">\n",
              "    <div>\n",
              "<style scoped>\n",
              "    .dataframe tbody tr th:only-of-type {\n",
              "        vertical-align: middle;\n",
              "    }\n",
              "\n",
              "    .dataframe tbody tr th {\n",
              "        vertical-align: top;\n",
              "    }\n",
              "\n",
              "    .dataframe thead th {\n",
              "        text-align: right;\n",
              "    }\n",
              "</style>\n",
              "<table border=\"1\" class=\"dataframe\">\n",
              "  <thead>\n",
              "    <tr style=\"text-align: right;\">\n",
              "      <th></th>\n",
              "      <th>1</th>\n",
              "      <th>label</th>\n",
              "    </tr>\n",
              "  </thead>\n",
              "  <tbody>\n",
              "    <tr>\n",
              "      <th>5157</th>\n",
              "      <td>/CWE_Heap_Based_Buffer_Overflow__cpp_CWE_char...</td>\n",
              "      <td>3</td>\n",
              "    </tr>\n",
              "    <tr>\n",
              "      <th>235</th>\n",
              "      <td>/CWE_Trapdoor__ip_based_logic_.c send \\nvoid ...</td>\n",
              "      <td>34</td>\n",
              "    </tr>\n",
              "    <tr>\n",
              "      <th>3980</th>\n",
              "      <td>/CWE_OS_Command_Injection__char_console_wspaw...</td>\n",
              "      <td>0</td>\n",
              "    </tr>\n",
              "    <tr>\n",
              "      <th>5192</th>\n",
              "      <td>/CWE_Uncontrolled_Format_String__wchar_t_cons...</td>\n",
              "      <td>0</td>\n",
              "    </tr>\n",
              "    <tr>\n",
              "      <th>7935</th>\n",
              "      <td>/CWE_Uncontrolled_Mem_Alloc__new_wchar_t_list...</td>\n",
              "      <td>0</td>\n",
              "    </tr>\n",
              "    <tr>\n",
              "      <th>...</th>\n",
              "      <td>...</td>\n",
              "      <td>...</td>\n",
              "    </tr>\n",
              "    <tr>\n",
              "      <th>5934</th>\n",
              "      <td>/CWE_Unexpected_Sign_Extension__listen_socket...</td>\n",
              "      <td>0</td>\n",
              "    </tr>\n",
              "    <tr>\n",
              "      <th>5286</th>\n",
              "      <td>/config.c strlen \\nsvn_error_t *svn_config_ge...</td>\n",
              "      <td>0</td>\n",
              "    </tr>\n",
              "    <tr>\n",
              "      <th>3947</th>\n",
              "      <td>/CWE_Integer_Overflow__int_connect_socket_squ...</td>\n",
              "      <td>0</td>\n",
              "    </tr>\n",
              "    <tr>\n",
              "      <th>3673</th>\n",
              "      <td>/CWE_Heap_Based_Buffer_Overflow__cpp_CWE_wcha...</td>\n",
              "      <td>0</td>\n",
              "    </tr>\n",
              "    <tr>\n",
              "      <th>4918</th>\n",
              "      <td>/CWE_Cleartext_Tx_Sensitive_Info__w_char_conn...</td>\n",
              "      <td>32</td>\n",
              "    </tr>\n",
              "  </tbody>\n",
              "</table>\n",
              "<p>4000 rows × 2 columns</p>\n",
              "</div>\n",
              "    <div class=\"colab-df-buttons\">\n",
              "\n",
              "  <div class=\"colab-df-container\">\n",
              "    <button class=\"colab-df-convert\" onclick=\"convertToInteractive('df-93243bd4-5de5-4fa4-89c4-22d8a4508262')\"\n",
              "            title=\"Convert this dataframe to an interactive table.\"\n",
              "            style=\"display:none;\">\n",
              "\n",
              "  <svg xmlns=\"http://www.w3.org/2000/svg\" height=\"24px\" viewBox=\"0 -960 960 960\">\n",
              "    <path d=\"M120-120v-720h720v720H120Zm60-500h600v-160H180v160Zm220 220h160v-160H400v160Zm0 220h160v-160H400v160ZM180-400h160v-160H180v160Zm440 0h160v-160H620v160ZM180-180h160v-160H180v160Zm440 0h160v-160H620v160Z\"/>\n",
              "  </svg>\n",
              "    </button>\n",
              "\n",
              "  <style>\n",
              "    .colab-df-container {\n",
              "      display:flex;\n",
              "      gap: 12px;\n",
              "    }\n",
              "\n",
              "    .colab-df-convert {\n",
              "      background-color: #E8F0FE;\n",
              "      border: none;\n",
              "      border-radius: 50%;\n",
              "      cursor: pointer;\n",
              "      display: none;\n",
              "      fill: #1967D2;\n",
              "      height: 32px;\n",
              "      padding: 0 0 0 0;\n",
              "      width: 32px;\n",
              "    }\n",
              "\n",
              "    .colab-df-convert:hover {\n",
              "      background-color: #E2EBFA;\n",
              "      box-shadow: 0px 1px 2px rgba(60, 64, 67, 0.3), 0px 1px 3px 1px rgba(60, 64, 67, 0.15);\n",
              "      fill: #174EA6;\n",
              "    }\n",
              "\n",
              "    .colab-df-buttons div {\n",
              "      margin-bottom: 4px;\n",
              "    }\n",
              "\n",
              "    [theme=dark] .colab-df-convert {\n",
              "      background-color: #3B4455;\n",
              "      fill: #D2E3FC;\n",
              "    }\n",
              "\n",
              "    [theme=dark] .colab-df-convert:hover {\n",
              "      background-color: #434B5C;\n",
              "      box-shadow: 0px 1px 3px 1px rgba(0, 0, 0, 0.15);\n",
              "      filter: drop-shadow(0px 1px 2px rgba(0, 0, 0, 0.3));\n",
              "      fill: #FFFFFF;\n",
              "    }\n",
              "  </style>\n",
              "\n",
              "    <script>\n",
              "      const buttonEl =\n",
              "        document.querySelector('#df-93243bd4-5de5-4fa4-89c4-22d8a4508262 button.colab-df-convert');\n",
              "      buttonEl.style.display =\n",
              "        google.colab.kernel.accessAllowed ? 'block' : 'none';\n",
              "\n",
              "      async function convertToInteractive(key) {\n",
              "        const element = document.querySelector('#df-93243bd4-5de5-4fa4-89c4-22d8a4508262');\n",
              "        const dataTable =\n",
              "          await google.colab.kernel.invokeFunction('convertToInteractive',\n",
              "                                                    [key], {});\n",
              "        if (!dataTable) return;\n",
              "\n",
              "        const docLinkHtml = 'Like what you see? Visit the ' +\n",
              "          '<a target=\"_blank\" href=https://colab.research.google.com/notebooks/data_table.ipynb>data table notebook</a>'\n",
              "          + ' to learn more about interactive tables.';\n",
              "        element.innerHTML = '';\n",
              "        dataTable['output_type'] = 'display_data';\n",
              "        await google.colab.output.renderOutput(dataTable, element);\n",
              "        const docLink = document.createElement('div');\n",
              "        docLink.innerHTML = docLinkHtml;\n",
              "        element.appendChild(docLink);\n",
              "      }\n",
              "    </script>\n",
              "  </div>\n",
              "\n",
              "\n",
              "<div id=\"df-0274dcfe-071c-47ea-9dd5-57bf11c697ba\">\n",
              "  <button class=\"colab-df-quickchart\" onclick=\"quickchart('df-0274dcfe-071c-47ea-9dd5-57bf11c697ba')\"\n",
              "            title=\"Suggest charts\"\n",
              "            style=\"display:none;\">\n",
              "\n",
              "<svg xmlns=\"http://www.w3.org/2000/svg\" height=\"24px\"viewBox=\"0 0 24 24\"\n",
              "     width=\"24px\">\n",
              "    <g>\n",
              "        <path d=\"M19 3H5c-1.1 0-2 .9-2 2v14c0 1.1.9 2 2 2h14c1.1 0 2-.9 2-2V5c0-1.1-.9-2-2-2zM9 17H7v-7h2v7zm4 0h-2V7h2v10zm4 0h-2v-4h2v4z\"/>\n",
              "    </g>\n",
              "</svg>\n",
              "  </button>\n",
              "\n",
              "<style>\n",
              "  .colab-df-quickchart {\n",
              "      --bg-color: #E8F0FE;\n",
              "      --fill-color: #1967D2;\n",
              "      --hover-bg-color: #E2EBFA;\n",
              "      --hover-fill-color: #174EA6;\n",
              "      --disabled-fill-color: #AAA;\n",
              "      --disabled-bg-color: #DDD;\n",
              "  }\n",
              "\n",
              "  [theme=dark] .colab-df-quickchart {\n",
              "      --bg-color: #3B4455;\n",
              "      --fill-color: #D2E3FC;\n",
              "      --hover-bg-color: #434B5C;\n",
              "      --hover-fill-color: #FFFFFF;\n",
              "      --disabled-bg-color: #3B4455;\n",
              "      --disabled-fill-color: #666;\n",
              "  }\n",
              "\n",
              "  .colab-df-quickchart {\n",
              "    background-color: var(--bg-color);\n",
              "    border: none;\n",
              "    border-radius: 50%;\n",
              "    cursor: pointer;\n",
              "    display: none;\n",
              "    fill: var(--fill-color);\n",
              "    height: 32px;\n",
              "    padding: 0;\n",
              "    width: 32px;\n",
              "  }\n",
              "\n",
              "  .colab-df-quickchart:hover {\n",
              "    background-color: var(--hover-bg-color);\n",
              "    box-shadow: 0 1px 2px rgba(60, 64, 67, 0.3), 0 1px 3px 1px rgba(60, 64, 67, 0.15);\n",
              "    fill: var(--button-hover-fill-color);\n",
              "  }\n",
              "\n",
              "  .colab-df-quickchart-complete:disabled,\n",
              "  .colab-df-quickchart-complete:disabled:hover {\n",
              "    background-color: var(--disabled-bg-color);\n",
              "    fill: var(--disabled-fill-color);\n",
              "    box-shadow: none;\n",
              "  }\n",
              "\n",
              "  .colab-df-spinner {\n",
              "    border: 2px solid var(--fill-color);\n",
              "    border-color: transparent;\n",
              "    border-bottom-color: var(--fill-color);\n",
              "    animation:\n",
              "      spin 1s steps(1) infinite;\n",
              "  }\n",
              "\n",
              "  @keyframes spin {\n",
              "    0% {\n",
              "      border-color: transparent;\n",
              "      border-bottom-color: var(--fill-color);\n",
              "      border-left-color: var(--fill-color);\n",
              "    }\n",
              "    20% {\n",
              "      border-color: transparent;\n",
              "      border-left-color: var(--fill-color);\n",
              "      border-top-color: var(--fill-color);\n",
              "    }\n",
              "    30% {\n",
              "      border-color: transparent;\n",
              "      border-left-color: var(--fill-color);\n",
              "      border-top-color: var(--fill-color);\n",
              "      border-right-color: var(--fill-color);\n",
              "    }\n",
              "    40% {\n",
              "      border-color: transparent;\n",
              "      border-right-color: var(--fill-color);\n",
              "      border-top-color: var(--fill-color);\n",
              "    }\n",
              "    60% {\n",
              "      border-color: transparent;\n",
              "      border-right-color: var(--fill-color);\n",
              "    }\n",
              "    80% {\n",
              "      border-color: transparent;\n",
              "      border-right-color: var(--fill-color);\n",
              "      border-bottom-color: var(--fill-color);\n",
              "    }\n",
              "    90% {\n",
              "      border-color: transparent;\n",
              "      border-bottom-color: var(--fill-color);\n",
              "    }\n",
              "  }\n",
              "</style>\n",
              "\n",
              "  <script>\n",
              "    async function quickchart(key) {\n",
              "      const quickchartButtonEl =\n",
              "        document.querySelector('#' + key + ' button');\n",
              "      quickchartButtonEl.disabled = true;  // To prevent multiple clicks.\n",
              "      quickchartButtonEl.classList.add('colab-df-spinner');\n",
              "      try {\n",
              "        const charts = await google.colab.kernel.invokeFunction(\n",
              "            'suggestCharts', [key], {});\n",
              "      } catch (error) {\n",
              "        console.error('Error during call to suggestCharts:', error);\n",
              "      }\n",
              "      quickchartButtonEl.classList.remove('colab-df-spinner');\n",
              "      quickchartButtonEl.classList.add('colab-df-quickchart-complete');\n",
              "    }\n",
              "    (() => {\n",
              "      let quickchartButtonEl =\n",
              "        document.querySelector('#df-0274dcfe-071c-47ea-9dd5-57bf11c697ba button');\n",
              "      quickchartButtonEl.style.display =\n",
              "        google.colab.kernel.accessAllowed ? 'block' : 'none';\n",
              "    })();\n",
              "  </script>\n",
              "</div>\n",
              "    </div>\n",
              "  </div>\n"
            ]
          },
          "metadata": {},
          "execution_count": 42
        }
      ]
    },
    {
      "cell_type": "code",
      "source": [
        "vocab = np.array(encoder.get_vocabulary())\n",
        "vocab[:20]"
      ],
      "metadata": {
        "colab": {
          "base_uri": "https://localhost:8080/"
        },
        "id": "O1B9Kw7_vLiD",
        "outputId": "21522c54-f3ab-44eb-9e32-df1975033ca1"
      },
      "execution_count": 43,
      "outputs": [
        {
          "output_type": "execute_result",
          "data": {
            "text/plain": [
              "array(['', '[UNK]', 'if', 'data', 'char', 'void', 'i', 'd', 's', 'int',\n",
              "       'service', 'sizeof', 'recvresult', 'static', 'datalen', 'null',\n",
              "       'return', 'line', 'wchart', 'databuffer'], dtype='<U223')"
            ]
          },
          "metadata": {},
          "execution_count": 43
        }
      ]
    },
    {
      "cell_type": "code",
      "source": [
        "example = [[' /CWE_Heap_Based_Buffer_Overflow__cpp_CWE_char_snprintf_.cpp memset \\nvoid bad() \\nchar * data ; \\ndata = new char [  ]; \\nif ( GLOBAL_CONST_TRUE )  \\nmemset ( data , \\'A\\' ,  -  ); \\ndata [  -  ] = \\'\\\\\\'; \\nSNPRINTF ( dest , strlen ( data ) , \"%s\" , data ); \\nprintLine ( data ); \\nvoid printLine (const char * line) \\nif ( line != NULL )  \\nprintf ( \"%s\\\\n\" , line ); \\ndelete [ ] data \\n\\n'],\n",
        " [' /CWE_Trapdoor__ip_based_logic_.c send \\nvoid CWE_Trapdoor__ip_based_logic__bad() \\nWSADATA wsaData ; \\nstruct sockaddr_in service , acceptService ; \\nif ( WSAStartup ( MAKEWORD (  ,  ) , & wsaData ) != NO_ERROR )  \\nlistenSocket = socket ( AF_INET , SOCK_STREAM , IPPROTO_TCP ); \\nif ( listenSocket == INVALID_SOCKET )  \\nmemset ( & service ,  , sizeof ( service ) ); \\nservice . sin_family = AF_INET; \\nservice . sin_addr . s_addr = INADDR_ANY; \\nservice . sin_port = htons (  ); \\nif ( bind ( listenSocket , ( struct sockaddr * ) & service , sizeof ( service ) ) == SOCKET_ERROR )  \\nif ( listen ( listenSocket ,  ) == SOCKET_ERROR )  \\nacceptSocket = accept ( listenSocket , NULL , NULL ); \\nif ( acceptSocket == SOCKET_ERROR )  \\nif ( getsockname ( acceptSocket , ( struct sockaddr * ) & acceptService , & acceptServiceLen ) == -  )  \\nif ( strcmp ( \"...\" , inet_ntoa ( acceptService . sin_addr ) ) ==  )  \\nif ( send ( acceptSocket , ADMIN_MESSAGE , strlen ( ADMIN_MESSAGE ) ,  ) == SOCKET_ERROR )  \\nif ( send ( acceptSocket , DEFAULT_MESSAGE , strlen ( DEFAULT_MESSAGE ) ,  ) == SOCKET_ERROR )  \\nwhile (  )  \\n\\n'],\n",
        " [' /CWE_OS_Command_Injection__char_console_wspawnl_.c strlen \\nvoid CWE_OS_Command_Injection__char_console_wspawnl__bad() \\nchar * data ; \\nchar dataBuffer [  ] = \"\" ; \\ndata = dataBuffer; \\nif ( staticFive ==  )  \\nsize_t dataLen = strlen ( data ) ; \\nif (  - dataLen >  )  \\nif ( fgets ( data + dataLen , ( int ) (  - dataLen ) , stdin ) != NULL )  \\ndataLen = strlen ( data ); \\nif ( dataLen >  && data [ dataLen -  ] == \\'\\\\n\\' )  \\ndata [ dataLen -  ] = \\'\\\\\\'; \\n\\n']\n",
        "           ]"
      ],
      "metadata": {
        "id": "ZL7Cs8yU2EtL"
      },
      "execution_count": 44,
      "outputs": []
    },
    {
      "cell_type": "code",
      "source": [
        "encoded_example = encoder(example)[:3].numpy()\n",
        "encoded_example"
      ],
      "metadata": {
        "colab": {
          "base_uri": "https://localhost:8080/"
        },
        "id": "KIUKUsj01sv8",
        "outputId": "cf72f3ef-55a8-4544-fe4b-c007c0a92f87"
      },
      "execution_count": 45,
      "outputs": [
        {
          "output_type": "execute_result",
          "data": {
            "text/plain": [
              "array([[8907,   29,    5,  139,    4,    3,    3,  195,    4,    2,  592,\n",
              "          29,    3,  102,    3,  235,   36,   23,    3,    8,    3,   46,\n",
              "           3,    5,   46,   30,    4,   17,    2,   17,   15,   59,   80,\n",
              "          17,  283,    3,    0,    0,    0,    0,    0,    0,    0,    0,\n",
              "           0,    0,    0,    0,    0,    0,    0,    0,    0,    0,    0,\n",
              "           0,    0,    0,    0,    0,    0,    0,    0,    0,    0,    0,\n",
              "           0,    0,    0,    0,    0,    0,    0,    0,    0,    0,    0,\n",
              "           0,    0,    0,    0,    0,    0,    0,    0],\n",
              "       [3333, 1218,    5, 5299,   26,   26,   21,   84,   10, 2053,    2,\n",
              "          86,   88,   26,   93,   28,   62,   44,   87,   92,    2,   28,\n",
              "          54,   29,   10,   11,   10,   10,   90,   44,   10,   83,   85,\n",
              "         156,   10,   89,   91,    2,  153,   28,   21,   81,   10,   11,\n",
              "          10,   24,    2,  154,   28,   24,   45,  155,   28,   15,   15,\n",
              "           2,   45,   24,    2, 3826,   45,   21,   81, 2053, 4713,    2,\n",
              "         176, 5798, 2053,   83,    2, 1218,   45, 2859,   23, 2859,   24,\n",
              "           2, 1218,   45, 1840,   23, 1840,   24,   25],\n",
              "       [5987,   23,    5, 4631,    4,    3,    4,   19,    3,   19,    2,\n",
              "         505,   27,   14,   23,    3,    2,   14,    2,  165,    3,   14,\n",
              "           9,   14,  248,   15,   14,   23,    3,    2,   14,    3,   14,\n",
              "          68,    3,   14,    0,    0,    0,    0,    0,    0,    0,    0,\n",
              "           0,    0,    0,    0,    0,    0,    0,    0,    0,    0,    0,\n",
              "           0,    0,    0,    0,    0,    0,    0,    0,    0,    0,    0,\n",
              "           0,    0,    0,    0,    0,    0,    0,    0,    0,    0,    0,\n",
              "           0,    0,    0,    0,    0,    0,    0,    0]])"
            ]
          },
          "metadata": {},
          "execution_count": 45
        }
      ]
    },
    {
      "cell_type": "code",
      "source": [
        "model = tf.keras.Sequential([\n",
        "    encoder,\n",
        "    tf.keras.layers.Embedding(\n",
        "        input_dim=len(encoder.get_vocabulary()),\n",
        "        output_dim=1,\n",
        "        # Use masking to handle the variable sequence lengths\n",
        "        mask_zero=True),\n",
        "    tf.keras.layers.Bidirectional(tf.keras.layers.LSTM(64)),\n",
        "    tf.keras.layers.Dense(64, activation='relu'),\n",
        "    tf.keras.layers.Dense(41, activation='softmax')\n",
        "])"
      ],
      "metadata": {
        "id": "37F5BLCzvUaR"
      },
      "execution_count": 46,
      "outputs": []
    },
    {
      "cell_type": "code",
      "source": [
        "model.compile(loss='categorical_crossentropy',\n",
        "              optimizer=tf.keras.optimizers.Adam(1e-4),\n",
        "              metrics=['accuracy'])"
      ],
      "metadata": {
        "id": "dOO4Snm-GmMV"
      },
      "execution_count": 47,
      "outputs": []
    },
    {
      "cell_type": "code",
      "source": [
        "X_train = train_dataset['1']\n",
        "y_train = train_dataset['label']\n",
        "y_train = tf.keras.utils.to_categorical(y_train, num_classes=41)"
      ],
      "metadata": {
        "id": "oMU2ork1IsoF"
      },
      "execution_count": 48,
      "outputs": []
    },
    {
      "cell_type": "code",
      "source": [
        "print(X_train.shape)\n",
        "print(y_train.shape)"
      ],
      "metadata": {
        "colab": {
          "base_uri": "https://localhost:8080/"
        },
        "id": "A_r_W-OwJCHu",
        "outputId": "18212eee-f1b5-4062-cc82-089507f20324"
      },
      "execution_count": 49,
      "outputs": [
        {
          "output_type": "stream",
          "name": "stdout",
          "text": [
            "(4000,)\n",
            "(4000, 41)\n"
          ]
        }
      ]
    },
    {
      "cell_type": "code",
      "source": [
        "history = model.fit(X_train,y_train, epochs=1,\n",
        "                    # validation_data=test_dataset,\n",
        "                    # validation_steps=30\n",
        "                    )"
      ],
      "metadata": {
        "colab": {
          "base_uri": "https://localhost:8080/"
        },
        "id": "cHvBqxI7GxNl",
        "outputId": "98cab910-db3f-4bc0-a98d-7cc933357887"
      },
      "execution_count": 50,
      "outputs": [
        {
          "output_type": "stream",
          "name": "stdout",
          "text": [
            "125/125 [==============================] - 153s 1s/step - loss: 2.8657 - accuracy: 0.7480\n"
          ]
        }
      ]
    },
    {
      "cell_type": "code",
      "source": [
        "X_test = test_dataset['1']\n",
        "y_test = test_dataset['label']\n",
        "y_test = tf.keras.utils.to_categorical(y_test, num_classes=41)"
      ],
      "metadata": {
        "id": "MUbEuLvrLc8U"
      },
      "execution_count": 51,
      "outputs": []
    },
    {
      "cell_type": "code",
      "source": [
        "test_loss, test_acc = model.evaluate(X_test,y_test)\n",
        "\n",
        "print('Test Loss:', test_loss)\n",
        "print('Test Accuracy:', test_acc)"
      ],
      "metadata": {
        "colab": {
          "base_uri": "https://localhost:8080/"
        },
        "id": "98lfrvSFLNst",
        "outputId": "21d46eeb-68b3-4a30-cd38-44cb844dfc7a"
      },
      "execution_count": 52,
      "outputs": [
        {
          "output_type": "stream",
          "name": "stdout",
          "text": [
            "32/32 [==============================] - 13s 264ms/step - loss: 1.2689 - accuracy: 0.7800\n",
            "Test Loss: 1.2688937187194824\n",
            "Test Accuracy: 0.7799999713897705\n"
          ]
        }
      ]
    }
  ]
}